{
 "cells": [
  {
   "cell_type": "markdown",
   "metadata": {},
   "source": [
    "# 상장리츠데이터를 활용한 부동산 포트폴리오 배분\n",
    "개요: 마코위츠의 포트폴리오이론을 이용하여 부동산 섹터별 포트폴리오 배분전략을 수립\n",
    "가정: 각 리츠의 퍼포먼스가 각 리츠가 담고있는 자산의 퍼포먼스를 대변한다\n",
    "데이터: 상장리츠 일별 종가중 \n",
    "  - 복합리츠 제외\n",
    "  - 너무 최근에 상장된 리츠 제외"
   ]
  },
  {
   "cell_type": "code",
   "execution_count": 18,
   "metadata": {},
   "outputs": [],
   "source": [
    "# 패키지 임포트\n",
    "import pandas as pd\n",
    "import numpy as np\n",
    "import matplotlib.pyplot as plt\n",
    "import seaborn as sns\n",
    "import altair as alt"
   ]
  },
  {
   "cell_type": "code",
   "execution_count": 3,
   "metadata": {},
   "outputs": [],
   "source": [
    "# 데이터 로드 / 가공\n",
    "# 출처: 한국공인회계사회\n",
    "reits_rate = pd.read_excel('reits_rate.xlsx') # 종목 일별수익률\n",
    "reits_sp = pd.read_excel('reits_sp.xlsx')"
   ]
  },
  {
   "cell_type": "code",
   "execution_count": 8,
   "metadata": {},
   "outputs": [],
   "source": [
    "reits_rate['일자'] = pd.to_datetime(reits_rate['일자'].apply(lambda x : str(x)[:4] + '-' + str(x)[4:6] + '-' + str(x)[6:]))"
   ]
  },
  {
   "cell_type": "code",
   "execution_count": 9,
   "metadata": {},
   "outputs": [],
   "source": [
    "reits_rate.set_index('일자', inplace = True)"
   ]
  },
  {
   "cell_type": "code",
   "execution_count": 11,
   "metadata": {},
   "outputs": [
    {
     "data": {
      "text/html": [
       "<div>\n",
       "<style scoped>\n",
       "    .dataframe tbody tr th:only-of-type {\n",
       "        vertical-align: middle;\n",
       "    }\n",
       "\n",
       "    .dataframe tbody tr th {\n",
       "        vertical-align: top;\n",
       "    }\n",
       "\n",
       "    .dataframe thead th {\n",
       "        text-align: right;\n",
       "    }\n",
       "</style>\n",
       "<table border=\"1\" class=\"dataframe\">\n",
       "  <thead>\n",
       "    <tr style=\"text-align: right;\">\n",
       "      <th></th>\n",
       "      <th>ESR종목수익률</th>\n",
       "      <th>에너지리츠종목수익률</th>\n",
       "      <th>맵스종목수익률</th>\n",
       "      <th>이지스레지던스종목수익률</th>\n",
       "      <th>NH프라임종목수익률</th>\n",
       "      <th>신한알파종목수익률</th>\n",
       "      <th>이리츠종목수익률</th>\n",
       "      <th>에이리츠종목수익률</th>\n",
       "      <th>KOSPI수익률</th>\n",
       "    </tr>\n",
       "  </thead>\n",
       "  <tbody>\n",
       "    <tr>\n",
       "      <th>ESR종목수익률</th>\n",
       "      <td>1.000000</td>\n",
       "      <td>0.339665</td>\n",
       "      <td>0.373436</td>\n",
       "      <td>0.349494</td>\n",
       "      <td>0.289733</td>\n",
       "      <td>0.180031</td>\n",
       "      <td>0.361342</td>\n",
       "      <td>0.147839</td>\n",
       "      <td>0.280259</td>\n",
       "    </tr>\n",
       "    <tr>\n",
       "      <th>에너지리츠종목수익률</th>\n",
       "      <td>0.339665</td>\n",
       "      <td>1.000000</td>\n",
       "      <td>0.406357</td>\n",
       "      <td>0.423205</td>\n",
       "      <td>0.366570</td>\n",
       "      <td>0.254984</td>\n",
       "      <td>0.376975</td>\n",
       "      <td>0.119575</td>\n",
       "      <td>0.286701</td>\n",
       "    </tr>\n",
       "    <tr>\n",
       "      <th>맵스종목수익률</th>\n",
       "      <td>0.373436</td>\n",
       "      <td>0.406357</td>\n",
       "      <td>1.000000</td>\n",
       "      <td>0.462016</td>\n",
       "      <td>0.421090</td>\n",
       "      <td>0.293211</td>\n",
       "      <td>0.380020</td>\n",
       "      <td>0.120067</td>\n",
       "      <td>0.295700</td>\n",
       "    </tr>\n",
       "    <tr>\n",
       "      <th>이지스레지던스종목수익률</th>\n",
       "      <td>0.349494</td>\n",
       "      <td>0.423205</td>\n",
       "      <td>0.462016</td>\n",
       "      <td>1.000000</td>\n",
       "      <td>0.337269</td>\n",
       "      <td>0.231133</td>\n",
       "      <td>0.472116</td>\n",
       "      <td>0.147062</td>\n",
       "      <td>0.286031</td>\n",
       "    </tr>\n",
       "    <tr>\n",
       "      <th>NH프라임종목수익률</th>\n",
       "      <td>0.289733</td>\n",
       "      <td>0.366570</td>\n",
       "      <td>0.421090</td>\n",
       "      <td>0.337269</td>\n",
       "      <td>1.000000</td>\n",
       "      <td>0.232391</td>\n",
       "      <td>0.298002</td>\n",
       "      <td>0.099138</td>\n",
       "      <td>0.201952</td>\n",
       "    </tr>\n",
       "    <tr>\n",
       "      <th>신한알파종목수익률</th>\n",
       "      <td>0.180031</td>\n",
       "      <td>0.254984</td>\n",
       "      <td>0.293211</td>\n",
       "      <td>0.231133</td>\n",
       "      <td>0.232391</td>\n",
       "      <td>1.000000</td>\n",
       "      <td>0.311597</td>\n",
       "      <td>0.109959</td>\n",
       "      <td>0.142118</td>\n",
       "    </tr>\n",
       "    <tr>\n",
       "      <th>이리츠종목수익률</th>\n",
       "      <td>0.361342</td>\n",
       "      <td>0.376975</td>\n",
       "      <td>0.380020</td>\n",
       "      <td>0.472116</td>\n",
       "      <td>0.298002</td>\n",
       "      <td>0.311597</td>\n",
       "      <td>1.000000</td>\n",
       "      <td>0.164184</td>\n",
       "      <td>0.262554</td>\n",
       "    </tr>\n",
       "    <tr>\n",
       "      <th>에이리츠종목수익률</th>\n",
       "      <td>0.147839</td>\n",
       "      <td>0.119575</td>\n",
       "      <td>0.120067</td>\n",
       "      <td>0.147062</td>\n",
       "      <td>0.099138</td>\n",
       "      <td>0.109959</td>\n",
       "      <td>0.164184</td>\n",
       "      <td>1.000000</td>\n",
       "      <td>0.194643</td>\n",
       "    </tr>\n",
       "    <tr>\n",
       "      <th>KOSPI수익률</th>\n",
       "      <td>0.280259</td>\n",
       "      <td>0.286701</td>\n",
       "      <td>0.295700</td>\n",
       "      <td>0.286031</td>\n",
       "      <td>0.201952</td>\n",
       "      <td>0.142118</td>\n",
       "      <td>0.262554</td>\n",
       "      <td>0.194643</td>\n",
       "      <td>1.000000</td>\n",
       "    </tr>\n",
       "  </tbody>\n",
       "</table>\n",
       "</div>"
      ],
      "text/plain": [
       "              ESR종목수익률  에너지리츠종목수익률   맵스종목수익률  이지스레지던스종목수익률  NH프라임종목수익률  \\\n",
       "ESR종목수익률      1.000000    0.339665  0.373436      0.349494    0.289733   \n",
       "에너지리츠종목수익률    0.339665    1.000000  0.406357      0.423205    0.366570   \n",
       "맵스종목수익률       0.373436    0.406357  1.000000      0.462016    0.421090   \n",
       "이지스레지던스종목수익률  0.349494    0.423205  0.462016      1.000000    0.337269   \n",
       "NH프라임종목수익률    0.289733    0.366570  0.421090      0.337269    1.000000   \n",
       "신한알파종목수익률     0.180031    0.254984  0.293211      0.231133    0.232391   \n",
       "이리츠종목수익률      0.361342    0.376975  0.380020      0.472116    0.298002   \n",
       "에이리츠종목수익률     0.147839    0.119575  0.120067      0.147062    0.099138   \n",
       "KOSPI수익률      0.280259    0.286701  0.295700      0.286031    0.201952   \n",
       "\n",
       "              신한알파종목수익률  이리츠종목수익률  에이리츠종목수익률  KOSPI수익률  \n",
       "ESR종목수익률       0.180031  0.361342   0.147839  0.280259  \n",
       "에너지리츠종목수익률     0.254984  0.376975   0.119575  0.286701  \n",
       "맵스종목수익률        0.293211  0.380020   0.120067  0.295700  \n",
       "이지스레지던스종목수익률   0.231133  0.472116   0.147062  0.286031  \n",
       "NH프라임종목수익률     0.232391  0.298002   0.099138  0.201952  \n",
       "신한알파종목수익률      1.000000  0.311597   0.109959  0.142118  \n",
       "이리츠종목수익률       0.311597  1.000000   0.164184  0.262554  \n",
       "에이리츠종목수익률      0.109959  0.164184   1.000000  0.194643  \n",
       "KOSPI수익률       0.142118  0.262554   0.194643  1.000000  "
      ]
     },
     "execution_count": 11,
     "metadata": {},
     "output_type": "execute_result"
    }
   ],
   "source": [
    "# 종목 일별수익률간 상관관계\n",
    "reits_rate.corr()"
   ]
  },
  {
   "cell_type": "code",
   "execution_count": 22,
   "metadata": {},
   "outputs": [
    {
     "data": {
      "text/html": [
       "<div>\n",
       "<style scoped>\n",
       "    .dataframe tbody tr th:only-of-type {\n",
       "        vertical-align: middle;\n",
       "    }\n",
       "\n",
       "    .dataframe tbody tr th {\n",
       "        vertical-align: top;\n",
       "    }\n",
       "\n",
       "    .dataframe thead th {\n",
       "        text-align: right;\n",
       "    }\n",
       "</style>\n",
       "<table border=\"1\" class=\"dataframe\">\n",
       "  <thead>\n",
       "    <tr style=\"text-align: right;\">\n",
       "      <th></th>\n",
       "      <th>index</th>\n",
       "      <th>mean</th>\n",
       "      <th>std</th>\n",
       "    </tr>\n",
       "  </thead>\n",
       "  <tbody>\n",
       "    <tr>\n",
       "      <th>0</th>\n",
       "      <td>ESR종목수익률</td>\n",
       "      <td>-0.026044</td>\n",
       "      <td>1.646759</td>\n",
       "    </tr>\n",
       "    <tr>\n",
       "      <th>1</th>\n",
       "      <td>에너지리츠종목수익률</td>\n",
       "      <td>0.033015</td>\n",
       "      <td>0.996977</td>\n",
       "    </tr>\n",
       "    <tr>\n",
       "      <th>2</th>\n",
       "      <td>맵스종목수익률</td>\n",
       "      <td>-0.062784</td>\n",
       "      <td>0.792120</td>\n",
       "    </tr>\n",
       "    <tr>\n",
       "      <th>3</th>\n",
       "      <td>이지스레지던스종목수익률</td>\n",
       "      <td>-0.041423</td>\n",
       "      <td>0.832602</td>\n",
       "    </tr>\n",
       "    <tr>\n",
       "      <th>4</th>\n",
       "      <td>NH프라임종목수익률</td>\n",
       "      <td>-0.001038</td>\n",
       "      <td>0.859117</td>\n",
       "    </tr>\n",
       "    <tr>\n",
       "      <th>5</th>\n",
       "      <td>신한알파종목수익률</td>\n",
       "      <td>-0.015344</td>\n",
       "      <td>0.903486</td>\n",
       "    </tr>\n",
       "    <tr>\n",
       "      <th>6</th>\n",
       "      <td>이리츠종목수익률</td>\n",
       "      <td>-0.008727</td>\n",
       "      <td>0.901094</td>\n",
       "    </tr>\n",
       "    <tr>\n",
       "      <th>7</th>\n",
       "      <td>에이리츠종목수익률</td>\n",
       "      <td>-0.067169</td>\n",
       "      <td>2.893525</td>\n",
       "    </tr>\n",
       "    <tr>\n",
       "      <th>8</th>\n",
       "      <td>KOSPI수익률</td>\n",
       "      <td>-0.007125</td>\n",
       "      <td>1.057162</td>\n",
       "    </tr>\n",
       "  </tbody>\n",
       "</table>\n",
       "</div>"
      ],
      "text/plain": [
       "          index      mean       std\n",
       "0      ESR종목수익률 -0.026044  1.646759\n",
       "1    에너지리츠종목수익률  0.033015  0.996977\n",
       "2       맵스종목수익률 -0.062784  0.792120\n",
       "3  이지스레지던스종목수익률 -0.041423  0.832602\n",
       "4    NH프라임종목수익률 -0.001038  0.859117\n",
       "5     신한알파종목수익률 -0.015344  0.903486\n",
       "6      이리츠종목수익률 -0.008727  0.901094\n",
       "7     에이리츠종목수익률 -0.067169  2.893525\n",
       "8      KOSPI수익률 -0.007125  1.057162"
      ]
     },
     "execution_count": 22,
     "metadata": {},
     "output_type": "execute_result"
    }
   ],
   "source": [
    "reits_rate.describe().loc[['mean','std']].T.reset_index()"
   ]
  },
  {
   "cell_type": "code",
   "execution_count": 19,
   "metadata": {},
   "outputs": [
    {
     "data": {
      "text/plain": [
       "<matplotlib.axes._subplots.AxesSubplot at 0xa1fcaf0>"
      ]
     },
     "execution_count": 19,
     "metadata": {},
     "output_type": "execute_result"
    },
    {
     "data": {
      "image/png": "[encoded data removed]",
      "text/plain": [
       "<Figure size 432x288 with 1 Axes>"
      ]
     },
     "metadata": {
      "needs_background": "light"
     },
     "output_type": "display_data"
    }
   ],
   "source": [
    "sns.scatterplot(data = reits_rate.describe().loc[['mean','std']].T, x = 'std', y = 'mean')"
   ]
  },
  {
   "cell_type": "code",
   "execution_count": 30,
   "metadata": {},
   "outputs": [
    {
     "data": {
      "text/html": [
       "\n",
       "<div id=\"altair-viz-cc54e3f3c82d473cbd0af196be5dbcad\"></div>\n",
       "<script type=\"text/javascript\">\n",
       "  (function(spec, embedOpt){\n",
       "    let outputDiv = document.currentScript.previousElementSibling;\n",
       "    if (outputDiv.id !== \"altair-viz-cc54e3f3c82d473cbd0af196be5dbcad\") {\n",
       "      outputDiv = document.getElementById(\"altair-viz-cc54e3f3c82d473cbd0af196be5dbcad\");\n",
       "    }\n",
       "    const paths = {\n",
       "      \"vega\": \"https://cdn.jsdelivr.net/npm//vega@5?noext\",\n",
       "      \"vega-lib\": \"https://cdn.jsdelivr.net/npm//vega-lib?noext\",\n",
       "      \"vega-lite\": \"https://cdn.jsdelivr.net/npm//vega-lite@4.8.1?noext\",\n",
       "      \"vega-embed\": \"https://cdn.jsdelivr.net/npm//vega-embed@6?noext\",\n",
       "    };\n",
       "\n",
       "    function loadScript(lib) {\n",
       "      return new Promise(function(resolve, reject) {\n",
       "        var s = document.createElement('script');\n",
       "        s.src = paths[lib];\n",
       "        s.async = true;\n",
       "        s.onload = () => resolve(paths[lib]);\n",
       "        s.onerror = () => reject(`Error loading script: ${paths[lib]}`);\n",
       "        document.getElementsByTagName(\"head\")[0].appendChild(s);\n",
       "      });\n",
       "    }\n",
       "\n",
       "    function showError(err) {\n",
       "      outputDiv.innerHTML = `<div class=\"error\" style=\"color:red;\">${err}</div>`;\n",
       "      throw err;\n",
       "    }\n",
       "\n",
       "    function displayChart(vegaEmbed) {\n",
       "      vegaEmbed(outputDiv, spec, embedOpt)\n",
       "        .catch(err => showError(`Javascript Error: ${err.message}<br>This usually means there's a typo in your chart specification. See the javascript console for the full traceback.`));\n",
       "    }\n",
       "\n",
       "    if(typeof define === \"function\" && define.amd) {\n",
       "      requirejs.config({paths});\n",
       "      require([\"vega-embed\"], displayChart, err => showError(`Error loading script: ${err.message}`));\n",
       "    } else if (typeof vegaEmbed === \"function\") {\n",
       "      displayChart(vegaEmbed);\n",
       "    } else {\n",
       "      loadScript(\"vega\")\n",
       "        .then(() => loadScript(\"vega-lite\"))\n",
       "        .then(() => loadScript(\"vega-embed\"))\n",
       "        .catch(showError)\n",
       "        .then(() => displayChart(vegaEmbed));\n",
       "    }\n",
       "  })({\"config\": {\"view\": {\"continuousWidth\": 400, \"continuousHeight\": 300}}, \"layer\": [{\"data\": {\"name\": \"data-3752d795b6fbf2f34a26f25076afe8aa\"}, \"mark\": \"circle\", \"encoding\": {\"x\": {\"type\": \"quantitative\", \"field\": \"std\"}, \"y\": {\"type\": \"quantitative\", \"field\": \"mean\"}}}, {\"data\": {\"name\": \"data-90e22d4e9be8e344c67fbea980e6d41f\"}, \"mark\": {\"type\": \"text\", \"align\": \"left\", \"baseline\": \"line-top\"}, \"encoding\": {\"text\": {\"type\": \"nominal\", \"field\": \"index\"}, \"x\": {\"type\": \"quantitative\", \"field\": \"std\"}, \"y\": {\"type\": \"quantitative\", \"field\": \"mean\"}}}], \"height\": 400, \"width\": 600, \"$schema\": \"https://vega.github.io/schema/vega-lite/v4.8.1.json\", \"datasets\": {\"data-3752d795b6fbf2f34a26f25076afe8aa\": [{\"mean\": -0.02604366772655015, \"std\": 1.6467594357563913}, {\"mean\": 0.03301517647058825, \"std\": 0.9969774975064257}, {\"mean\": -0.06278368521462631, \"std\": 0.7921203743586854}, {\"mean\": -0.04142345786963434, \"std\": 0.832601623042918}, {\"mean\": -0.0010382098569157163, \"std\": 0.8591174844938146}, {\"mean\": -0.01534391573926861, \"std\": 0.9034861226927783}, {\"mean\": -0.00872705087440384, \"std\": 0.9010943498647761}, {\"mean\": -0.06716933068362482, \"std\": 2.8935245690379183}], \"data-90e22d4e9be8e344c67fbea980e6d41f\": [{\"index\": \"ESR\\uc885\\ubaa9\\uc218\\uc775\\ub960\", \"mean\": -0.02604366772655015, \"std\": 1.6467594357563913}, {\"index\": \"\\uc5d0\\ub108\\uc9c0\\ub9ac\\uce20\\uc885\\ubaa9\\uc218\\uc775\\ub960\", \"mean\": 0.03301517647058825, \"std\": 0.9969774975064257}, {\"index\": \"\\ub9f5\\uc2a4\\uc885\\ubaa9\\uc218\\uc775\\ub960\", \"mean\": -0.06278368521462631, \"std\": 0.7921203743586854}, {\"index\": \"\\uc774\\uc9c0\\uc2a4\\ub808\\uc9c0\\ub358\\uc2a4\\uc885\\ubaa9\\uc218\\uc775\\ub960\", \"mean\": -0.04142345786963434, \"std\": 0.832601623042918}, {\"index\": \"NH\\ud504\\ub77c\\uc784\\uc885\\ubaa9\\uc218\\uc775\\ub960\", \"mean\": -0.0010382098569157163, \"std\": 0.8591174844938146}, {\"index\": \"\\uc2e0\\ud55c\\uc54c\\ud30c\\uc885\\ubaa9\\uc218\\uc775\\ub960\", \"mean\": -0.01534391573926861, \"std\": 0.9034861226927783}, {\"index\": \"\\uc774\\ub9ac\\uce20\\uc885\\ubaa9\\uc218\\uc775\\ub960\", \"mean\": -0.00872705087440384, \"std\": 0.9010943498647761}, {\"index\": \"\\uc5d0\\uc774\\ub9ac\\uce20\\uc885\\ubaa9\\uc218\\uc775\\ub960\", \"mean\": -0.06716933068362482, \"std\": 2.8935245690379183}]}}, {\"mode\": \"vega-lite\"});\n",
       "</script>"
      ],
      "text/plain": [
       "alt.LayerChart(...)"
      ]
     },
     "execution_count": 30,
     "metadata": {},
     "output_type": "execute_result"
    }
   ],
   "source": [
    "circle = alt.Chart(reits_rate.describe().loc[['mean','std']].T.drop('KOSPI수익률')).mark_circle().encode(\n",
    "    x = alt.X('std'),\n",
    "    y = alt.Y('mean')\n",
    ")\n",
    "\n",
    "text = alt.Chart(reits_rate.describe().loc[['mean','std']].T.drop('KOSPI수익률').reset_index()).mark_text(align='left', baseline='line-top').encode(\n",
    "    x = 'std',\n",
    "    y = 'mean',\n",
    "    text = 'index'\n",
    "    \n",
    ")\n",
    "\n",
    "(circle + text).properties(width = 600, height = 400)"
   ]
  },
  {
   "cell_type": "code",
   "execution_count": 37,
   "metadata": {},
   "outputs": [],
   "source": [
    "r2 = reits_rate.drop(['KOSPI수익률','ESR종목수익률','에이리츠종목수익률'], axis = 1)"
   ]
  },
  {
   "cell_type": "code",
   "execution_count": 38,
   "metadata": {},
   "outputs": [
    {
     "data": {
      "text/plain": [
       "6"
      ]
     },
     "execution_count": 38,
     "metadata": {},
     "output_type": "execute_result"
    }
   ],
   "source": [
    "len(r2.columns)"
   ]
  },
  {
   "cell_type": "code",
   "execution_count": 39,
   "metadata": {},
   "outputs": [
    {
     "data": {
      "text/plain": [
       "1000000"
      ]
     },
     "execution_count": 39,
     "metadata": {},
     "output_type": "execute_result"
    }
   ],
   "source": [
    "10**6"
   ]
  },
  {
   "cell_type": "code",
   "execution_count": 45,
   "metadata": {},
   "outputs": [
    {
     "data": {
      "text/plain": [
       "array([[0.05552352, 0.38179397, 0.17167064, 0.11644309, 0.21061717,\n",
       "        0.06395162],\n",
       "       [0.16265969, 0.09265758, 0.26096135, 0.01388896, 0.22973893,\n",
       "        0.24009349],\n",
       "       [0.39889187, 0.06942612, 0.23166257, 0.00059449, 0.27935657,\n",
       "        0.02006837]])"
      ]
     },
     "execution_count": 45,
     "metadata": {},
     "output_type": "execute_result"
    }
   ],
   "source": [
    "from scipy.stats import dirichlet\n",
    "\n",
    "X = dirichlet((1,1,1,1,1,1)).rvs(1000)\n",
    "X[:3]"
   ]
  },
  {
   "cell_type": "code",
   "execution_count": 75,
   "metadata": {},
   "outputs": [
    {
     "data": {
      "text/html": [
       "<div>\n",
       "<style scoped>\n",
       "    .dataframe tbody tr th:only-of-type {\n",
       "        vertical-align: middle;\n",
       "    }\n",
       "\n",
       "    .dataframe tbody tr th {\n",
       "        vertical-align: top;\n",
       "    }\n",
       "\n",
       "    .dataframe thead th {\n",
       "        text-align: right;\n",
       "    }\n",
       "</style>\n",
       "<table border=\"1\" class=\"dataframe\">\n",
       "  <thead>\n",
       "    <tr style=\"text-align: right;\">\n",
       "      <th></th>\n",
       "      <th>에너지리츠종목수익률</th>\n",
       "      <th>맵스종목수익률</th>\n",
       "      <th>이지스레지던스종목수익률</th>\n",
       "      <th>NH프라임종목수익률</th>\n",
       "      <th>신한알파종목수익률</th>\n",
       "      <th>이리츠종목수익률</th>\n",
       "    </tr>\n",
       "    <tr>\n",
       "      <th>일자</th>\n",
       "      <th></th>\n",
       "      <th></th>\n",
       "      <th></th>\n",
       "      <th></th>\n",
       "      <th></th>\n",
       "      <th></th>\n",
       "    </tr>\n",
       "  </thead>\n",
       "  <tbody>\n",
       "    <tr>\n",
       "      <th>2023-07-13</th>\n",
       "      <td>0.894454</td>\n",
       "      <td>0.946372</td>\n",
       "      <td>1.328021</td>\n",
       "      <td>-0.833333</td>\n",
       "      <td>0.324675</td>\n",
       "      <td>2.805611</td>\n",
       "    </tr>\n",
       "    <tr>\n",
       "      <th>2023-07-12</th>\n",
       "      <td>0.179211</td>\n",
       "      <td>0.000000</td>\n",
       "      <td>-0.132626</td>\n",
       "      <td>-0.473934</td>\n",
       "      <td>0.000000</td>\n",
       "      <td>-0.597610</td>\n",
       "    </tr>\n",
       "    <tr>\n",
       "      <th>2023-07-11</th>\n",
       "      <td>-0.178891</td>\n",
       "      <td>0.316456</td>\n",
       "      <td>-0.658762</td>\n",
       "      <td>0.836320</td>\n",
       "      <td>-0.162075</td>\n",
       "      <td>-0.198807</td>\n",
       "    </tr>\n",
       "    <tr>\n",
       "      <th>2023-07-10</th>\n",
       "      <td>-0.533808</td>\n",
       "      <td>0.317460</td>\n",
       "      <td>-0.262812</td>\n",
       "      <td>-1.063830</td>\n",
       "      <td>0.000000</td>\n",
       "      <td>-0.592885</td>\n",
       "    </tr>\n",
       "    <tr>\n",
       "      <th>2023-07-07</th>\n",
       "      <td>-0.354610</td>\n",
       "      <td>-2.777778</td>\n",
       "      <td>-0.131234</td>\n",
       "      <td>-1.052632</td>\n",
       "      <td>-0.803859</td>\n",
       "      <td>-0.978474</td>\n",
       "    </tr>\n",
       "    <tr>\n",
       "      <th>...</th>\n",
       "      <td>...</td>\n",
       "      <td>...</td>\n",
       "      <td>...</td>\n",
       "      <td>...</td>\n",
       "      <td>...</td>\n",
       "      <td>...</td>\n",
       "    </tr>\n",
       "    <tr>\n",
       "      <th>2021-01-05</th>\n",
       "      <td>0.084674</td>\n",
       "      <td>-0.741525</td>\n",
       "      <td>0.412797</td>\n",
       "      <td>-0.351700</td>\n",
       "      <td>0.286533</td>\n",
       "      <td>-0.371747</td>\n",
       "    </tr>\n",
       "    <tr>\n",
       "      <th>2021-01-04</th>\n",
       "      <td>-0.190154</td>\n",
       "      <td>-0.736067</td>\n",
       "      <td>-1.624365</td>\n",
       "      <td>0.000000</td>\n",
       "      <td>-0.838187</td>\n",
       "      <td>-0.554529</td>\n",
       "    </tr>\n",
       "    <tr>\n",
       "      <th>2020-12-30</th>\n",
       "      <td>-0.105530</td>\n",
       "      <td>-0.105042</td>\n",
       "      <td>0.000000</td>\n",
       "      <td>-0.117096</td>\n",
       "      <td>0.284941</td>\n",
       "      <td>-0.184502</td>\n",
       "    </tr>\n",
       "    <tr>\n",
       "      <th>2020-12-29</th>\n",
       "      <td>0.000000</td>\n",
       "      <td>-1.347150</td>\n",
       "      <td>-2.281746</td>\n",
       "      <td>-0.116959</td>\n",
       "      <td>-0.284131</td>\n",
       "      <td>-2.166065</td>\n",
       "    </tr>\n",
       "    <tr>\n",
       "      <th>2020-12-28</th>\n",
       "      <td>0.211506</td>\n",
       "      <td>-0.412797</td>\n",
       "      <td>-0.395257</td>\n",
       "      <td>-0.349650</td>\n",
       "      <td>-0.141864</td>\n",
       "      <td>-0.359712</td>\n",
       "    </tr>\n",
       "  </tbody>\n",
       "</table>\n",
       "<p>629 rows × 6 columns</p>\n",
       "</div>"
      ],
      "text/plain": [
       "            에너지리츠종목수익률   맵스종목수익률  이지스레지던스종목수익률  NH프라임종목수익률  신한알파종목수익률  \\\n",
       "일자                                                                      \n",
       "2023-07-13    0.894454  0.946372      1.328021   -0.833333   0.324675   \n",
       "2023-07-12    0.179211  0.000000     -0.132626   -0.473934   0.000000   \n",
       "2023-07-11   -0.178891  0.316456     -0.658762    0.836320  -0.162075   \n",
       "2023-07-10   -0.533808  0.317460     -0.262812   -1.063830   0.000000   \n",
       "2023-07-07   -0.354610 -2.777778     -0.131234   -1.052632  -0.803859   \n",
       "...                ...       ...           ...         ...        ...   \n",
       "2021-01-05    0.084674 -0.741525      0.412797   -0.351700   0.286533   \n",
       "2021-01-04   -0.190154 -0.736067     -1.624365    0.000000  -0.838187   \n",
       "2020-12-30   -0.105530 -0.105042      0.000000   -0.117096   0.284941   \n",
       "2020-12-29    0.000000 -1.347150     -2.281746   -0.116959  -0.284131   \n",
       "2020-12-28    0.211506 -0.412797     -0.395257   -0.349650  -0.141864   \n",
       "\n",
       "            이리츠종목수익률  \n",
       "일자                    \n",
       "2023-07-13  2.805611  \n",
       "2023-07-12 -0.597610  \n",
       "2023-07-11 -0.198807  \n",
       "2023-07-10 -0.592885  \n",
       "2023-07-07 -0.978474  \n",
       "...              ...  \n",
       "2021-01-05 -0.371747  \n",
       "2021-01-04 -0.554529  \n",
       "2020-12-30 -0.184502  \n",
       "2020-12-29 -2.166065  \n",
       "2020-12-28 -0.359712  \n",
       "\n",
       "[629 rows x 6 columns]"
      ]
     },
     "execution_count": 75,
     "metadata": {},
     "output_type": "execute_result"
    }
   ],
   "source": [
    "k = {}\n",
    "r2  "
   ]
  },
  {
   "cell_type": "code",
   "execution_count": null,
   "metadata": {},
   "outputs": [],
   "source": []
  },
  {
   "cell_type": "code",
   "execution_count": 56,
   "metadata": {},
   "outputs": [],
   "source": [
    "reits_sp['일자'] = pd.to_datetime(reits_sp['일자'].apply(lambda x : str(x)[:4] + '-' + str(x)[4:6] + '-' + str(x)[6:]))\n",
    "reits_sp.set_index('일자', inplace = True)"
   ]
  },
  {
   "cell_type": "code",
   "execution_count": 99,
   "metadata": {},
   "outputs": [],
   "source": [
    "rs2 = reits_sp.drop(['KOSPI종가','ESR종목종가','에이리츠'], axis = 1)\n",
    "k = {}\n",
    "for idx, i in enumerate(X):\n",
    "    _x = (rs2 * i).sum(axis = 1).pct_change(periods = -1).dropna()*100\n",
    "    k[idx] = {}\n",
    "    k[idx]['mean'] = _x.mean()\n",
    "    k[idx]['std'] = _x.std()"
   ]
  },
  {
   "cell_type": "code",
   "execution_count": 102,
   "metadata": {},
   "outputs": [],
   "source": [
    "portfolio = pd.DataFrame(k).T"
   ]
  },
  {
   "cell_type": "code",
   "execution_count": 103,
   "metadata": {},
   "outputs": [
    {
     "data": {
      "text/html": [
       "<div>\n",
       "<style scoped>\n",
       "    .dataframe tbody tr th:only-of-type {\n",
       "        vertical-align: middle;\n",
       "    }\n",
       "\n",
       "    .dataframe tbody tr th {\n",
       "        vertical-align: top;\n",
       "    }\n",
       "\n",
       "    .dataframe thead th {\n",
       "        text-align: right;\n",
       "    }\n",
       "</style>\n",
       "<table border=\"1\" class=\"dataframe\">\n",
       "  <thead>\n",
       "    <tr style=\"text-align: right;\">\n",
       "      <th></th>\n",
       "      <th>mean</th>\n",
       "      <th>std</th>\n",
       "    </tr>\n",
       "  </thead>\n",
       "  <tbody>\n",
       "    <tr>\n",
       "      <th>0</th>\n",
       "      <td>-0.031936</td>\n",
       "      <td>0.592466</td>\n",
       "    </tr>\n",
       "    <tr>\n",
       "      <th>1</th>\n",
       "      <td>-0.017313</td>\n",
       "      <td>0.624132</td>\n",
       "    </tr>\n",
       "    <tr>\n",
       "      <th>2</th>\n",
       "      <td>-0.006394</td>\n",
       "      <td>0.672689</td>\n",
       "    </tr>\n",
       "    <tr>\n",
       "      <th>3</th>\n",
       "      <td>-0.012688</td>\n",
       "      <td>0.659646</td>\n",
       "    </tr>\n",
       "    <tr>\n",
       "      <th>4</th>\n",
       "      <td>-0.009382</td>\n",
       "      <td>0.651984</td>\n",
       "    </tr>\n",
       "  </tbody>\n",
       "</table>\n",
       "</div>"
      ],
      "text/plain": [
       "       mean       std\n",
       "0 -0.031936  0.592466\n",
       "1 -0.017313  0.624132\n",
       "2 -0.006394  0.672689\n",
       "3 -0.012688  0.659646\n",
       "4 -0.009382  0.651984"
      ]
     },
     "execution_count": 103,
     "metadata": {},
     "output_type": "execute_result"
    }
   ],
   "source": [
    "portfolio.head()"
   ]
  },
  {
   "cell_type": "code",
   "execution_count": 153,
   "metadata": {},
   "outputs": [
    {
     "data": {
      "text/html": [
       "<div>\n",
       "<style scoped>\n",
       "    .dataframe tbody tr th:only-of-type {\n",
       "        vertical-align: middle;\n",
       "    }\n",
       "\n",
       "    .dataframe tbody tr th {\n",
       "        vertical-align: top;\n",
       "    }\n",
       "\n",
       "    .dataframe thead th {\n",
       "        text-align: right;\n",
       "    }\n",
       "</style>\n",
       "<table border=\"1\" class=\"dataframe\">\n",
       "  <thead>\n",
       "    <tr style=\"text-align: right;\">\n",
       "      <th></th>\n",
       "      <th>mean</th>\n",
       "      <th>std</th>\n",
       "      <th>text</th>\n",
       "    </tr>\n",
       "  </thead>\n",
       "  <tbody>\n",
       "    <tr>\n",
       "      <th>541</th>\n",
       "      <td>0.00544</td>\n",
       "      <td>0.679612</td>\n",
       "      <td>적정포트폴리오</td>\n",
       "    </tr>\n",
       "  </tbody>\n",
       "</table>\n",
       "</div>"
      ],
      "text/plain": [
       "        mean       std     text\n",
       "541  0.00544  0.679612  적정포트폴리오"
      ]
     },
     "execution_count": 153,
     "metadata": {},
     "output_type": "execute_result"
    }
   ],
   "source": [
    "#720 / 541\n",
    "p2_annot = portfolio.loc[[541]]\n",
    "p2_annot['text'] = '적정포트폴리오'\n",
    "p2_annot"
   ]
  },
  {
   "cell_type": "code",
   "execution_count": 128,
   "metadata": {},
   "outputs": [],
   "source": [
    "p2_annot2 = p2_annot.copy()\n",
    "p2_annot2['mean'] = -0.02\n",
    "p2_annot2['std'] = 0.62\n",
    "p2_annot2['text'] = '잠재포트폴리오집단'"
   ]
  },
  {
   "cell_type": "code",
   "execution_count": 155,
   "metadata": {},
   "outputs": [
    {
     "data": {
      "text/html": [
       "\n",
       "<div id=\"altair-viz-57da8b4975a140f09b8972db4978d0e0\"></div>\n",
       "<script type=\"text/javascript\">\n",
       "  (function(spec, embedOpt){\n",
       "    let outputDiv = document.currentScript.previousElementSibling;\n",
       "    if (outputDiv.id !== \"altair-viz-57da8b4975a140f09b8972db4978d0e0\") {\n",
       "      outputDiv = document.getElementById(\"altair-viz-57da8b4975a140f09b8972db4978d0e0\");\n",
       "    }\n",
       "    const paths = {\n",
       "      \"vega\": \"https://cdn.jsdelivr.net/npm//vega@5?noext\",\n",
       "      \"vega-lib\": \"https://cdn.jsdelivr.net/npm//vega-lib?noext\",\n",
       "      \"vega-lite\": \"https://cdn.jsdelivr.net/npm//vega-lite@4.8.1?noext\",\n",
       "      \"vega-embed\": \"https://cdn.jsdelivr.net/npm//vega-embed@6?noext\",\n",
       "    };\n",
       "\n",
       "    function loadScript(lib) {\n",
       "      return new Promise(function(resolve, reject) {\n",
       "        var s = document.createElement('script');\n",
       "        s.src = paths[lib];\n",
       "        s.async = true;\n",
       "        s.onload = () => resolve(paths[lib]);\n",
       "        s.onerror = () => reject(`Error loading script: ${paths[lib]}`);\n",
       "        document.getElementsByTagName(\"head\")[0].appendChild(s);\n",
       "      });\n",
       "    }\n",
       "\n",
       "    function showError(err) {\n",
       "      outputDiv.innerHTML = `<div class=\"error\" style=\"color:red;\">${err}</div>`;\n",
       "      throw err;\n",
       "    }\n",
       "\n",
       "    function displayChart(vegaEmbed) {\n",
       "      vegaEmbed(outputDiv, spec, embedOpt)\n",
       "        .catch(err => showError(`Javascript Error: ${err.message}<br>This usually means there's a typo in your chart specification. See the javascript console for the full traceback.`));\n",
       "    }\n",
       "\n",
       "    if(typeof define === \"function\" && define.amd) {\n",
       "      requirejs.config({paths});\n",
       "      require([\"vega-embed\"], displayChart, err => showError(`Error loading script: ${err.message}`));\n",
       "    } else if (typeof vegaEmbed === \"function\") {\n",
       "      displayChart(vegaEmbed);\n",
       "    } else {\n",
       "      loadScript(\"vega\")\n",
       "        .then(() => loadScript(\"vega-lite\"))\n",
       "        .then(() => loadScript(\"vega-embed\"))\n",
       "        .catch(showError)\n",
       "        .then(() => displayChart(vegaEmbed));\n",
       "    }\n",
       "  })({\"config\": {\"view\": {\"continuousWidth\": 400, \"continuousHeight\": 300}}, \"layer\": [{\"data\": {\"name\": \"data-d793aee394235e64edd539188add876a\"}, \"mark\": \"circle\", \"encoding\": {\"x\": {\"type\": \"quantitative\", \"field\": \"std\", \"scale\": {\"domain\": [0.5, 1.15]}}, \"y\": {\"type\": \"quantitative\", \"field\": \"mean\"}}}, {\"data\": {\"name\": \"data-68a1ec120b5da42a62100597d6ab7d5f\"}, \"mark\": {\"type\": \"text\", \"align\": \"left\", \"baseline\": \"line-top\"}, \"encoding\": {\"text\": {\"type\": \"nominal\", \"field\": \"index\"}, \"x\": {\"type\": \"quantitative\", \"field\": \"std\"}, \"y\": {\"type\": \"quantitative\", \"field\": \"mean\"}}}, {\"data\": {\"name\": \"data-46aa64bad20dc657d4c3ab88e48d5856\"}, \"mark\": {\"type\": \"circle\", \"color\": \"green\"}, \"encoding\": {\"x\": {\"type\": \"quantitative\", \"field\": \"std\"}, \"y\": {\"type\": \"quantitative\", \"field\": \"mean\"}}}, {\"data\": {\"name\": \"data-31799f26c9fec62face83e0013e14e40\"}, \"mark\": {\"type\": \"circle\", \"color\": \"red\", \"size\": 200}, \"encoding\": {\"x\": {\"type\": \"quantitative\", \"field\": \"std\"}, \"y\": {\"type\": \"quantitative\", \"field\": \"mean\"}}}, {\"data\": {\"name\": \"data-11fa1df39925ae43e90f53a8e125f581\"}, \"mark\": {\"type\": \"text\", \"align\": \"right\"}, \"encoding\": {\"text\": {\"type\": \"nominal\", \"field\": \"text\"}, \"x\": {\"type\": \"quantitative\", \"field\": \"std\"}, \"y\": {\"type\": \"quantitative\", \"field\": \"mean\"}}}, {\"data\": {\"name\": \"data-98cdb098d832f8f943c4a74e5a8a420f\"}, \"mark\": {\"type\": \"text\", \"align\": \"left\", \"color\": \"black\", \"fontWeight\": \"bold\", \"size\": 15}, \"encoding\": {\"text\": {\"type\": \"nominal\", \"field\": \"text\"}, \"x\": {\"type\": \"quantitative\", \"field\": \"std\"}, \"y\": {\"type\": \"quantitative\", \"field\": \"mean\"}}}], \"height\": 400, \"width\": 600, \"$schema\": \"https://vega.github.io/schema/vega-lite/v4.8.1.json\", \"datasets\": {\"data-d793aee394235e64edd539188add876a\": [{\"mean\": 0.03301517647058825, \"std\": 0.9969774975064257}, {\"mean\": -0.06278368521462631, \"std\": 0.7921203743586854}, {\"mean\": -0.04142345786963434, \"std\": 0.832601623042918}, {\"mean\": -0.0010382098569157163, \"std\": 0.8591174844938146}, {\"mean\": -0.01534391573926861, \"std\": 0.9034861226927783}, {\"mean\": -0.00872705087440384, \"std\": 0.9010943498647761}], \"data-68a1ec120b5da42a62100597d6ab7d5f\": [{\"index\": \"\\uc5d0\\ub108\\uc9c0\\ub9ac\\uce20\\uc885\\ubaa9\\uc218\\uc775\\ub960\", \"mean\": 0.03301517647058825, \"std\": 0.9969774975064257}, {\"index\": \"\\ub9f5\\uc2a4\\uc885\\ubaa9\\uc218\\uc775\\ub960\", \"mean\": -0.06278368521462631, \"std\": 0.7921203743586854}, {\"index\": \"\\uc774\\uc9c0\\uc2a4\\ub808\\uc9c0\\ub358\\uc2a4\\uc885\\ubaa9\\uc218\\uc775\\ub960\", \"mean\": -0.04142345786963434, \"std\": 0.832601623042918}, {\"index\": \"NH\\ud504\\ub77c\\uc784\\uc885\\ubaa9\\uc218\\uc775\\ub960\", \"mean\": -0.0010382098569157163, \"std\": 0.8591174844938146}, {\"index\": \"\\uc2e0\\ud55c\\uc54c\\ud30c\\uc885\\ubaa9\\uc218\\uc775\\ub960\", \"mean\": -0.01534391573926861, \"std\": 0.9034861226927783}, {\"index\": \"\\uc774\\ub9ac\\uce20\\uc885\\ubaa9\\uc218\\uc775\\ub960\", \"mean\": -0.00872705087440384, \"std\": 0.9010943498647761}], \"data-46aa64bad20dc657d4c3ab88e48d5856\": [{\"mean\": -0.031935571602173224, \"std\": 0.592465903523984}, {\"mean\": -0.017312525551317612, \"std\": 0.6241318551492175}, {\"mean\": -0.006394431620547421, \"std\": 0.6726890850557571}, {\"mean\": -0.012687755421083188, \"std\": 0.6596462979413624}, {\"mean\": -0.009382123836607697, \"std\": 0.6519838676209563}, {\"mean\": -0.010296021586865569, \"std\": 0.6820768727412936}, {\"mean\": -0.02277138260616294, \"std\": 0.6325896662124348}, {\"mean\": -0.018002003970103604, \"std\": 0.6024324268204299}, {\"mean\": -0.022580691331158968, \"std\": 0.6190549689523002}, {\"mean\": -0.013357764650738397, \"std\": 0.6157169741187164}, {\"mean\": -0.02544818065536188, \"std\": 0.6085159871191766}, {\"mean\": 0.007361401429479499, \"std\": 0.7112065863100159}, {\"mean\": -0.024822390078531077, \"std\": 0.5978581272773019}, {\"mean\": -0.021767263272516713, \"std\": 0.6102933171641571}, {\"mean\": -0.027246372622070105, \"std\": 0.6101029459846113}, {\"mean\": -0.008539666163146893, \"std\": 0.6432517191885647}, {\"mean\": -0.010545015926513697, \"std\": 0.619196619951023}, {\"mean\": -0.01511165393270767, \"std\": 0.6064453590051543}, {\"mean\": -0.011217454044944428, \"std\": 0.6237577118980957}, {\"mean\": -0.002387980049445612, \"std\": 0.6720572610008702}, {\"mean\": -0.0252691680666887, \"std\": 0.593416254217467}, {\"mean\": -0.04508490591759299, \"std\": 0.6518341568201472}, {\"mean\": -0.003637820719265844, \"std\": 0.6525986486547971}, {\"mean\": -0.023023788943696586, \"std\": 0.5935583551933054}, {\"mean\": -0.03743324420086432, \"std\": 0.6297617709775374}, {\"mean\": -0.026248334160566465, \"std\": 0.6281764992787723}, {\"mean\": -0.013623304733025615, \"std\": 0.6098736765035103}, {\"mean\": -0.011184722086115, \"std\": 0.608357177337096}, {\"mean\": -0.0020994750547906654, \"std\": 0.6525721714588065}, {\"mean\": -0.03637984594903629, \"std\": 0.6151699591744869}, {\"mean\": 0.004983203274539551, \"std\": 0.7224930414802715}, {\"mean\": -0.004456342019055459, \"std\": 0.6533372062676697}, {\"mean\": -0.02710707831853761, \"std\": 0.5904567160411829}, {\"mean\": -0.016078028664807648, \"std\": 0.683113719460906}, {\"mean\": -0.027566672747600825, \"std\": 0.6148081384930838}, {\"mean\": -0.02612109932822435, \"std\": 0.6224616540155029}, {\"mean\": -0.021381756802198438, \"std\": 0.636948831851685}, {\"mean\": -0.014369269493109137, \"std\": 0.6146425506763978}, {\"mean\": -0.020596961789992707, \"std\": 0.7561451834168875}, {\"mean\": -0.007065357647441464, \"std\": 0.6120681296191169}, {\"mean\": -0.026973751067487447, \"std\": 0.6379981549123156}, {\"mean\": -0.03867317698913785, \"std\": 0.6263047610290563}, {\"mean\": 0.008003897436058366, \"std\": 0.7395412178065202}, {\"mean\": -0.020900304199795175, \"std\": 0.6350355690232713}, {\"mean\": -0.01729261558327646, \"std\": 0.6117814476284774}, {\"mean\": -0.01918878387160059, \"std\": 0.6105744475881487}, {\"mean\": -0.02373642939301652, \"std\": 0.6531361968313711}, {\"mean\": -0.019692128429328867, \"std\": 0.6142035621010083}, {\"mean\": -0.01348410171980522, \"std\": 0.6158149250292929}, {\"mean\": -0.02239855747365319, \"std\": 0.5923557950491053}, {\"mean\": -0.023932172104408005, \"std\": 0.5881884912394827}, {\"mean\": -0.0349520887490047, \"std\": 0.608147547518244}, {\"mean\": -0.011776816764749677, \"std\": 0.6134043903286275}, {\"mean\": -0.002102243028381576, \"std\": 0.6612191506079311}, {\"mean\": -0.034104188620617905, \"std\": 0.6800520344679374}, {\"mean\": -0.025165345866757217, \"std\": 0.6346356452422703}, {\"mean\": -0.013579828308913086, \"std\": 0.6720391197465092}, {\"mean\": -0.023771320619800848, \"std\": 0.6516298567928028}, {\"mean\": -0.018745860799911005, \"std\": 0.595109886529308}, {\"mean\": -0.005523389993642495, \"std\": 0.6364566988839135}, {\"mean\": -0.011076540822838727, \"std\": 0.6539956770653305}, {\"mean\": 0.0011358203114007195, \"std\": 0.6588641790362118}, {\"mean\": -0.0243243078376116, \"std\": 0.6285205540886765}, {\"mean\": -0.012947715465989515, \"std\": 0.6403171313413565}, {\"mean\": -0.01467674382476465, \"std\": 0.6188219345278269}, {\"mean\": -0.030284876514940686, \"std\": 0.6283819790049178}, {\"mean\": -0.011813273276859914, \"std\": 0.6448984494977865}, {\"mean\": -0.012307775912155618, \"std\": 0.6173584089963614}, {\"mean\": -0.016954120299327628, \"std\": 0.6248246272761699}, {\"mean\": -0.021896770995543807, \"std\": 0.6075751968746829}, {\"mean\": -0.0020729735406478382, \"std\": 0.6305206968229524}, {\"mean\": -0.013491237892936022, \"std\": 0.6008690451909758}, {\"mean\": -0.0024969545098637073, \"std\": 0.6618132508717771}, {\"mean\": -0.014515037505521454, \"std\": 0.6033200542075181}, {\"mean\": -0.012441874740895125, \"std\": 0.6184947177589049}, {\"mean\": -0.0261957163006788, \"std\": 0.6478476884240735}, {\"mean\": -0.018376921084866448, \"std\": 0.6173314421923981}, {\"mean\": -0.015145170476413582, \"std\": 0.6384065104846727}, {\"mean\": -0.018837348827867632, \"std\": 0.6040219403527329}, {\"mean\": -0.012167395061105073, \"std\": 0.6400902732344086}, {\"mean\": -0.0014666761440317055, \"std\": 0.7056150299910577}, {\"mean\": -0.017935636003691736, \"std\": 0.6566743148859401}, {\"mean\": -0.014365104812328007, \"std\": 0.6601432301692141}, {\"mean\": -0.026595500644874506, \"std\": 0.6870481922593951}, {\"mean\": -0.00843884603245303, \"std\": 0.6661300782234941}, {\"mean\": -0.013349483136776728, \"std\": 0.6372722809103057}, {\"mean\": -0.03659291069090562, \"std\": 0.6153442035437113}, {\"mean\": -0.023028493543421995, \"std\": 0.6564382963362622}, {\"mean\": -0.0427560803375297, \"std\": 0.6615323107109536}, {\"mean\": -0.01698471814672722, \"std\": 0.6518959759584018}, {\"mean\": -0.027444462375104315, \"std\": 0.6151751358531805}, {\"mean\": -0.005882915645012055, \"std\": 0.6808723533474577}, {\"mean\": -0.03211056501132659, \"std\": 0.605386760826552}, {\"mean\": -0.033920214480934734, \"std\": 0.6820013076520914}, {\"mean\": -0.03523240361198712, \"std\": 0.6185639896890154}, {\"mean\": -0.013817972871939513, \"std\": 0.6731590684876093}, {\"mean\": -0.013034257095392535, \"std\": 0.6731288216854024}, {\"mean\": -0.02896709935735724, \"std\": 0.6466637227197077}, {\"mean\": -0.025769643329486096, \"std\": 0.6130463293944395}, {\"mean\": -0.0145075241815692, \"std\": 0.6083581591227738}, {\"mean\": -0.02133892637046866, \"std\": 0.6411197355006666}, {\"mean\": -0.009265068936685588, \"std\": 0.6210981749986373}, {\"mean\": -0.027604967600512488, \"std\": 0.662820014734947}, {\"mean\": -0.01952030141725449, \"std\": 0.6329124000376422}, {\"mean\": -0.021785038276894327, \"std\": 0.7177608236702532}, {\"mean\": -0.0130076436379326, \"std\": 0.6526438824357182}, {\"mean\": -0.03316887387078181, \"std\": 0.6309093157138018}, {\"mean\": -0.018103376247312376, \"std\": 0.6271645310046937}, {\"mean\": -0.011819515324903235, \"std\": 0.6021064193772986}, {\"mean\": -0.0057474266185183285, \"std\": 0.6408821576314874}, {\"mean\": -0.010257091728567138, \"std\": 0.6831523849887268}, {\"mean\": -0.010626081362403747, \"std\": 0.6055283195697053}, {\"mean\": -0.017337001657245, \"std\": 0.6101427452894803}, {\"mean\": -0.004790353655844276, \"std\": 0.6780420783103261}, {\"mean\": -0.012769458355315049, \"std\": 0.6513715091067963}, {\"mean\": -0.012558377897200506, \"std\": 0.6178638185245504}, {\"mean\": -0.026915902485713412, \"std\": 0.6127567229482495}, {\"mean\": -0.018612470350805547, \"std\": 0.6291340159053055}, {\"mean\": -0.015151970386217338, \"std\": 0.6911774350692583}, {\"mean\": -0.01553070392804467, \"std\": 0.6219568701951435}, {\"mean\": -0.017105708719844303, \"std\": 0.6837333080541134}, {\"mean\": -0.028442024843336515, \"std\": 0.6210823075852934}, {\"mean\": -0.022573521594949374, \"std\": 0.6464796458632971}, {\"mean\": -0.015528669541694531, \"std\": 0.6032120640799692}, {\"mean\": -0.01497486374173774, \"std\": 0.6920062424694559}, {\"mean\": -0.016004143236495728, \"std\": 0.6436803910124176}, {\"mean\": -0.010115564394855265, \"std\": 0.623337689773756}, {\"mean\": -0.014713322362762318, \"std\": 0.6027442995760639}, {\"mean\": -0.024893845451122065, \"std\": 0.6053546988787533}, {\"mean\": -0.033069200534321865, \"std\": 0.5945449962340913}, {\"mean\": -0.03808624358786275, \"std\": 0.6497689143014638}, {\"mean\": -0.01268660333684848, \"std\": 0.620809185034981}, {\"mean\": -0.018132729064375755, \"std\": 0.6171361156549635}, {\"mean\": -0.019768936221093825, \"std\": 0.67633408663944}, {\"mean\": -0.016367130691739378, \"std\": 0.6110576077774807}, {\"mean\": -0.014082805409694697, \"std\": 0.6586881875276097}, {\"mean\": -0.010318710509678034, \"std\": 0.658214054752158}, {\"mean\": -0.02155037025869854, \"std\": 0.6720151661683893}, {\"mean\": -0.016182373452664347, \"std\": 0.6306279529761976}, {\"mean\": -0.003712717414040385, \"std\": 0.6451849433522808}, {\"mean\": -0.02228508071594741, \"std\": 0.5994727887147863}, {\"mean\": -0.003542332952176743, \"std\": 0.7285850927883321}, {\"mean\": -0.012040892480248455, \"std\": 0.6327883392494269}, {\"mean\": -0.0248953681450911, \"std\": 0.613883501404176}, {\"mean\": -0.026997404672321028, \"std\": 0.6666197331769581}, {\"mean\": -0.01794720530486653, \"std\": 0.6494026092365044}, {\"mean\": -0.015848561280221145, \"std\": 0.6515501716572379}, {\"mean\": -0.02067675446986532, \"std\": 0.647522223589787}, {\"mean\": -0.008046110376680782, \"std\": 0.624342069512951}, {\"mean\": -0.0034203195063646032, \"std\": 0.6602912195228641}, {\"mean\": -0.012012631939773399, \"std\": 0.6929532428523631}, {\"mean\": 0.00018837923739178355, \"std\": 0.6871499039541153}, {\"mean\": -0.015192234576723048, \"std\": 0.6010567304074436}, {\"mean\": -0.010302024093767334, \"std\": 0.7319270776616281}, {\"mean\": -0.026828395939359845, \"std\": 0.6766596601597011}, {\"mean\": -0.010146370372245365, \"std\": 0.65247245752516}, {\"mean\": -0.01971854729753697, \"std\": 0.6033931175428319}, {\"mean\": -0.004888964106233127, \"std\": 0.6352581000581223}, {\"mean\": -0.016259614306948528, \"std\": 0.6615938535728073}, {\"mean\": -0.02829373741866904, \"std\": 0.5976297017735808}, {\"mean\": -0.013469454676043996, \"std\": 0.6378077925812765}, {\"mean\": -0.010054552287540965, \"std\": 0.6481491266255767}, {\"mean\": -0.027125511597915774, \"std\": 0.6561367652290996}, {\"mean\": -0.02005874981130747, \"std\": 0.600882455713392}, {\"mean\": -0.014067563144668692, \"std\": 0.6199131864533206}, {\"mean\": -0.034093316727067176, \"std\": 0.6660228735386867}, {\"mean\": -0.007236553183855276, \"std\": 0.6437564333183381}, {\"mean\": -0.013505068029268812, \"std\": 0.6913617611652408}, {\"mean\": -0.024451299379275183, \"std\": 0.7015127000077682}, {\"mean\": -0.01856979692278916, \"std\": 0.6594394928960141}, {\"mean\": -0.002178373330286657, \"std\": 0.6432611623740278}, {\"mean\": -0.023199011047225705, \"std\": 0.584666895765059}, {\"mean\": 0.003335948961311347, \"std\": 0.6641868315620232}, {\"mean\": -0.009551039053801546, \"std\": 0.6629270796310853}, {\"mean\": -0.017278937967022873, \"std\": 0.6515923477383441}, {\"mean\": -0.023417852036351234, \"std\": 0.6366435139895221}, {\"mean\": -0.02623973458197107, \"std\": 0.591527737776515}, {\"mean\": -0.01643512123360787, \"std\": 0.7168310883186642}, {\"mean\": -0.025921187154820786, \"std\": 0.6263233398837279}, {\"mean\": -0.023166069580357322, \"std\": 0.6230453816318886}, {\"mean\": -0.024264409734637768, \"std\": 0.6151081086979826}, {\"mean\": 0.010188206949677415, \"std\": 0.7596732844134934}, {\"mean\": -0.008743436057845123, \"std\": 0.6492095609188899}, {\"mean\": -0.012770421163202277, \"std\": 0.6846176070694537}, {\"mean\": -0.023685955603179112, \"std\": 0.5972770497871772}, {\"mean\": -0.011856834338396066, \"std\": 0.6683679920469628}, {\"mean\": -0.013423735271341561, \"std\": 0.6071283313499707}, {\"mean\": -0.01693839578368769, \"std\": 0.6316874043587516}, {\"mean\": -0.012949002302707143, \"std\": 0.6549756921847746}, {\"mean\": -0.015171984328257749, \"std\": 0.6844539270630929}, {\"mean\": -0.017771525838144488, \"std\": 0.6421920431050909}, {\"mean\": -0.017612774785125965, \"std\": 0.6520795469341907}, {\"mean\": -0.028112602727457938, \"std\": 0.6267603193671938}, {\"mean\": -0.03154744951291339, \"std\": 0.5871127681621542}, {\"mean\": -0.03208222871198843, \"std\": 0.600512783090766}, {\"mean\": -0.0037225140838576037, \"std\": 0.681251144426472}, {\"mean\": -0.01253830396202736, \"std\": 0.6550739149884753}, {\"mean\": -0.03068735473130431, \"std\": 0.6446627294520105}, {\"mean\": -0.026591966997296473, \"std\": 0.6209406016922835}, {\"mean\": -0.024129347389393662, \"std\": 0.6254482669846025}, {\"mean\": 0.006594076205421521, \"std\": 0.713284330652038}, {\"mean\": -0.014909757709528751, \"std\": 0.6317861114625601}, {\"mean\": -0.021072020537141217, \"std\": 0.6795865723805018}, {\"mean\": -0.014257515463961621, \"std\": 0.6056889353300899}, {\"mean\": -0.02848529553912006, \"std\": 0.6300514967824749}, {\"mean\": -0.02451479580918284, \"std\": 0.6765398136475596}, {\"mean\": -0.019341375264246386, \"std\": 0.6015598627822762}, {\"mean\": -0.021011240892269484, \"std\": 0.6228014830557306}, {\"mean\": -0.012759487348985708, \"std\": 0.6232308684323729}, {\"mean\": -0.02808379218698465, \"std\": 0.6149584374973027}, {\"mean\": -0.011792222091599717, \"std\": 0.6765870672573815}, {\"mean\": -0.009389671894520694, \"std\": 0.6541595213835361}, {\"mean\": -0.006384883667672366, \"std\": 0.6329012350134059}, {\"mean\": -0.000660132120384055, \"std\": 0.6642325049616338}, {\"mean\": -0.03246822180979024, \"std\": 0.6218947159932651}, {\"mean\": -0.003535811759345651, \"std\": 0.6687579135555649}, {\"mean\": 0.0009914795664887652, \"std\": 0.6513913866883344}, {\"mean\": -0.020514183484378418, \"std\": 0.6276993893926797}, {\"mean\": -0.02283266101299419, \"std\": 0.6058593254657942}, {\"mean\": -0.009155244337626703, \"std\": 0.6356504436641175}, {\"mean\": -0.015927591643680062, \"std\": 0.7100446933186927}, {\"mean\": -0.019835963595653174, \"std\": 0.6043553413151973}, {\"mean\": -0.0052920871768208, \"std\": 0.634809767871809}, {\"mean\": -0.00810913792428192, \"std\": 0.6559627325319313}, {\"mean\": 0.009102526877696833, \"std\": 0.7457251058165101}, {\"mean\": -0.01509340617692987, \"std\": 0.6793509522522795}, {\"mean\": -0.02211280794171096, \"std\": 0.6042964591021391}, {\"mean\": -0.016447919256869618, \"std\": 0.6633489166131584}, {\"mean\": -0.022257991600502767, \"std\": 0.6550514637976834}, {\"mean\": -0.016222201047832546, \"std\": 0.659300962092687}, {\"mean\": -0.02470387454590985, \"std\": 0.598461245212007}, {\"mean\": -0.024499275834917192, \"std\": 0.6164127524960632}, {\"mean\": -0.01328040596923628, \"std\": 0.6483904758457864}, {\"mean\": -0.03294537917062966, \"std\": 0.6179679120986193}, {\"mean\": -0.034736427956206524, \"std\": 0.6296181775436642}, {\"mean\": -0.006576051508358383, \"std\": 0.6128016471745102}, {\"mean\": -0.032889612997648796, \"std\": 0.6058033660723635}, {\"mean\": -0.022723207532830816, \"std\": 0.601905837249752}, {\"mean\": -0.007208288830664165, \"std\": 0.6217022633737761}, {\"mean\": -0.003395293298233736, \"std\": 0.6912317772620158}, {\"mean\": -0.030664187694393483, \"std\": 0.6737436238532203}, {\"mean\": -0.021245087151832688, \"std\": 0.6321441600038642}, {\"mean\": -0.006853421563034395, \"std\": 0.6902733915983724}, {\"mean\": -0.03318006537369083, \"std\": 0.601684748842653}, {\"mean\": -0.022745237688834633, \"std\": 0.7132383494276944}, {\"mean\": -0.004203893005879591, \"std\": 0.6737631141743445}, {\"mean\": -0.023312034530197947, \"std\": 0.6400395895980835}, {\"mean\": -0.024422957358651454, \"std\": 0.6389359305685548}, {\"mean\": -0.006158099494842196, \"std\": 0.6244713565623615}, {\"mean\": -0.025547886109744997, \"std\": 0.613292314451531}, {\"mean\": -0.01963429492035809, \"std\": 0.5898566517085869}, {\"mean\": -0.016414665831867115, \"std\": 0.6082714039124856}, {\"mean\": -0.01847252686511706, \"std\": 0.596974825185759}, {\"mean\": -0.019193705584083565, \"std\": 0.6716634608998725}, {\"mean\": -0.008661044097068644, \"std\": 0.6322182146584797}, {\"mean\": -0.01788777544530254, \"std\": 0.6617315168582234}, {\"mean\": -0.018626794473277513, \"std\": 0.644064758150795}, {\"mean\": -0.01969251156079145, \"std\": 0.6292998698691915}, {\"mean\": 0.0008177891673075212, \"std\": 0.6788073067914949}, {\"mean\": -0.007989809846168367, \"std\": 0.6215354679899268}, {\"mean\": -0.004680128566339154, \"std\": 0.6626307753203861}, {\"mean\": -0.012273393540036053, \"std\": 0.6513850257502203}, {\"mean\": -0.009050814762940774, \"std\": 0.6279158727347176}, {\"mean\": -0.017672803733711207, \"std\": 0.6170660608088712}, {\"mean\": -0.022627560038813128, \"std\": 0.6253290627434009}, {\"mean\": 0.002797263999475892, \"std\": 0.6706798007098111}, {\"mean\": -0.007348829645999964, \"std\": 0.72926255709147}, {\"mean\": -0.023373584697274605, \"std\": 0.5937031043584239}, {\"mean\": -0.020434810903119893, \"std\": 0.5884694113875591}, {\"mean\": -0.005457427111378488, \"std\": 0.6622054506784162}, {\"mean\": -0.01406304962842102, \"std\": 0.6477992515872579}, {\"mean\": -0.01625761744486631, \"std\": 0.6154344045043881}, {\"mean\": -0.028403425013986877, \"std\": 0.6061465193449688}, {\"mean\": -0.011142691543828147, \"std\": 0.6890169626057164}, {\"mean\": -0.010025727337996082, \"std\": 0.6247618558794074}, {\"mean\": -0.03072665781729651, \"std\": 0.6247191479432286}, {\"mean\": -0.010419980525487876, \"std\": 0.6607920592397379}, {\"mean\": -0.021646074885139418, \"std\": 0.6272079563172177}, {\"mean\": -0.02584383113558309, \"std\": 0.6088919670907972}, {\"mean\": -0.010562752725244838, \"std\": 0.6068426351960946}, {\"mean\": -0.006351956606175518, \"std\": 0.6373180486193598}, {\"mean\": -0.002827422100302072, \"std\": 0.7116356948990995}, {\"mean\": -0.039487995335499466, \"std\": 0.6308596938810863}, {\"mean\": -0.02471415606352594, \"std\": 0.6461104601365141}, {\"mean\": -0.022895151955776617, \"std\": 0.6166028117739311}, {\"mean\": -0.02332055379828624, \"std\": 0.6111912024273065}, {\"mean\": -0.005051965946468455, \"std\": 0.7363988622560419}, {\"mean\": -0.020783100085155787, \"std\": 0.6143199845100965}, {\"mean\": -0.039149248763268314, \"std\": 0.62872674250353}, {\"mean\": -0.017822738964320798, \"std\": 0.6062646598788664}, {\"mean\": -0.01175722064164121, \"std\": 0.6543187768514003}, {\"mean\": 0.004733502035481793, \"std\": 0.7047720599672077}, {\"mean\": -0.01676697846904327, \"std\": 0.8071728058680108}, {\"mean\": -0.022333353393172765, \"std\": 0.621503298731579}, {\"mean\": 0.003807999157502315, \"std\": 0.6944122815083098}, {\"mean\": -0.012058519368994259, \"std\": 0.6943882015058224}, {\"mean\": -0.01651697141168197, \"std\": 0.6113265762271697}, {\"mean\": -0.026618079033088566, \"std\": 0.6468840049437886}, {\"mean\": -0.05385457779098625, \"std\": 0.7197546198690022}, {\"mean\": -0.010629342402930288, \"std\": 0.6105873034973394}, {\"mean\": -0.025810156832191355, \"std\": 0.5964383362581959}, {\"mean\": -0.013662466760457296, \"std\": 0.6404763573000175}, {\"mean\": -0.01897601775437643, \"std\": 0.6364144568740097}, {\"mean\": -0.011113024849930778, \"std\": 0.6225710468509622}, {\"mean\": -0.01874567701267175, \"std\": 0.6611717674830258}, {\"mean\": -0.017763301220711975, \"std\": 0.6399360361591184}, {\"mean\": -0.027707775249934154, \"std\": 0.6168516381468301}, {\"mean\": -0.021345669188736358, \"std\": 0.5942784677885319}, {\"mean\": -0.01181050404653404, \"std\": 0.6472855067102635}, {\"mean\": -0.019619380037430877, \"std\": 0.6351440439210804}, {\"mean\": -0.022371036244092177, \"std\": 0.5933012287283761}, {\"mean\": -0.030264912545013144, \"std\": 0.6320559695594312}, {\"mean\": -0.019010637800644957, \"std\": 0.6859823762877751}, {\"mean\": -0.02106882162215282, \"std\": 0.6224070601185121}, {\"mean\": -0.01187685813958073, \"std\": 0.6612245143947375}, {\"mean\": -0.020347220551151655, \"std\": 0.6075563155920459}, {\"mean\": -0.010772193397425533, \"std\": 0.6729303181674633}, {\"mean\": -0.018098456204807756, \"std\": 0.6309855058164837}, {\"mean\": -0.013644545513315733, \"std\": 0.6151841254636822}, {\"mean\": -0.0126804188710702, \"std\": 0.6190602685370948}, {\"mean\": -0.0016244288581514711, \"std\": 0.6686260230180622}, {\"mean\": -0.017470272969055366, \"std\": 0.6089255522546313}, {\"mean\": -0.01820726738148571, \"std\": 0.6221334339558313}, {\"mean\": -0.013269099066525956, \"std\": 0.7160454808205948}, {\"mean\": -0.0038550748984247066, \"std\": 0.6599581714548562}, {\"mean\": -0.01647445927539648, \"std\": 0.6510854789412086}, {\"mean\": -0.024565738118546638, \"std\": 0.6052369308014557}, {\"mean\": -0.009147863951725609, \"std\": 0.6739730918481825}, {\"mean\": -0.008825878047060757, \"std\": 0.6512936449324087}, {\"mean\": -0.005199173962631552, \"std\": 0.6764468287329455}, {\"mean\": -0.014266838348486187, \"std\": 0.6379340487897298}, {\"mean\": -0.024686128706370773, \"std\": 0.6256256775930146}, {\"mean\": -0.008847389708226294, \"std\": 0.6545849660687904}, {\"mean\": -0.01957617298925242, \"std\": 0.6733506359337519}, {\"mean\": -0.029358361185742855, \"std\": 0.5976558039807732}, {\"mean\": -0.0390082558851952, \"std\": 0.6059886299362005}, {\"mean\": -0.02235517906224833, \"std\": 0.6881404080354692}, {\"mean\": -0.028843947530494674, \"std\": 0.657853945864001}, {\"mean\": -0.01369469847135256, \"std\": 0.667393622410627}, {\"mean\": 0.011735830366473729, \"std\": 0.7514788514242199}, {\"mean\": -0.01714860559766828, \"std\": 0.6955577149381149}, {\"mean\": -0.005447743273250739, \"std\": 0.6563380735174549}, {\"mean\": -0.033172229616159385, \"std\": 0.6217545238415155}, {\"mean\": -0.018453506304776567, \"std\": 0.6324057647152396}, {\"mean\": -0.002288741003701128, \"std\": 0.6881819343136681}, {\"mean\": -0.04324588728052327, \"std\": 0.6599657371613428}, {\"mean\": -0.026773602215935884, \"std\": 0.6107900482658442}, {\"mean\": -0.022206421670927443, \"std\": 0.6146933951987935}, {\"mean\": -0.028752195276850273, \"std\": 0.6013793818982036}, {\"mean\": -0.038006784426423676, \"std\": 0.6033495983312561}, {\"mean\": -0.025771124691206456, \"std\": 0.6429446752080064}, {\"mean\": 0.004126532801579707, \"std\": 0.7034567748939611}, {\"mean\": -0.015772771928044785, \"std\": 0.641721233143412}, {\"mean\": -0.014494404360432117, \"std\": 0.6019250516914266}, {\"mean\": -0.020487992805440024, \"std\": 0.6838951631522312}, {\"mean\": -0.015821289929110974, \"std\": 0.6595616504476384}, {\"mean\": -0.028839492310538645, \"std\": 0.6136311347435419}, {\"mean\": -0.014823827972652998, \"std\": 0.6185135828061024}, {\"mean\": -0.023017528263859673, \"std\": 0.614171958947463}, {\"mean\": -0.006809449873807786, \"std\": 0.6671572135822524}, {\"mean\": 0.006310222897223924, \"std\": 0.7461297492959251}, {\"mean\": -0.017808843702017373, \"std\": 0.6200134880656301}, {\"mean\": -0.01108915837854648, \"std\": 0.7355055533195204}, {\"mean\": -0.018240085287122013, \"std\": 0.6028260866936352}, {\"mean\": -0.03237134994575069, \"std\": 0.6575473323276673}, {\"mean\": -0.0013145239505469204, \"std\": 0.6357503229824478}, {\"mean\": -0.020457961147017402, \"std\": 0.6306396785061751}, {\"mean\": 0.005526763437642316, \"std\": 0.7554629901643645}, {\"mean\": -0.014230833079399173, \"std\": 0.672297370261525}, {\"mean\": -0.011611635083215173, \"std\": 0.6464365978554442}, {\"mean\": -0.017911051965861215, \"std\": 0.611525207977515}, {\"mean\": -0.027678311399380612, \"std\": 0.5973837302894304}, {\"mean\": -0.04232112911801938, \"std\": 0.6313932471004856}, {\"mean\": -0.030610665369707322, \"std\": 0.6822755597861428}, {\"mean\": -0.01558479548932446, \"std\": 0.6241955204239984}, {\"mean\": -0.04298750410491821, \"std\": 0.6342733830490475}, {\"mean\": 0.009662266965819325, \"std\": 0.7250162529686952}, {\"mean\": -0.026723602009901398, \"std\": 0.6307770551908066}, {\"mean\": -0.0058904907310452954, \"std\": 0.6663132918698338}, {\"mean\": 0.0033391705882799662, \"std\": 0.7150057238528008}, {\"mean\": -0.012970537502597603, \"std\": 0.7091494862731832}, {\"mean\": -0.005414166651900266, \"std\": 0.6638216011619245}, {\"mean\": -0.027635552369611457, \"std\": 0.5851857888407757}, {\"mean\": -0.012169349341931793, \"std\": 0.6341593559976091}, {\"mean\": 0.006678510699770273, \"std\": 0.7379486165572235}, {\"mean\": 0.012002323301735061, \"std\": 0.7746915438036511}, {\"mean\": -0.0287448552099783, \"std\": 0.5984929862520767}, {\"mean\": -0.020734100795837606, \"std\": 0.6456390938280436}, {\"mean\": -0.012123912640819225, \"std\": 0.6641364600314098}, {\"mean\": -0.010960025771312531, \"std\": 0.6123342295303711}, {\"mean\": -0.008493964402725387, \"std\": 0.6273393239346529}, {\"mean\": -0.02406048214341523, \"std\": 0.6085303512612257}, {\"mean\": 0.011980549762328636, \"std\": 0.7480429857818309}, {\"mean\": -0.004030430329987842, \"std\": 0.6961371048108101}, {\"mean\": -0.006704995945121513, \"std\": 0.6478249478914543}, {\"mean\": -0.017209127072434667, \"std\": 0.619961097421384}, {\"mean\": -0.011293496718123753, \"std\": 0.6565181231939619}, {\"mean\": -0.012628077175564443, \"std\": 0.6187195609676387}, {\"mean\": -0.016332652950770448, \"std\": 0.6485459686622924}, {\"mean\": -0.035562170067931935, \"std\": 0.6310013521796813}, {\"mean\": -0.01582353712972163, \"std\": 0.6057942172488865}, {\"mean\": -0.01969705177494825, \"std\": 0.5970013748656324}, {\"mean\": -0.0009468357365976208, \"std\": 0.6869551736426864}, {\"mean\": -0.025032025598027998, \"std\": 0.6833878040643704}, {\"mean\": -0.01948899468683533, \"std\": 0.5930292296570085}, {\"mean\": -0.03718235033622142, \"std\": 0.6311005121630963}, {\"mean\": -0.01324537211538226, \"std\": 0.6249204267792546}, {\"mean\": -0.01940440091203218, \"std\": 0.670043956953049}, {\"mean\": -0.033184911069515835, \"std\": 0.6284298568922878}, {\"mean\": -0.025948527419420116, \"std\": 0.5923504370015344}, {\"mean\": -0.016173041651177656, \"std\": 0.6138802130756037}, {\"mean\": -0.027040981975609658, \"std\": 0.5966816110472233}, {\"mean\": -0.001422989649196813, \"std\": 0.6917043667619013}, {\"mean\": -0.01380238821844068, \"std\": 0.6938850076098779}, {\"mean\": -0.026287552444178255, \"std\": 0.600189104389038}, {\"mean\": -0.021461987093362347, \"std\": 0.6494805181697365}, {\"mean\": -0.010397083737319254, \"std\": 0.6082273372590167}, {\"mean\": -0.026902881267066598, \"std\": 0.6281766620516531}, {\"mean\": -0.026687120545806294, \"std\": 0.6110069823393527}, {\"mean\": -0.012693096054415398, \"std\": 0.6560947396250898}, {\"mean\": -0.01939259625335389, \"std\": 0.612324652828697}, {\"mean\": -0.03199033439271881, \"std\": 0.6338663433215723}, {\"mean\": -0.00754902912294641, \"std\": 0.6208767496752071}, {\"mean\": -0.015760875107450785, \"std\": 0.6316929857226765}, {\"mean\": -0.023132754220735602, \"std\": 0.6985606670994589}, {\"mean\": -0.025621878818951515, \"std\": 0.6139795274653556}, {\"mean\": -0.019835649684849715, \"std\": 0.5871389208952851}, {\"mean\": -0.037971485721492525, \"std\": 0.6514992734721133}, {\"mean\": -0.0037803171439239904, \"std\": 0.6802221771542305}, {\"mean\": -0.008785403368157479, \"std\": 0.6139238256179039}, {\"mean\": -0.029061923483591594, \"std\": 0.5984493883161135}, {\"mean\": -0.01822610128303276, \"std\": 0.6578428088621003}, {\"mean\": -0.020064535142515813, \"std\": 0.616276959355116}, {\"mean\": -0.02981374467321732, \"std\": 0.6065145185944902}, {\"mean\": -0.008379573564480868, \"std\": 0.6188272479523661}, {\"mean\": 0.007144016075887024, \"std\": 0.701650561127267}, {\"mean\": -0.016768573499793504, \"std\": 0.636225165124739}, {\"mean\": -0.004308922845108882, \"std\": 0.6327217726361997}, {\"mean\": -0.0012713752617376194, \"std\": 0.6966512452175884}, {\"mean\": -0.014758958220968166, \"std\": 0.6180721705239645}, {\"mean\": -0.014161764765548875, \"std\": 0.6923841052417326}, {\"mean\": -0.03488906089114522, \"std\": 0.627518511845644}, {\"mean\": -0.022574800116651847, \"std\": 0.5994243457979506}, {\"mean\": -0.006365437689418807, \"std\": 0.6559289306786997}, {\"mean\": -0.0030793608646169845, \"std\": 0.7001647186542141}, {\"mean\": -0.026017595441706124, \"std\": 0.6369237194507683}, {\"mean\": -0.018074961729287735, \"std\": 0.6374234736719169}, {\"mean\": 0.0021673396691534504, \"std\": 0.6697140925763159}, {\"mean\": -0.01786282251102396, \"std\": 0.5997695009239267}, {\"mean\": -0.0010802172989724257, \"std\": 0.6685939331235393}, {\"mean\": -0.01628452107659012, \"std\": 0.6017160524555691}, {\"mean\": -0.0009147460840540108, \"std\": 0.6723409455158057}, {\"mean\": -0.00629280398679274, \"std\": 0.6659745713155494}, {\"mean\": -0.012489387293156363, \"std\": 0.6091090090388057}, {\"mean\": -0.017274567749665043, \"std\": 0.6481668418228348}, {\"mean\": -0.012881785962051275, \"std\": 0.6028143066584477}, {\"mean\": -0.010979828064043138, \"std\": 0.6670129694667597}, {\"mean\": -0.014927009958813733, \"std\": 0.6234530525764501}, {\"mean\": -0.0073502206825791965, \"std\": 0.6609622884853785}, {\"mean\": -0.020404928729561213, \"std\": 0.6024944410812388}, {\"mean\": -0.0193938473495168, \"std\": 0.6548459079444213}, {\"mean\": -0.028883429406195253, \"std\": 0.597137873910935}, {\"mean\": -0.006203524208293795, \"std\": 0.6439044138931782}, {\"mean\": -0.022717222499471716, \"std\": 0.6237328175321807}, {\"mean\": -0.0005225901323059467, \"std\": 0.6844252023043597}, {\"mean\": -0.03199613472661142, \"std\": 0.6668507758663935}, {\"mean\": -0.033838032087363, \"std\": 0.6285994717710525}, {\"mean\": -0.018405827831342557, \"std\": 0.6412797253562299}, {\"mean\": -0.02328326489903699, \"std\": 0.5957603673871498}, {\"mean\": -0.020889454261950356, \"std\": 0.6194779418622062}, {\"mean\": -0.043622552169103046, \"std\": 0.6480203115717608}, {\"mean\": -0.0048508873948327974, \"std\": 0.637378922060187}, {\"mean\": -0.006182750375102068, \"std\": 0.6493443307000119}, {\"mean\": 0.0009709364774392302, \"std\": 0.659726756041874}, {\"mean\": -0.03267283191724798, \"std\": 0.6295263494265653}, {\"mean\": -0.01209516313659856, \"std\": 0.6374819484129038}, {\"mean\": -0.012820433343252663, \"std\": 0.6276532521759736}, {\"mean\": -0.009769544116802748, \"std\": 0.6421959481260193}, {\"mean\": -0.01978730787090135, \"std\": 0.6476362707371613}, {\"mean\": -0.019061521342117003, \"std\": 0.5999008030696255}, {\"mean\": -0.014273463525108701, \"std\": 0.6247065056355561}, {\"mean\": -0.021577473279441994, \"std\": 0.6044140330941076}, {\"mean\": -0.013616673999171281, \"std\": 0.6137967967090374}, {\"mean\": -0.03472515276881872, \"std\": 0.6125995518784576}, {\"mean\": -0.012451948093433085, \"std\": 0.6380423243569969}, {\"mean\": -0.02846419362632429, \"std\": 0.5902479589149837}, {\"mean\": -0.019103033633050513, \"std\": 0.6200091429079627}, {\"mean\": -0.020917558051873127, \"std\": 0.6160901277561069}, {\"mean\": -0.0044702463597037735, \"std\": 0.7516784678958426}, {\"mean\": -0.010752799222757299, \"std\": 0.6164493981771118}, {\"mean\": -0.011182636527455995, \"std\": 0.6589731041986927}, {\"mean\": -0.016320966474823888, \"std\": 0.6472854105646689}, {\"mean\": -0.028751482121931328, \"std\": 0.622599570321935}, {\"mean\": -0.008338029534022469, \"std\": 0.6628521522225445}, {\"mean\": -0.02438101760665535, \"std\": 0.6370095655857858}, {\"mean\": -0.03256145087961697, \"std\": 0.6092344926519492}, {\"mean\": -0.02330773357980086, \"std\": 0.602057942579926}, {\"mean\": -0.006688373078480882, \"std\": 0.6885425763121995}, {\"mean\": -0.026079284128652517, \"std\": 0.6750037165778153}, {\"mean\": -0.020536723201605038, \"std\": 0.6848847882858747}, {\"mean\": -0.005293802184084207, \"std\": 0.7664326656410572}, {\"mean\": -0.021437637718864297, \"std\": 0.6142854875727352}, {\"mean\": -0.01077098856441244, \"std\": 0.6426525738826324}, {\"mean\": -0.031075861174500292, \"std\": 0.6487225652408314}, {\"mean\": -0.026594484844685958, \"std\": 0.5944757374419221}, {\"mean\": 0.0019617796462423477, \"std\": 0.7677493831643926}, {\"mean\": -0.04154272410938445, \"std\": 0.6308299424058866}, {\"mean\": -0.008434228621779189, \"std\": 0.6779591619072914}, {\"mean\": -0.020850909401088732, \"std\": 0.6056848322528542}, {\"mean\": -0.02112982490046924, \"std\": 0.5980824873314998}, {\"mean\": -0.005616522229298785, \"std\": 0.6754397249430566}, {\"mean\": -0.02575106039566224, \"std\": 0.6113487744994465}, {\"mean\": 0.003660675433249063, \"std\": 0.7102337885683638}, {\"mean\": -0.007438304082002007, \"std\": 0.6269247387736623}, {\"mean\": -0.02306124545845641, \"std\": 0.6165222455862827}, {\"mean\": -0.03503982302421039, \"std\": 0.6053662435405412}, {\"mean\": -0.013144620295349118, \"std\": 0.701963676959142}, {\"mean\": -0.01713893724203701, \"std\": 0.8175681195592092}, {\"mean\": -0.02426382960271127, \"std\": 0.6006187658503851}, {\"mean\": -0.027313455871582827, \"std\": 0.6290577864957096}, {\"mean\": -0.015075666120211403, \"std\": 0.6235878564239153}, {\"mean\": -0.01478835264886393, \"std\": 0.6049902774222103}, {\"mean\": -0.03102962796270212, \"std\": 0.6427505377865195}, {\"mean\": -0.014309906189476107, \"std\": 0.6868035118411745}, {\"mean\": -0.006447261546075885, \"std\": 0.617332156138874}, {\"mean\": -0.01151159636129972, \"std\": 0.6271182785796757}, {\"mean\": 0.008806148769960415, \"std\": 0.7645876795945022}, {\"mean\": -0.0003535163429104622, \"std\": 0.7039970967800012}, {\"mean\": -0.03522226633191089, \"std\": 0.6059101516843389}, {\"mean\": -0.010100068515020079, \"std\": 0.6550403772560932}, {\"mean\": -0.02444489683058451, \"std\": 0.6093889834549098}, {\"mean\": -0.007102278098565153, \"std\": 0.658134640057543}, {\"mean\": -0.014100571436100148, \"std\": 0.6800464163718779}, {\"mean\": -0.01697384003908803, \"std\": 0.6638951783327048}, {\"mean\": -0.02768747008706936, \"std\": 0.6304525197647225}, {\"mean\": -0.01121693785232871, \"std\": 0.640414431741278}, {\"mean\": -0.02486002735192796, \"std\": 0.6168803669548588}, {\"mean\": -0.026497263974991466, \"std\": 0.6425928253248833}, {\"mean\": -0.01555776543729855, \"std\": 0.6551382903560812}, {\"mean\": -0.008552286584563104, \"std\": 0.6459904979172348}, {\"mean\": -0.01101612222657279, \"std\": 0.6596980018113622}, {\"mean\": 0.0054403537208438345, \"std\": 0.6796115721453676}, {\"mean\": -0.017712436008210704, \"std\": 0.5965805963474173}, {\"mean\": -0.0043778372489965325, \"std\": 0.6366094385735634}, {\"mean\": -0.01729809291491983, \"std\": 0.6453181972772791}, {\"mean\": -0.008289515853107016, \"std\": 0.6941312675858047}, {\"mean\": -0.016742201348321172, \"std\": 0.6048047923880462}, {\"mean\": 0.004096348030570584, \"std\": 0.7086389653671629}, {\"mean\": -0.00018266411153536222, \"std\": 0.702273892709115}, {\"mean\": -0.013611986572609982, \"std\": 0.7019504040350447}, {\"mean\": 0.0009913634434269287, \"std\": 0.6413157278534433}, {\"mean\": -0.01708973431114295, \"std\": 0.6296707381580049}, {\"mean\": -0.023254954771322476, \"std\": 0.6390027081498292}, {\"mean\": -0.014020302983269598, \"std\": 0.7199871646803911}, {\"mean\": -0.012634131782425175, \"std\": 0.634837941252564}, {\"mean\": -0.025038544843075005, \"std\": 0.642164442145662}, {\"mean\": -0.034133349768909915, \"std\": 0.613708682739227}, {\"mean\": -0.005611967195471395, \"std\": 0.6437967059972984}, {\"mean\": 0.002938771003568637, \"std\": 0.7274680436328296}, {\"mean\": -0.023869112774061837, \"std\": 0.6584941266202697}, {\"mean\": -0.023445082067279036, \"std\": 0.6199915780015193}, {\"mean\": 0.006739152090659527, \"std\": 0.7390589662029401}, {\"mean\": -0.020217723900462992, \"std\": 0.6239441133079283}, {\"mean\": -0.02184199701230644, \"std\": 0.6172404602668563}, {\"mean\": -0.009807640392182855, \"std\": 0.6865251209575636}, {\"mean\": -0.02963465324681866, \"std\": 0.6821043410777331}, {\"mean\": 0.0022649714856079113, \"std\": 0.6812991002348581}, {\"mean\": -0.017948254142885197, \"std\": 0.6148082759660876}, {\"mean\": -0.020902243382028705, \"std\": 0.6169008698705148}, {\"mean\": -0.028570999633052558, \"std\": 0.6070236344304132}, {\"mean\": -0.023078074109879828, \"std\": 0.6072316424735588}, {\"mean\": -0.03627695725890598, \"std\": 0.6318243644167875}, {\"mean\": -0.028018774339860397, \"std\": 0.599631549356371}, {\"mean\": -0.008337632480477952, \"std\": 0.6587904562753668}, {\"mean\": -0.019959693630847673, \"std\": 0.7149278058897818}, {\"mean\": -0.016525184015466467, \"std\": 0.6144180272347174}, {\"mean\": -0.015290511323980464, \"std\": 0.6595537454434636}, {\"mean\": -0.00039309713410147067, \"std\": 0.6840032372513913}, {\"mean\": -0.020373725248503775, \"std\": 0.6897171104515629}, {\"mean\": -0.01424344838293052, \"std\": 0.6674548933010038}, {\"mean\": -0.006176858025298466, \"std\": 0.6395452528161018}, {\"mean\": 0.001226172480229235, \"std\": 0.7078464538134581}, {\"mean\": -0.01227598614041126, \"std\": 0.6186969951692741}, {\"mean\": -0.011410387642570387, \"std\": 0.6158762940689355}, {\"mean\": -0.02534563885164009, \"std\": 0.5855553512851667}, {\"mean\": -0.01822612988631895, \"std\": 0.6428609884469645}, {\"mean\": -0.007907960128827283, \"std\": 0.638539746204613}, {\"mean\": -0.017818231917757065, \"std\": 0.5965281091175715}, {\"mean\": -0.03306744380631668, \"std\": 0.5976710075659968}, {\"mean\": -0.01133693692991911, \"std\": 0.6322656164300121}, {\"mean\": 0.0096043847433898, \"std\": 0.7206249396477208}, {\"mean\": -0.027313445515342406, \"std\": 0.6367304137072908}, {\"mean\": -0.027390665571661022, \"std\": 0.6150171886477356}, {\"mean\": -0.015200455785512343, \"std\": 0.621838970075576}, {\"mean\": -0.030900711009404825, \"std\": 0.6096892296436064}, {\"mean\": -0.022296002568298057, \"std\": 0.6282757531663732}, {\"mean\": 0.007241918503013258, \"std\": 0.7446152792682341}, {\"mean\": -0.02436275887440385, \"std\": 0.5987828546106609}, {\"mean\": -0.03901818735113254, \"std\": 0.6285049332536826}, {\"mean\": -0.0007487563542016434, \"std\": 0.65435447242165}, {\"mean\": -0.0140619821100934, \"std\": 0.6140953876044106}, {\"mean\": 0.006042445253391679, \"std\": 0.7164388892059772}, {\"mean\": -0.003922725584523916, \"std\": 0.6792147587013286}, {\"mean\": -0.015917368749518452, \"std\": 0.6067108339964109}, {\"mean\": -0.022112766264709552, \"std\": 0.5930205931899394}, {\"mean\": -0.024369177688220785, \"std\": 0.5946343532035654}, {\"mean\": -0.03236852818470089, \"std\": 0.6611158495296152}, {\"mean\": -0.026659019214809815, \"std\": 0.6006567367996679}, {\"mean\": -0.00987135965550605, \"std\": 0.6374874664728196}, {\"mean\": -0.018290889358323743, \"std\": 0.6212427553250967}, {\"mean\": -0.004160748521013238, \"std\": 0.6797617516709633}, {\"mean\": -0.012325384700330991, \"std\": 0.6741330129647499}, {\"mean\": -0.024007746262250464, \"std\": 0.6526929486718072}, {\"mean\": -0.011781474308295606, \"std\": 0.6415955099954389}, {\"mean\": -0.018838798730936652, \"std\": 0.6157924741479585}, {\"mean\": -0.015576561208577915, \"std\": 0.616280762671814}, {\"mean\": -0.008575217748756407, \"std\": 0.6488011119483588}, {\"mean\": 0.005507639753356195, \"std\": 0.7375635901519572}, {\"mean\": 0.014369390469177915, \"std\": 0.7715807105000456}, {\"mean\": -0.019455622341071482, \"std\": 0.6468498386329424}, {\"mean\": -0.0014410379349689036, \"std\": 0.6776161584069534}, {\"mean\": -0.022336808431429947, \"std\": 0.7541489444629007}, {\"mean\": -0.03662943444484744, \"std\": 0.601332585820396}, {\"mean\": -0.015758592683407152, \"std\": 0.6618659897697026}, {\"mean\": -0.005241267934397668, \"std\": 0.6529456986861276}, {\"mean\": -0.018284382790560928, \"std\": 0.6084595593423361}, {\"mean\": -0.023524747506579846, \"std\": 0.6018394132630149}, {\"mean\": -0.028051147589529014, \"std\": 0.6044337106484544}, {\"mean\": -0.0038372737084372485, \"std\": 0.6557620644840249}, {\"mean\": -0.015021322571535423, \"std\": 0.6229514140215464}, {\"mean\": -0.03101194378355419, \"std\": 0.6611171526139653}, {\"mean\": -0.010601024101031822, \"std\": 0.6879762348538506}, {\"mean\": -0.03102815230515309, \"std\": 0.642193074937247}, {\"mean\": 0.002105367615366785, \"std\": 0.6739462312281381}, {\"mean\": -0.00687923553856755, \"std\": 0.6972771561410797}, {\"mean\": -0.01972728324866594, \"std\": 0.6345593030907642}, {\"mean\": -0.025190752519723143, \"std\": 0.5947433650733738}, {\"mean\": -0.02711724305064524, \"std\": 0.6048361040492285}, {\"mean\": -0.031248597826295306, \"std\": 0.6448915747420891}, {\"mean\": -0.019598343827119405, \"std\": 0.669046956353284}, {\"mean\": -0.02563990164696148, \"std\": 0.5879533717500097}, {\"mean\": -0.011495476966631597, \"std\": 0.6201976708930739}, {\"mean\": -0.02756057567037502, \"std\": 0.6363310198959821}, {\"mean\": -0.03706821484258255, \"std\": 0.616173671917194}, {\"mean\": -0.00902551226106107, \"std\": 0.6244660727958006}, {\"mean\": -0.01681334736413153, \"std\": 0.617382571859541}, {\"mean\": -0.00839208574981692, \"std\": 0.6738033297205869}, {\"mean\": 0.0003325027319296749, \"std\": 0.6801195788163191}, {\"mean\": -0.01614421980895189, \"std\": 0.7307325016400518}, {\"mean\": -0.013547760399554123, \"std\": 0.6323239677328127}, {\"mean\": -0.02278104832116853, \"std\": 0.6068096508386248}, {\"mean\": -0.042556276101498855, \"std\": 0.6502384620323666}, {\"mean\": -0.02189857220347634, \"std\": 0.5998555647987149}, {\"mean\": -0.042505348433616585, \"std\": 0.6159199499813415}, {\"mean\": -0.013187212077314174, \"std\": 0.6192708195600362}, {\"mean\": -0.03443984596531139, \"std\": 0.6446231810571066}, {\"mean\": -0.015305062255957935, \"std\": 0.6602461868606507}, {\"mean\": -0.019992743405734464, \"std\": 0.7195576080432241}, {\"mean\": -0.019810229822929848, \"std\": 0.6110961456296016}, {\"mean\": -0.02111996179642786, \"std\": 0.6187163585221687}, {\"mean\": -0.03458529384315062, \"std\": 0.6096250323745398}, {\"mean\": -0.0213407337267344, \"std\": 0.6813567809047877}, {\"mean\": -0.015323651290397812, \"std\": 0.718984700425736}, {\"mean\": -0.011272442963601904, \"std\": 0.7047391948889989}, {\"mean\": -0.0055461702614900505, \"std\": 0.6190607756503628}, {\"mean\": -0.013859813781280322, \"std\": 0.6409934029565223}, {\"mean\": -0.02133596779910277, \"std\": 0.6287179192459855}, {\"mean\": -0.027131619506114805, \"std\": 0.6004938992010062}, {\"mean\": -0.026290200493844965, \"std\": 0.5859047888101622}, {\"mean\": -0.014422956216198367, \"std\": 0.6156164101346491}, {\"mean\": -0.015403719805703752, \"std\": 0.640562183227002}, {\"mean\": -0.00854954547033298, \"std\": 0.6427500445172839}, {\"mean\": -0.01612916330550648, \"std\": 0.617076400351925}, {\"mean\": 0.001468335922984349, \"std\": 0.6702320612589876}, {\"mean\": -0.019637135814451877, \"std\": 0.6014323783278777}, {\"mean\": -0.019523567406314436, \"std\": 0.6085900088881853}, {\"mean\": -0.024962268341800185, \"std\": 0.618978559305446}, {\"mean\": -0.032842529726552196, \"std\": 0.6691652444607453}, {\"mean\": -0.011708422564594012, \"std\": 0.6348461415227862}, {\"mean\": -0.008964088084919818, \"std\": 0.6829418417912405}, {\"mean\": -0.010790908880060105, \"std\": 0.6675210885845053}, {\"mean\": 0.0031880223292884914, \"std\": 0.6957829130655644}, {\"mean\": -0.007882472731162994, \"std\": 0.6665379196953374}, {\"mean\": -0.019347246976935194, \"std\": 0.5973671207040722}, {\"mean\": -0.025546658455397882, \"std\": 0.6073283909677694}, {\"mean\": -0.025664429035591532, \"std\": 0.6252962671101432}, {\"mean\": -0.020094355780052434, \"std\": 0.589707352531632}, {\"mean\": -0.01679661926175796, \"std\": 0.6091182304042727}, {\"mean\": -0.028416788617717976, \"std\": 0.5968074356255536}, {\"mean\": -0.020627474533126553, \"std\": 0.6030128104466519}, {\"mean\": -0.016065028060376907, \"std\": 0.6785335535222538}, {\"mean\": -0.03238191185150063, \"std\": 0.59956506396282}, {\"mean\": -0.031168207469404005, \"std\": 0.6369786708681917}, {\"mean\": -0.019752594959262508, \"std\": 0.6352134459665483}, {\"mean\": -0.03194788918754692, \"std\": 0.656110366715507}, {\"mean\": -0.024909598761603775, \"std\": 0.6823770252313403}, {\"mean\": -0.030712225327987754, \"std\": 0.6057885402852492}, {\"mean\": -0.008315452234141827, \"std\": 0.6593475954037838}, {\"mean\": -0.043935562436937095, \"std\": 0.6274502218076743}, {\"mean\": -0.005024637310087607, \"std\": 0.6654871726556953}, {\"mean\": -0.019673195754552782, \"std\": 0.6326242237639712}, {\"mean\": -0.01289266161549853, \"std\": 0.6066499005497618}, {\"mean\": -0.023450785197574497, \"std\": 0.6016156514122247}, {\"mean\": -0.017791293908813482, \"std\": 0.6626016227405607}, {\"mean\": -0.002232353942527037, \"std\": 0.6627617238056653}, {\"mean\": -0.02552483851849785, \"std\": 0.5909864828799077}, {\"mean\": -0.034787882837542826, \"std\": 0.6172237248652747}, {\"mean\": -0.013330900621244465, \"std\": 0.6203976162948648}, {\"mean\": -0.010837134133211046, \"std\": 0.6760855162362688}, {\"mean\": -0.01719816118568061, \"std\": 0.5982226669028093}, {\"mean\": -0.030283519898086742, \"std\": 0.6292775005875764}, {\"mean\": -0.028966047146125183, \"std\": 0.6287135200604995}, {\"mean\": -0.0006554222957109387, \"std\": 0.664025595106614}, {\"mean\": -0.0037983842660748567, \"std\": 0.6424892789110669}, {\"mean\": -0.010363502949941213, \"std\": 0.6196312846726943}, {\"mean\": -0.025847280106893637, \"std\": 0.6312081030986373}, {\"mean\": 8.519338747327147e-05, \"std\": 0.6829114281778064}, {\"mean\": -0.009256001729016307, \"std\": 0.6290458965383151}, {\"mean\": -0.005832820969935283, \"std\": 0.620802167655273}, {\"mean\": -0.0302325904023212, \"std\": 0.6678690765459769}, {\"mean\": 0.01022163525874851, \"std\": 0.7159219917914474}, {\"mean\": -0.010900049265744612, \"std\": 0.649887518216702}, {\"mean\": -0.007207744872784571, \"std\": 0.6481732879000299}, {\"mean\": -0.017123169760636273, \"std\": 0.6304031723939167}, {\"mean\": -0.02687382693169823, \"std\": 0.7112429726751812}, {\"mean\": -0.01967605432204458, \"std\": 0.6441288836998613}, {\"mean\": -0.016025804829640247, \"std\": 0.6551647256344656}, {\"mean\": -0.022542929416020256, \"std\": 0.6340012079304637}, {\"mean\": -0.03206409440640691, \"std\": 0.6210759645719957}, {\"mean\": -0.011991579688002532, \"std\": 0.6268577345810572}, {\"mean\": -0.01813860954151746, \"std\": 0.5918197106308501}, {\"mean\": -0.04087352931868998, \"std\": 0.6669554654893775}, {\"mean\": -0.014026560681166688, \"std\": 0.6341750994411843}, {\"mean\": -0.016141490434413704, \"std\": 0.5999110694450097}, {\"mean\": -0.029289730945174758, \"std\": 0.6603594259230727}, {\"mean\": -0.023851312059610476, \"std\": 0.7307098319833953}, {\"mean\": -0.022702301924292036, \"std\": 0.602608080510056}, {\"mean\": -0.012464674491514801, \"std\": 0.6797612625516039}, {\"mean\": -0.01728486737904465, \"std\": 0.621499755644198}, {\"mean\": -0.04462798026172545, \"std\": 0.651530520700958}, {\"mean\": -0.02906266871076373, \"std\": 0.6054398521506611}, {\"mean\": -0.021851681892219855, \"std\": 0.6544445629930948}, {\"mean\": -0.01576709582466016, \"std\": 0.7246081625926619}, {\"mean\": -0.013496999407914182, \"std\": 0.6333157390461989}, {\"mean\": -0.03385546730215843, \"std\": 0.6359997516427688}, {\"mean\": -0.019769559281853942, \"std\": 0.6185186654867942}, {\"mean\": -0.015007224125753548, \"std\": 0.6981962458746525}, {\"mean\": -0.02783342568385498, \"std\": 0.6226884274291622}, {\"mean\": -0.023946514532971832, \"std\": 0.6322999827992597}, {\"mean\": -0.011194344002144625, \"std\": 0.6366886084149859}, {\"mean\": -0.006189360963418302, \"std\": 0.6457990506770152}, {\"mean\": -0.011700091616791322, \"std\": 0.6293515813312867}, {\"mean\": -0.021049000746674748, \"std\": 0.593418114641102}, {\"mean\": -0.02333332310999102, \"std\": 0.6286082638663937}, {\"mean\": -0.014867130464369011, \"std\": 0.6511188198094557}, {\"mean\": -0.028043064944579296, \"std\": 0.6190560167803101}, {\"mean\": -0.03535565805966503, \"std\": 0.6322318953008486}, {\"mean\": -0.02031082037032635, \"std\": 0.6005267411299411}, {\"mean\": -0.013346893886023408, \"std\": 0.6902919487980999}, {\"mean\": -0.0033470459010880105, \"std\": 0.6846013072257415}, {\"mean\": 0.014069909772490546, \"std\": 0.7919238286188159}, {\"mean\": -0.0012665153417225367, \"std\": 0.6371915357507996}, {\"mean\": -0.025371411678537688, \"std\": 0.6016514313360761}, {\"mean\": -0.04248345606942933, \"std\": 0.6295010706499115}, {\"mean\": 0.009373690449434995, \"std\": 0.7187297220524929}, {\"mean\": -0.013616750802129839, \"std\": 0.7190858464935079}, {\"mean\": -0.02433654052769627, \"std\": 0.6271518356578888}, {\"mean\": -0.013571867556466432, \"std\": 0.6281643971195405}, {\"mean\": -0.026757287094076536, \"std\": 0.6070315241522944}, {\"mean\": -0.022694831295979667, \"std\": 0.627341051631564}, {\"mean\": -0.01600144371255479, \"std\": 0.651698462773124}, {\"mean\": -0.02690440196622641, \"std\": 0.6177224682545683}, {\"mean\": 0.0014550654748653954, \"std\": 0.6468709592778683}, {\"mean\": -0.014967929919895566, \"std\": 0.6496387639558602}, {\"mean\": -0.014481141668937228, \"std\": 0.6947771905348749}, {\"mean\": -0.01312043001372421, \"std\": 0.609057792231901}, {\"mean\": -0.00928143788152044, \"std\": 0.6671947969294081}, {\"mean\": -0.03756967074614268, \"std\": 0.6540117381799619}, {\"mean\": -0.019326755480984805, \"std\": 0.6829779862465243}, {\"mean\": -0.040853514839725415, \"std\": 0.6280119898945569}, {\"mean\": -0.0004697256820106298, \"std\": 0.6456288187640151}, {\"mean\": -0.013217190749361092, \"std\": 0.6404837706875363}, {\"mean\": -0.01131044588872912, \"std\": 0.641026663308962}, {\"mean\": -0.015609345247696409, \"std\": 0.5996055074067143}, {\"mean\": 0.003142269171742424, \"std\": 0.6673239642019945}, {\"mean\": -0.018118550847346218, \"std\": 0.6142026642533606}, {\"mean\": -0.016533877006098083, \"std\": 0.6179922067484789}, {\"mean\": -0.03552464378251505, \"std\": 0.6419372035016907}, {\"mean\": -0.006119131224589073, \"std\": 0.6792662955445067}, {\"mean\": -0.022790197187345793, \"std\": 0.6465808969120287}, {\"mean\": -0.010844498428071135, \"std\": 0.6498068154149568}, {\"mean\": -0.02609388378705868, \"std\": 0.6230300338660847}, {\"mean\": -0.02379302869066355, \"std\": 0.625959311217991}, {\"mean\": 0.00903586870836832, \"std\": 0.7381364426510013}, {\"mean\": -0.01771115705828392, \"std\": 0.6949242949482081}, {\"mean\": -0.006829784494267641, \"std\": 0.6419453951313532}, {\"mean\": -0.02882951070645196, \"std\": 0.617989762118934}, {\"mean\": -0.0032340725664280956, \"std\": 0.6353040514703598}, {\"mean\": -0.014829820282630784, \"std\": 0.6265660277627283}, {\"mean\": 0.0020549928990515665, \"std\": 0.7212118561003785}, {\"mean\": -0.020782841924428957, \"std\": 0.7379561617414829}, {\"mean\": 0.0046681048067462585, \"std\": 0.7003477356156935}, {\"mean\": -0.017339387510935302, \"std\": 0.6445884538589325}, {\"mean\": -0.005247797329710039, \"std\": 0.6814789991687488}, {\"mean\": -0.014060899186814793, \"std\": 0.6734284219690254}, {\"mean\": -0.019342670591279153, \"std\": 0.5957630665804231}, {\"mean\": -0.04068554552819451, \"std\": 0.6298753462273561}, {\"mean\": -0.036856358846816685, \"std\": 0.5979151543589428}, {\"mean\": -0.025565883604974384, \"std\": 0.5991975733997185}, {\"mean\": 0.00229548065665844, \"std\": 0.7101463502402251}, {\"mean\": -0.020759373752686404, \"std\": 0.6661294715089643}, {\"mean\": -0.006942936748947761, \"std\": 0.6552166895227984}, {\"mean\": -0.012149141607502495, \"std\": 0.645761164958583}, {\"mean\": -0.022608329499265768, \"std\": 0.6339500961614557}, {\"mean\": -0.021303628797071712, \"std\": 0.5971941040726972}, {\"mean\": -0.012885372856302021, \"std\": 0.5994876914178201}, {\"mean\": 0.01217950730229557, \"std\": 0.7958523675115668}, {\"mean\": -0.02417692036412658, \"std\": 0.6173452905536666}, {\"mean\": -0.018908353537527497, \"std\": 0.6080699244602137}, {\"mean\": -0.030215095831575462, \"std\": 0.6245494671657307}, {\"mean\": -0.01654440049119868, \"std\": 0.6418616880510407}, {\"mean\": -0.0256861221713827, \"std\": 0.6173660662415359}, {\"mean\": 0.000373513600587482, \"std\": 0.7509653702171235}, {\"mean\": -0.021852503255847443, \"std\": 0.708225119559501}, {\"mean\": -0.023332639566184952, \"std\": 0.6675565282092933}, {\"mean\": -0.014603550361728352, \"std\": 0.6403328786555555}, {\"mean\": -0.012416157411910827, \"std\": 0.6497614207928252}, {\"mean\": -0.012830484455501187, \"std\": 0.6288626909012186}, {\"mean\": -0.000958176616428704, \"std\": 0.6946409654339079}, {\"mean\": -0.008009394401323689, \"std\": 0.6306862226183398}, {\"mean\": -0.014392372486793798, \"std\": 0.6378611727354095}, {\"mean\": -0.019448523925930675, \"std\": 0.6226706974923761}, {\"mean\": -0.02052428503289498, \"std\": 0.6114107947071892}, {\"mean\": -0.020950839610803438, \"std\": 0.6639409478326112}, {\"mean\": -0.018872602486979993, \"std\": 0.6740452366664776}, {\"mean\": -0.0010150917525936927, \"std\": 0.6768640486855075}, {\"mean\": -0.01498426034280588, \"std\": 0.8067051491160404}, {\"mean\": -0.016363699015405547, \"std\": 0.639491238935738}, {\"mean\": -0.019104632454975335, \"std\": 0.7569142698647288}, {\"mean\": -0.01385683296980303, \"std\": 0.6469849316123955}, {\"mean\": -0.02134611156960768, \"std\": 0.5868825024550622}, {\"mean\": -0.01783617397808541, \"std\": 0.6132155923009099}, {\"mean\": -0.023242121121987508, \"std\": 0.6144976298350447}, {\"mean\": -0.006578186770439307, \"std\": 0.6539817784428653}, {\"mean\": -0.012198380748902497, \"std\": 0.633729597576634}, {\"mean\": -0.021289574014379295, \"std\": 0.5997622431539}, {\"mean\": -0.02998401272490481, \"std\": 0.5900246168521462}, {\"mean\": -0.013657118319171666, \"std\": 0.6627594178524668}, {\"mean\": -0.026428245935850327, \"std\": 0.6087691989244987}, {\"mean\": -0.007674021632525347, \"std\": 0.7925989422288845}, {\"mean\": -0.006368117316334043, \"std\": 0.639989478054434}, {\"mean\": -0.018046311244837354, \"std\": 0.6119008526443495}, {\"mean\": -0.0035104077213254253, \"std\": 0.7424459531812916}, {\"mean\": -0.018747665591610858, \"std\": 0.64616798589117}, {\"mean\": 0.002525721504883313, \"std\": 0.7017958126817592}, {\"mean\": -0.020401300566575933, \"std\": 0.5983002686286346}, {\"mean\": -0.008513554647277393, \"std\": 0.6341794956960546}, {\"mean\": -0.025995802051918992, \"std\": 0.6199725819490459}, {\"mean\": -0.024808795105017288, \"std\": 0.6549408259058238}, {\"mean\": 0.0016881520460649351, \"std\": 0.7330368205992465}, {\"mean\": 0.005219651576416957, \"std\": 0.7264168265220639}, {\"mean\": -0.003435678930355611, \"std\": 0.6840388937324415}, {\"mean\": -0.007675914443068017, \"std\": 0.6648702425681338}, {\"mean\": -0.013727158542404238, \"std\": 0.6674001977210301}, {\"mean\": -0.019601705130586938, \"std\": 0.601655328697024}, {\"mean\": -0.0343173162804786, \"std\": 0.6117576689340046}, {\"mean\": -0.002033363793725056, \"std\": 0.6376720525335309}, {\"mean\": -0.006967455135276173, \"std\": 0.6586318840169214}, {\"mean\": -0.026094782037764674, \"std\": 0.6493712645539912}, {\"mean\": -0.028974905559689578, \"std\": 0.6135530067966879}, {\"mean\": -0.012180449819541316, \"std\": 0.6599772649696046}, {\"mean\": -0.038982735108805094, \"std\": 0.6675930230970508}, {\"mean\": 0.0053969787542470435, \"std\": 0.6993110710642647}, {\"mean\": -0.020163478608597827, \"std\": 0.61025136581943}, {\"mean\": -0.043778589824673364, \"std\": 0.6445787752225344}, {\"mean\": -0.015215068200659803, \"std\": 0.6129131237373445}, {\"mean\": -0.018229645396505793, \"std\": 0.6248522060952844}, {\"mean\": -0.0016911088326107436, \"std\": 0.6814994242217101}, {\"mean\": -0.023222846758056512, \"std\": 0.6419761324446773}, {\"mean\": -0.029039668325609877, \"std\": 0.5924811794476124}, {\"mean\": -0.0013336364057562956, \"std\": 0.63695787029593}, {\"mean\": -0.003776253777312444, \"std\": 0.6540200413157723}, {\"mean\": -0.010256762066641795, \"std\": 0.6968992846411447}, {\"mean\": -0.04013304616163552, \"std\": 0.618183924586366}, {\"mean\": -0.018560348886806275, \"std\": 0.6795650184451927}, {\"mean\": 0.011138696035107252, \"std\": 0.7437971233026622}, {\"mean\": -0.012996604820885202, \"std\": 0.6077902236962688}, {\"mean\": -0.01182732218712253, \"std\": 0.6425849829106643}, {\"mean\": -0.017992993712534988, \"std\": 0.7650011474181447}, {\"mean\": -0.018605467678505152, \"std\": 0.6128236904694314}, {\"mean\": -0.04051233162913171, \"std\": 0.6107974877440578}, {\"mean\": -0.010555713498839773, \"std\": 0.6909184598640861}, {\"mean\": -0.006556818934349177, \"std\": 0.629092023307008}, {\"mean\": -0.018011445870329004, \"std\": 0.7081550928016068}, {\"mean\": 0.008143784496711168, \"std\": 0.756535075409297}, {\"mean\": -0.0023986697643534178, \"std\": 0.6386320193908669}, {\"mean\": -0.011869709723188723, \"std\": 0.6172667275334638}, {\"mean\": -0.0132077290511095, \"std\": 0.6502701346938913}, {\"mean\": -0.018101006269675094, \"std\": 0.7064134021539539}, {\"mean\": -0.02721719168726293, \"std\": 0.5967012323411853}, {\"mean\": -0.02696466217680514, \"std\": 0.6100728944310776}, {\"mean\": -0.014150652852862548, \"std\": 0.6673935055473623}, {\"mean\": -0.01658821585403714, \"std\": 0.5993370780025514}, {\"mean\": -0.026059061175200637, \"std\": 0.5923233791393064}, {\"mean\": -0.029547239803762528, \"std\": 0.6126793327661806}, {\"mean\": -0.01783233120604487, \"std\": 0.6064225904489086}, {\"mean\": -0.017575821367759495, \"std\": 0.7103183079605396}, {\"mean\": -0.004344511994831945, \"std\": 0.6479782590623949}, {\"mean\": -0.018916895147485808, \"std\": 0.6533113448829825}, {\"mean\": -0.012587504462216615, \"std\": 0.69086247699952}, {\"mean\": -0.004968991739936858, \"std\": 0.6216402288644807}, {\"mean\": -0.01403002079415458, \"std\": 0.6213163691588964}, {\"mean\": -0.007556609357698472, \"std\": 0.633288053113849}, {\"mean\": -0.022771867275513325, \"std\": 0.6439758777033706}, {\"mean\": -0.03604042135553502, \"std\": 0.615704378643075}, {\"mean\": -0.027552564440616982, \"std\": 0.585880071601195}, {\"mean\": -0.0019358280188716962, \"std\": 0.6879145180062899}, {\"mean\": -0.0142377569129412, \"std\": 0.6229355407911167}, {\"mean\": -0.012013107727298312, \"std\": 0.6570933969059073}, {\"mean\": -0.0057530985406564665, \"std\": 0.6726455367075114}, {\"mean\": -0.022103448107766138, \"std\": 0.6244954896891849}, {\"mean\": -0.015307260296449994, \"std\": 0.7418476968105301}, {\"mean\": -0.015367690303495147, \"std\": 0.6914602578334498}, {\"mean\": -0.01616627579391764, \"std\": 0.6324012288779236}, {\"mean\": -0.01510765258849631, \"std\": 0.6435642422280724}, {\"mean\": -0.019355064334593882, \"std\": 0.6034670930873164}, {\"mean\": -0.02229121205697943, \"std\": 0.6079540323491963}, {\"mean\": -0.015745600456018388, \"std\": 0.6134719544723602}, {\"mean\": -0.011882791071429078, \"std\": 0.6235754522499072}, {\"mean\": -0.004656139857333021, \"std\": 0.6598434280895766}, {\"mean\": -0.03223378356183904, \"std\": 0.6712748212212347}, {\"mean\": -0.04070199544496038, \"std\": 0.6099114303711713}, {\"mean\": -0.015812924273180682, \"std\": 0.6231376845688067}, {\"mean\": -0.01650201571248981, \"std\": 0.6076835539819935}, {\"mean\": 0.006026949282703787, \"std\": 0.7066654555525155}, {\"mean\": -0.02463483764410586, \"std\": 0.6236720543377426}, {\"mean\": -0.013295099721260504, \"std\": 0.6566131236861037}, {\"mean\": 0.0005467690024822604, \"std\": 0.686100488491158}, {\"mean\": -0.008007711412338348, \"std\": 0.7185178559322827}, {\"mean\": -0.009783304057513742, \"std\": 0.6536578787941237}, {\"mean\": -0.029432053855634265, \"std\": 0.61750038126892}, {\"mean\": -0.026741467025797015, \"std\": 0.5949401192459012}, {\"mean\": -0.008833745182925597, \"std\": 0.635759952139278}, {\"mean\": -0.0006427381351464027, \"std\": 0.657526660242518}, {\"mean\": -0.004393859865975072, \"std\": 0.6727271631410419}, {\"mean\": -0.025208764610912274, \"std\": 0.612964260027848}, {\"mean\": -0.004372765757624387, \"std\": 0.6399285323161154}, {\"mean\": -0.01397706636998539, \"std\": 0.6233475063726399}, {\"mean\": -0.030414663555173357, \"std\": 0.6088807317018441}, {\"mean\": -0.027566740267449517, \"std\": 0.638637873085515}, {\"mean\": -0.029805533824997236, \"std\": 0.6102290411006059}, {\"mean\": -0.0135100681278774, \"std\": 0.6766160201714544}, {\"mean\": -0.02295108970778931, \"std\": 0.6621154724505495}, {\"mean\": -0.02924016218431955, \"std\": 0.6988909224868532}, {\"mean\": 0.0023651007287575562, \"std\": 0.7163904696669312}, {\"mean\": -0.02461883432970462, \"std\": 0.6260361376669471}, {\"mean\": -0.01972089618157414, \"std\": 0.6222382521664672}, {\"mean\": 0.003194781538416175, \"std\": 0.7245756737698219}, {\"mean\": -0.023990845453770997, \"std\": 0.6139187992720839}, {\"mean\": -0.029263208193919168, \"std\": 0.5969891971427785}, {\"mean\": -0.026057443364921176, \"std\": 0.6005106817502774}, {\"mean\": -0.017704659259011248, \"std\": 0.7355113029018241}, {\"mean\": -0.00820425446004885, \"std\": 0.6428326659885687}, {\"mean\": -0.01290888896670424, \"std\": 0.64778878462076}, {\"mean\": -0.03497351601358452, \"std\": 0.619928631149291}, {\"mean\": -0.01870785036142606, \"std\": 0.6126378949318155}, {\"mean\": -0.016715853888851846, \"std\": 0.6574100656982967}, {\"mean\": -0.02116680725653165, \"std\": 0.6273278593948681}, {\"mean\": -0.004089392097043525, \"std\": 0.6583812269650757}, {\"mean\": -0.03097454110467341, \"std\": 0.6132714801150334}, {\"mean\": -0.0009715666875275895, \"std\": 0.6778641232284083}, {\"mean\": -0.01214788898008278, \"std\": 0.7206174458700261}, {\"mean\": -0.003422622995566867, \"std\": 0.6697679800812099}, {\"mean\": -0.004475633762700127, \"std\": 0.6280808592758355}, {\"mean\": -0.02047500166342673, \"std\": 0.6555158156409068}, {\"mean\": -0.0031638790380261648, \"std\": 0.6570073888880257}, {\"mean\": -0.015742933248220074, \"std\": 0.695975231021649}, {\"mean\": -0.020399657056890654, \"std\": 0.626340696246415}, {\"mean\": -0.01374850000180468, \"std\": 0.6390983249525726}, {\"mean\": -0.036042723267600614, \"std\": 0.7213702814755328}, {\"mean\": -0.0316668693756473, \"std\": 0.6155544931006753}, {\"mean\": -0.008053107131563363, \"std\": 0.6591967235177523}, {\"mean\": -0.02506893264478237, \"std\": 0.6404609447192077}, {\"mean\": -0.0323293573166317, \"std\": 0.6176257216681214}, {\"mean\": -0.01054931700656632, \"std\": 0.6484874233095003}, {\"mean\": -0.02776095426765571, \"std\": 0.6434884611231724}, {\"mean\": -0.024485303708748966, \"std\": 0.6239091921233939}, {\"mean\": -0.009464477095240632, \"std\": 0.6232690635039467}, {\"mean\": -0.024936049765777926, \"std\": 0.6160049377725716}, {\"mean\": -0.021626852975531533, \"std\": 0.6553093627133567}, {\"mean\": -0.017845083737231544, \"std\": 0.769855716822439}, {\"mean\": -0.0385870423561861, \"std\": 0.6225023074762362}, {\"mean\": -0.03415470016283477, \"std\": 0.6122127137620667}, {\"mean\": -0.0073892479495402145, \"std\": 0.6279416779459732}, {\"mean\": -0.022535304732669556, \"std\": 0.6078539354453125}, {\"mean\": -0.0021764026310542523, \"std\": 0.6355873486099498}, {\"mean\": -0.021970911030102687, \"std\": 0.6001980971617847}, {\"mean\": -0.022132147368924698, \"std\": 0.5931455672391168}, {\"mean\": -0.026348529054025027, \"std\": 0.6182737936452849}, {\"mean\": -0.017146393598903912, \"std\": 0.6159431231260701}], \"data-31799f26c9fec62face83e0013e14e40\": [{\"mean\": 0.0054403537208438345, \"std\": 0.6796115721453676}], \"data-11fa1df39925ae43e90f53a8e125f581\": [{\"mean\": 0.0054403537208438345, \"std\": 0.6796115721453676, \"text\": \"\\uc801\\uc815\\ud3ec\\ud2b8\\ud3f4\\ub9ac\\uc624\"}], \"data-98cdb098d832f8f943c4a74e5a8a420f\": [{\"mean\": -0.02, \"std\": 0.62, \"text\": \"\\uc7a0\\uc7ac\\ud3ec\\ud2b8\\ud3f4\\ub9ac\\uc624\\uc9d1\\ub2e8\"}]}}, {\"mode\": \"vega-lite\"});\n",
       "</script>"
      ],
      "text/plain": [
       "alt.LayerChart(...)"
      ]
     },
     "execution_count": 155,
     "metadata": {},
     "output_type": "execute_result"
    }
   ],
   "source": [
    "circle = alt.Chart(reits_rate.describe().loc[['mean','std']].T.drop(['KOSPI수익률','ESR종목수익률','에이리츠종목수익률'])).mark_circle().encode(\n",
    "    x = alt.X('std', scale=alt.Scale(domain=[0.5, 1.15])),\n",
    "    y = alt.Y('mean')\n",
    ")\n",
    "\n",
    "text = alt.Chart(reits_rate.describe().loc[['mean','std']].T.drop((['KOSPI수익률','ESR종목수익률','에이리츠종목수익률'])).reset_index()).mark_text(align='left', baseline='line-top').encode(\n",
    "    x = 'std',\n",
    "    y = 'mean',\n",
    "    text = 'index'    \n",
    ")\n",
    "\n",
    "circle2 = alt.Chart(portfolio).mark_circle(color = 'green').encode(\n",
    "    x = 'std',\n",
    "    y = 'mean'\n",
    ")\n",
    "\n",
    "circle3 = alt.Chart(portfolio.loc[[541]]).mark_circle(color = 'red', size = 200).encode(\n",
    "    x = 'std',\n",
    "    y = 'mean' \n",
    ")\n",
    "\n",
    "text2 = alt.Chart(p2_annot).mark_text(align='right').encode(\n",
    "    x = 'std',\n",
    "    y = 'mean',\n",
    "    text = alt.Text('text')    \n",
    ")\n",
    "\n",
    "text3 = alt.Chart(p2_annot2).mark_text(align='left', size = 15, color = 'black', fontWeight = 'bold').encode(\n",
    "    x = 'std',\n",
    "    y = 'mean',\n",
    "    text = alt.Text('text')    \n",
    ")\n",
    "\n",
    "(circle + text + circle2 + circle3 + text2 + text3).properties(width = 600, height = 400)"
   ]
  },
  {
   "cell_type": "code",
   "execution_count": 119,
   "metadata": {},
   "outputs": [
    {
     "data": {
      "text/html": [
       "<div>\n",
       "<style scoped>\n",
       "    .dataframe tbody tr th:only-of-type {\n",
       "        vertical-align: middle;\n",
       "    }\n",
       "\n",
       "    .dataframe tbody tr th {\n",
       "        vertical-align: top;\n",
       "    }\n",
       "\n",
       "    .dataframe thead th {\n",
       "        text-align: right;\n",
       "    }\n",
       "</style>\n",
       "<table border=\"1\" class=\"dataframe\">\n",
       "  <thead>\n",
       "    <tr style=\"text-align: right;\">\n",
       "      <th></th>\n",
       "      <th>mean</th>\n",
       "      <th>std</th>\n",
       "    </tr>\n",
       "  </thead>\n",
       "  <tbody>\n",
       "    <tr>\n",
       "      <th>720</th>\n",
       "      <td>0.010222</td>\n",
       "      <td>0.715922</td>\n",
       "    </tr>\n",
       "  </tbody>\n",
       "</table>\n",
       "</div>"
      ],
      "text/plain": [
       "         mean       std\n",
       "720  0.010222  0.715922"
      ]
     },
     "execution_count": 119,
     "metadata": {},
     "output_type": "execute_result"
    }
   ],
   "source": [
    "portfolio.loc[lambda x : x['mean'] >= 0.009]\n",
    "portfolio.loc[[720]]"
   ]
  },
  {
   "cell_type": "code",
   "execution_count": 140,
   "metadata": {},
   "outputs": [
    {
     "data": {
      "text/plain": [
       "array([0.49340669, 0.0164097 , 0.02970042, 0.2700437 , 0.06713302,\n",
       "       0.12330647])"
      ]
     },
     "execution_count": 140,
     "metadata": {},
     "output_type": "execute_result"
    }
   ],
   "source": [
    "X[720]"
   ]
  },
  {
   "cell_type": "code",
   "execution_count": 147,
   "metadata": {},
   "outputs": [],
   "source": [
    "portfolio2 = pd.DataFrame(X)\n",
    "portfolio2.columns = r2.columns"
   ]
  },
  {
   "cell_type": "code",
   "execution_count": 149,
   "metadata": {},
   "outputs": [
    {
     "data": {
      "text/plain": [
       "에너지리츠종목수익률      0.493407\n",
       "맵스종목수익률         0.016410\n",
       "이지스레지던스종목수익률    0.029700\n",
       "NH프라임종목수익률      0.270044\n",
       "신한알파종목수익률       0.067133\n",
       "이리츠종목수익률        0.123306\n",
       "Name: 720, dtype: float64"
      ]
     },
     "execution_count": 149,
     "metadata": {},
     "output_type": "execute_result"
    }
   ],
   "source": [
    "portfolio2.loc[720]"
   ]
  },
  {
   "cell_type": "code",
   "execution_count": 151,
   "metadata": {},
   "outputs": [
    {
     "data": {
      "text/html": [
       "<div>\n",
       "<style scoped>\n",
       "    .dataframe tbody tr th:only-of-type {\n",
       "        vertical-align: middle;\n",
       "    }\n",
       "\n",
       "    .dataframe tbody tr th {\n",
       "        vertical-align: top;\n",
       "    }\n",
       "\n",
       "    .dataframe thead th {\n",
       "        text-align: right;\n",
       "    }\n",
       "</style>\n",
       "<table border=\"1\" class=\"dataframe\">\n",
       "  <thead>\n",
       "    <tr style=\"text-align: right;\">\n",
       "      <th></th>\n",
       "      <th>mean</th>\n",
       "      <th>std</th>\n",
       "    </tr>\n",
       "  </thead>\n",
       "  <tbody>\n",
       "    <tr>\n",
       "      <th>541</th>\n",
       "      <td>0.00544</td>\n",
       "      <td>0.679612</td>\n",
       "    </tr>\n",
       "  </tbody>\n",
       "</table>\n",
       "</div>"
      ],
      "text/plain": [
       "        mean       std\n",
       "541  0.00544  0.679612"
      ]
     },
     "execution_count": 151,
     "metadata": {},
     "output_type": "execute_result"
    }
   ],
   "source": [
    "portfolio.loc[lambda x : x['mean'] >= 0.005]\n",
    "portfolio.loc[[541]]"
   ]
  },
  {
   "cell_type": "code",
   "execution_count": 152,
   "metadata": {},
   "outputs": [
    {
     "data": {
      "text/plain": [
       "에너지리츠종목수익률      0.387743\n",
       "맵스종목수익률         0.004819\n",
       "이지스레지던스종목수익률    0.071809\n",
       "NH프라임종목수익률      0.395246\n",
       "신한알파종목수익률       0.113104\n",
       "이리츠종목수익률        0.027279\n",
       "Name: 541, dtype: float64"
      ]
     },
     "execution_count": 152,
     "metadata": {},
     "output_type": "execute_result"
    }
   ],
   "source": [
    "portfolio2.loc[541]"
   ]
  },
  {
   "cell_type": "code",
   "execution_count": 157,
   "metadata": {},
   "outputs": [],
   "source": [
    "portfolio2.to_excel('portfolio2.xlsx')"
   ]
  },
  {
   "cell_type": "code",
   "execution_count": null,
   "metadata": {},
   "outputs": [],
   "source": []
  },
  {
   "cell_type": "code",
   "execution_count": null,
   "metadata": {},
   "outputs": [],
   "source": [
    "r3 = reits_rate.drop(['KOSPI수익률'], axis = 1)"
   ]
  },
  {
   "cell_type": "code",
   "execution_count": 161,
   "metadata": {},
   "outputs": [
    {
     "data": {
      "text/plain": [
       "array([[0.21721699, 0.11349373, 0.1801651 , 0.03244092, 0.26228772,\n",
       "        0.06718722, 0.06945323, 0.05775509],\n",
       "       [0.05015991, 0.29369063, 0.08134247, 0.00215996, 0.18128515,\n",
       "        0.12762724, 0.24695544, 0.0167792 ],\n",
       "       [0.18836848, 0.00435603, 0.04135546, 0.49989694, 0.06785936,\n",
       "        0.15497246, 0.01037981, 0.03281145]])"
      ]
     },
     "execution_count": 161,
     "metadata": {},
     "output_type": "execute_result"
    }
   ],
   "source": [
    "X2 = dirichlet((1,1,1,1,1,1,1,1)).rvs(1000)\n",
    "X2[:3]"
   ]
  },
  {
   "cell_type": "code",
   "execution_count": 162,
   "metadata": {},
   "outputs": [],
   "source": [
    "rs3 = reits_sp.drop(['KOSPI종가'], axis = 1)\n",
    "k2 = {}\n",
    "for idx, i in enumerate(X2):\n",
    "    _x = (rs3 * i).sum(axis = 1).pct_change(periods = -1).dropna()*100\n",
    "    k2[idx] = {}\n",
    "    k2[idx]['mean'] = _x.mean()\n",
    "    k2[idx]['std'] = _x.std()"
   ]
  },
  {
   "cell_type": "code",
   "execution_count": 163,
   "metadata": {},
   "outputs": [],
   "source": [
    "portfolio_2 = pd.DataFrame(k).T"
   ]
  },
  {
   "cell_type": "code",
   "execution_count": 164,
   "metadata": {},
   "outputs": [
    {
     "data": {
      "text/html": [
       "<div>\n",
       "<style scoped>\n",
       "    .dataframe tbody tr th:only-of-type {\n",
       "        vertical-align: middle;\n",
       "    }\n",
       "\n",
       "    .dataframe tbody tr th {\n",
       "        vertical-align: top;\n",
       "    }\n",
       "\n",
       "    .dataframe thead th {\n",
       "        text-align: right;\n",
       "    }\n",
       "</style>\n",
       "<table border=\"1\" class=\"dataframe\">\n",
       "  <thead>\n",
       "    <tr style=\"text-align: right;\">\n",
       "      <th></th>\n",
       "      <th>mean</th>\n",
       "      <th>std</th>\n",
       "    </tr>\n",
       "  </thead>\n",
       "  <tbody>\n",
       "    <tr>\n",
       "      <th>0</th>\n",
       "      <td>-0.031936</td>\n",
       "      <td>0.592466</td>\n",
       "    </tr>\n",
       "    <tr>\n",
       "      <th>1</th>\n",
       "      <td>-0.017313</td>\n",
       "      <td>0.624132</td>\n",
       "    </tr>\n",
       "    <tr>\n",
       "      <th>2</th>\n",
       "      <td>-0.006394</td>\n",
       "      <td>0.672689</td>\n",
       "    </tr>\n",
       "    <tr>\n",
       "      <th>3</th>\n",
       "      <td>-0.012688</td>\n",
       "      <td>0.659646</td>\n",
       "    </tr>\n",
       "    <tr>\n",
       "      <th>4</th>\n",
       "      <td>-0.009382</td>\n",
       "      <td>0.651984</td>\n",
       "    </tr>\n",
       "  </tbody>\n",
       "</table>\n",
       "</div>"
      ],
      "text/plain": [
       "       mean       std\n",
       "0 -0.031936  0.592466\n",
       "1 -0.017313  0.624132\n",
       "2 -0.006394  0.672689\n",
       "3 -0.012688  0.659646\n",
       "4 -0.009382  0.651984"
      ]
     },
     "execution_count": 164,
     "metadata": {},
     "output_type": "execute_result"
    }
   ],
   "source": [
    "portfolio_2.head()"
   ]
  },
  {
   "cell_type": "code",
   "execution_count": null,
   "metadata": {},
   "outputs": [],
   "source": []
  },
  {
   "cell_type": "code",
   "execution_count": 177,
   "metadata": {},
   "outputs": [
    {
     "data": {
      "text/html": [
       "\n",
       "<div id=\"altair-viz-ff672ff81efc4ee9add4af38ace1fd3d\"></div>\n",
       "<script type=\"text/javascript\">\n",
       "  (function(spec, embedOpt){\n",
       "    let outputDiv = document.currentScript.previousElementSibling;\n",
       "    if (outputDiv.id !== \"altair-viz-ff672ff81efc4ee9add4af38ace1fd3d\") {\n",
       "      outputDiv = document.getElementById(\"altair-viz-ff672ff81efc4ee9add4af38ace1fd3d\");\n",
       "    }\n",
       "    const paths = {\n",
       "      \"vega\": \"https://cdn.jsdelivr.net/npm//vega@5?noext\",\n",
       "      \"vega-lib\": \"https://cdn.jsdelivr.net/npm//vega-lib?noext\",\n",
       "      \"vega-lite\": \"https://cdn.jsdelivr.net/npm//vega-lite@4.8.1?noext\",\n",
       "      \"vega-embed\": \"https://cdn.jsdelivr.net/npm//vega-embed@6?noext\",\n",
       "    };\n",
       "\n",
       "    function loadScript(lib) {\n",
       "      return new Promise(function(resolve, reject) {\n",
       "        var s = document.createElement('script');\n",
       "        s.src = paths[lib];\n",
       "        s.async = true;\n",
       "        s.onload = () => resolve(paths[lib]);\n",
       "        s.onerror = () => reject(`Error loading script: ${paths[lib]}`);\n",
       "        document.getElementsByTagName(\"head\")[0].appendChild(s);\n",
       "      });\n",
       "    }\n",
       "\n",
       "    function showError(err) {\n",
       "      outputDiv.innerHTML = `<div class=\"error\" style=\"color:red;\">${err}</div>`;\n",
       "      throw err;\n",
       "    }\n",
       "\n",
       "    function displayChart(vegaEmbed) {\n",
       "      vegaEmbed(outputDiv, spec, embedOpt)\n",
       "        .catch(err => showError(`Javascript Error: ${err.message}<br>This usually means there's a typo in your chart specification. See the javascript console for the full traceback.`));\n",
       "    }\n",
       "\n",
       "    if(typeof define === \"function\" && define.amd) {\n",
       "      requirejs.config({paths});\n",
       "      require([\"vega-embed\"], displayChart, err => showError(`Error loading script: ${err.message}`));\n",
       "    } else if (typeof vegaEmbed === \"function\") {\n",
       "      displayChart(vegaEmbed);\n",
       "    } else {\n",
       "      loadScript(\"vega\")\n",
       "        .then(() => loadScript(\"vega-lite\"))\n",
       "        .then(() => loadScript(\"vega-embed\"))\n",
       "        .catch(showError)\n",
       "        .then(() => displayChart(vegaEmbed));\n",
       "    }\n",
       "  })({\"config\": {\"view\": {\"continuousWidth\": 400, \"continuousHeight\": 300}}, \"layer\": [{\"data\": {\"name\": \"data-3752d795b6fbf2f34a26f25076afe8aa\"}, \"mark\": \"circle\", \"encoding\": {\"x\": {\"type\": \"quantitative\", \"field\": \"std\", \"scale\": {\"domain\": [0.5, 2]}}, \"y\": {\"type\": \"quantitative\", \"field\": \"mean\"}}}, {\"data\": {\"name\": \"data-90e22d4e9be8e344c67fbea980e6d41f\"}, \"mark\": {\"type\": \"text\", \"align\": \"left\", \"baseline\": \"line-top\"}, \"encoding\": {\"text\": {\"type\": \"nominal\", \"field\": \"index\"}, \"x\": {\"type\": \"quantitative\", \"field\": \"std\"}, \"y\": {\"type\": \"quantitative\", \"field\": \"mean\"}}}, {\"data\": {\"name\": \"data-46aa64bad20dc657d4c3ab88e48d5856\"}, \"mark\": {\"type\": \"circle\", \"color\": \"green\"}, \"encoding\": {\"x\": {\"type\": \"quantitative\", \"field\": \"std\"}, \"y\": {\"type\": \"quantitative\", \"field\": \"mean\"}}}], \"height\": 400, \"width\": 600, \"$schema\": \"https://vega.github.io/schema/vega-lite/v4.8.1.json\", \"datasets\": {\"data-3752d795b6fbf2f34a26f25076afe8aa\": [{\"mean\": -0.02604366772655015, \"std\": 1.6467594357563913}, {\"mean\": 0.03301517647058825, \"std\": 0.9969774975064257}, {\"mean\": -0.06278368521462631, \"std\": 0.7921203743586854}, {\"mean\": -0.04142345786963434, \"std\": 0.832601623042918}, {\"mean\": -0.0010382098569157163, \"std\": 0.8591174844938146}, {\"mean\": -0.01534391573926861, \"std\": 0.9034861226927783}, {\"mean\": -0.00872705087440384, \"std\": 0.9010943498647761}, {\"mean\": -0.06716933068362482, \"std\": 2.8935245690379183}], \"data-90e22d4e9be8e344c67fbea980e6d41f\": [{\"index\": \"ESR\\uc885\\ubaa9\\uc218\\uc775\\ub960\", \"mean\": -0.02604366772655015, \"std\": 1.6467594357563913}, {\"index\": \"\\uc5d0\\ub108\\uc9c0\\ub9ac\\uce20\\uc885\\ubaa9\\uc218\\uc775\\ub960\", \"mean\": 0.03301517647058825, \"std\": 0.9969774975064257}, {\"index\": \"\\ub9f5\\uc2a4\\uc885\\ubaa9\\uc218\\uc775\\ub960\", \"mean\": -0.06278368521462631, \"std\": 0.7921203743586854}, {\"index\": \"\\uc774\\uc9c0\\uc2a4\\ub808\\uc9c0\\ub358\\uc2a4\\uc885\\ubaa9\\uc218\\uc775\\ub960\", \"mean\": -0.04142345786963434, \"std\": 0.832601623042918}, {\"index\": \"NH\\ud504\\ub77c\\uc784\\uc885\\ubaa9\\uc218\\uc775\\ub960\", \"mean\": -0.0010382098569157163, \"std\": 0.8591174844938146}, {\"index\": \"\\uc2e0\\ud55c\\uc54c\\ud30c\\uc885\\ubaa9\\uc218\\uc775\\ub960\", \"mean\": -0.01534391573926861, \"std\": 0.9034861226927783}, {\"index\": \"\\uc774\\ub9ac\\uce20\\uc885\\ubaa9\\uc218\\uc775\\ub960\", \"mean\": -0.00872705087440384, \"std\": 0.9010943498647761}, {\"index\": \"\\uc5d0\\uc774\\ub9ac\\uce20\\uc885\\ubaa9\\uc218\\uc775\\ub960\", \"mean\": -0.06716933068362482, \"std\": 2.8935245690379183}], \"data-46aa64bad20dc657d4c3ab88e48d5856\": [{\"mean\": -0.031935571602173224, \"std\": 0.592465903523984}, {\"mean\": -0.017312525551317612, \"std\": 0.6241318551492175}, {\"mean\": -0.006394431620547421, \"std\": 0.6726890850557571}, {\"mean\": -0.012687755421083188, \"std\": 0.6596462979413624}, {\"mean\": -0.009382123836607697, \"std\": 0.6519838676209563}, {\"mean\": -0.010296021586865569, \"std\": 0.6820768727412936}, {\"mean\": -0.02277138260616294, \"std\": 0.6325896662124348}, {\"mean\": -0.018002003970103604, \"std\": 0.6024324268204299}, {\"mean\": -0.022580691331158968, \"std\": 0.6190549689523002}, {\"mean\": -0.013357764650738397, \"std\": 0.6157169741187164}, {\"mean\": -0.02544818065536188, \"std\": 0.6085159871191766}, {\"mean\": 0.007361401429479499, \"std\": 0.7112065863100159}, {\"mean\": -0.024822390078531077, \"std\": 0.5978581272773019}, {\"mean\": -0.021767263272516713, \"std\": 0.6102933171641571}, {\"mean\": -0.027246372622070105, \"std\": 0.6101029459846113}, {\"mean\": -0.008539666163146893, \"std\": 0.6432517191885647}, {\"mean\": -0.010545015926513697, \"std\": 0.619196619951023}, {\"mean\": -0.01511165393270767, \"std\": 0.6064453590051543}, {\"mean\": -0.011217454044944428, \"std\": 0.6237577118980957}, {\"mean\": -0.002387980049445612, \"std\": 0.6720572610008702}, {\"mean\": -0.0252691680666887, \"std\": 0.593416254217467}, {\"mean\": -0.04508490591759299, \"std\": 0.6518341568201472}, {\"mean\": -0.003637820719265844, \"std\": 0.6525986486547971}, {\"mean\": -0.023023788943696586, \"std\": 0.5935583551933054}, {\"mean\": -0.03743324420086432, \"std\": 0.6297617709775374}, {\"mean\": -0.026248334160566465, \"std\": 0.6281764992787723}, {\"mean\": -0.013623304733025615, \"std\": 0.6098736765035103}, {\"mean\": -0.011184722086115, \"std\": 0.608357177337096}, {\"mean\": -0.0020994750547906654, \"std\": 0.6525721714588065}, {\"mean\": -0.03637984594903629, \"std\": 0.6151699591744869}, {\"mean\": 0.004983203274539551, \"std\": 0.7224930414802715}, {\"mean\": -0.004456342019055459, \"std\": 0.6533372062676697}, {\"mean\": -0.02710707831853761, \"std\": 0.5904567160411829}, {\"mean\": -0.016078028664807648, \"std\": 0.683113719460906}, {\"mean\": -0.027566672747600825, \"std\": 0.6148081384930838}, {\"mean\": -0.02612109932822435, \"std\": 0.6224616540155029}, {\"mean\": -0.021381756802198438, \"std\": 0.636948831851685}, {\"mean\": -0.014369269493109137, \"std\": 0.6146425506763978}, {\"mean\": -0.020596961789992707, \"std\": 0.7561451834168875}, {\"mean\": -0.007065357647441464, \"std\": 0.6120681296191169}, {\"mean\": -0.026973751067487447, \"std\": 0.6379981549123156}, {\"mean\": -0.03867317698913785, \"std\": 0.6263047610290563}, {\"mean\": 0.008003897436058366, \"std\": 0.7395412178065202}, {\"mean\": -0.020900304199795175, \"std\": 0.6350355690232713}, {\"mean\": -0.01729261558327646, \"std\": 0.6117814476284774}, {\"mean\": -0.01918878387160059, \"std\": 0.6105744475881487}, {\"mean\": -0.02373642939301652, \"std\": 0.6531361968313711}, {\"mean\": -0.019692128429328867, \"std\": 0.6142035621010083}, {\"mean\": -0.01348410171980522, \"std\": 0.6158149250292929}, {\"mean\": -0.02239855747365319, \"std\": 0.5923557950491053}, {\"mean\": -0.023932172104408005, \"std\": 0.5881884912394827}, {\"mean\": -0.0349520887490047, \"std\": 0.608147547518244}, {\"mean\": -0.011776816764749677, \"std\": 0.6134043903286275}, {\"mean\": -0.002102243028381576, \"std\": 0.6612191506079311}, {\"mean\": -0.034104188620617905, \"std\": 0.6800520344679374}, {\"mean\": -0.025165345866757217, \"std\": 0.6346356452422703}, {\"mean\": -0.013579828308913086, \"std\": 0.6720391197465092}, {\"mean\": -0.023771320619800848, \"std\": 0.6516298567928028}, {\"mean\": -0.018745860799911005, \"std\": 0.595109886529308}, {\"mean\": -0.005523389993642495, \"std\": 0.6364566988839135}, {\"mean\": -0.011076540822838727, \"std\": 0.6539956770653305}, {\"mean\": 0.0011358203114007195, \"std\": 0.6588641790362118}, {\"mean\": -0.0243243078376116, \"std\": 0.6285205540886765}, {\"mean\": -0.012947715465989515, \"std\": 0.6403171313413565}, {\"mean\": -0.01467674382476465, \"std\": 0.6188219345278269}, {\"mean\": -0.030284876514940686, \"std\": 0.6283819790049178}, {\"mean\": -0.011813273276859914, \"std\": 0.6448984494977865}, {\"mean\": -0.012307775912155618, \"std\": 0.6173584089963614}, {\"mean\": -0.016954120299327628, \"std\": 0.6248246272761699}, {\"mean\": -0.021896770995543807, \"std\": 0.6075751968746829}, {\"mean\": -0.0020729735406478382, \"std\": 0.6305206968229524}, {\"mean\": -0.013491237892936022, \"std\": 0.6008690451909758}, {\"mean\": -0.0024969545098637073, \"std\": 0.6618132508717771}, {\"mean\": -0.014515037505521454, \"std\": 0.6033200542075181}, {\"mean\": -0.012441874740895125, \"std\": 0.6184947177589049}, {\"mean\": -0.0261957163006788, \"std\": 0.6478476884240735}, {\"mean\": -0.018376921084866448, \"std\": 0.6173314421923981}, {\"mean\": -0.015145170476413582, \"std\": 0.6384065104846727}, {\"mean\": -0.018837348827867632, \"std\": 0.6040219403527329}, {\"mean\": -0.012167395061105073, \"std\": 0.6400902732344086}, {\"mean\": -0.0014666761440317055, \"std\": 0.7056150299910577}, {\"mean\": -0.017935636003691736, \"std\": 0.6566743148859401}, {\"mean\": -0.014365104812328007, \"std\": 0.6601432301692141}, {\"mean\": -0.026595500644874506, \"std\": 0.6870481922593951}, {\"mean\": -0.00843884603245303, \"std\": 0.6661300782234941}, {\"mean\": -0.013349483136776728, \"std\": 0.6372722809103057}, {\"mean\": -0.03659291069090562, \"std\": 0.6153442035437113}, {\"mean\": -0.023028493543421995, \"std\": 0.6564382963362622}, {\"mean\": -0.0427560803375297, \"std\": 0.6615323107109536}, {\"mean\": -0.01698471814672722, \"std\": 0.6518959759584018}, {\"mean\": -0.027444462375104315, \"std\": 0.6151751358531805}, {\"mean\": -0.005882915645012055, \"std\": 0.6808723533474577}, {\"mean\": -0.03211056501132659, \"std\": 0.605386760826552}, {\"mean\": -0.033920214480934734, \"std\": 0.6820013076520914}, {\"mean\": -0.03523240361198712, \"std\": 0.6185639896890154}, {\"mean\": -0.013817972871939513, \"std\": 0.6731590684876093}, {\"mean\": -0.013034257095392535, \"std\": 0.6731288216854024}, {\"mean\": -0.02896709935735724, \"std\": 0.6466637227197077}, {\"mean\": -0.025769643329486096, \"std\": 0.6130463293944395}, {\"mean\": -0.0145075241815692, \"std\": 0.6083581591227738}, {\"mean\": -0.02133892637046866, \"std\": 0.6411197355006666}, {\"mean\": -0.009265068936685588, \"std\": 0.6210981749986373}, {\"mean\": -0.027604967600512488, \"std\": 0.662820014734947}, {\"mean\": -0.01952030141725449, \"std\": 0.6329124000376422}, {\"mean\": -0.021785038276894327, \"std\": 0.7177608236702532}, {\"mean\": -0.0130076436379326, \"std\": 0.6526438824357182}, {\"mean\": -0.03316887387078181, \"std\": 0.6309093157138018}, {\"mean\": -0.018103376247312376, \"std\": 0.6271645310046937}, {\"mean\": -0.011819515324903235, \"std\": 0.6021064193772986}, {\"mean\": -0.0057474266185183285, \"std\": 0.6408821576314874}, {\"mean\": -0.010257091728567138, \"std\": 0.6831523849887268}, {\"mean\": -0.010626081362403747, \"std\": 0.6055283195697053}, {\"mean\": -0.017337001657245, \"std\": 0.6101427452894803}, {\"mean\": -0.004790353655844276, \"std\": 0.6780420783103261}, {\"mean\": -0.012769458355315049, \"std\": 0.6513715091067963}, {\"mean\": -0.012558377897200506, \"std\": 0.6178638185245504}, {\"mean\": -0.026915902485713412, \"std\": 0.6127567229482495}, {\"mean\": -0.018612470350805547, \"std\": 0.6291340159053055}, {\"mean\": -0.015151970386217338, \"std\": 0.6911774350692583}, {\"mean\": -0.01553070392804467, \"std\": 0.6219568701951435}, {\"mean\": -0.017105708719844303, \"std\": 0.6837333080541134}, {\"mean\": -0.028442024843336515, \"std\": 0.6210823075852934}, {\"mean\": -0.022573521594949374, \"std\": 0.6464796458632971}, {\"mean\": -0.015528669541694531, \"std\": 0.6032120640799692}, {\"mean\": -0.01497486374173774, \"std\": 0.6920062424694559}, {\"mean\": -0.016004143236495728, \"std\": 0.6436803910124176}, {\"mean\": -0.010115564394855265, \"std\": 0.623337689773756}, {\"mean\": -0.014713322362762318, \"std\": 0.6027442995760639}, {\"mean\": -0.024893845451122065, \"std\": 0.6053546988787533}, {\"mean\": -0.033069200534321865, \"std\": 0.5945449962340913}, {\"mean\": -0.03808624358786275, \"std\": 0.6497689143014638}, {\"mean\": -0.01268660333684848, \"std\": 0.620809185034981}, {\"mean\": -0.018132729064375755, \"std\": 0.6171361156549635}, {\"mean\": -0.019768936221093825, \"std\": 0.67633408663944}, {\"mean\": -0.016367130691739378, \"std\": 0.6110576077774807}, {\"mean\": -0.014082805409694697, \"std\": 0.6586881875276097}, {\"mean\": -0.010318710509678034, \"std\": 0.658214054752158}, {\"mean\": -0.02155037025869854, \"std\": 0.6720151661683893}, {\"mean\": -0.016182373452664347, \"std\": 0.6306279529761976}, {\"mean\": -0.003712717414040385, \"std\": 0.6451849433522808}, {\"mean\": -0.02228508071594741, \"std\": 0.5994727887147863}, {\"mean\": -0.003542332952176743, \"std\": 0.7285850927883321}, {\"mean\": -0.012040892480248455, \"std\": 0.6327883392494269}, {\"mean\": -0.0248953681450911, \"std\": 0.613883501404176}, {\"mean\": -0.026997404672321028, \"std\": 0.6666197331769581}, {\"mean\": -0.01794720530486653, \"std\": 0.6494026092365044}, {\"mean\": -0.015848561280221145, \"std\": 0.6515501716572379}, {\"mean\": -0.02067675446986532, \"std\": 0.647522223589787}, {\"mean\": -0.008046110376680782, \"std\": 0.624342069512951}, {\"mean\": -0.0034203195063646032, \"std\": 0.6602912195228641}, {\"mean\": -0.012012631939773399, \"std\": 0.6929532428523631}, {\"mean\": 0.00018837923739178355, \"std\": 0.6871499039541153}, {\"mean\": -0.015192234576723048, \"std\": 0.6010567304074436}, {\"mean\": -0.010302024093767334, \"std\": 0.7319270776616281}, {\"mean\": -0.026828395939359845, \"std\": 0.6766596601597011}, {\"mean\": -0.010146370372245365, \"std\": 0.65247245752516}, {\"mean\": -0.01971854729753697, \"std\": 0.6033931175428319}, {\"mean\": -0.004888964106233127, \"std\": 0.6352581000581223}, {\"mean\": -0.016259614306948528, \"std\": 0.6615938535728073}, {\"mean\": -0.02829373741866904, \"std\": 0.5976297017735808}, {\"mean\": -0.013469454676043996, \"std\": 0.6378077925812765}, {\"mean\": -0.010054552287540965, \"std\": 0.6481491266255767}, {\"mean\": -0.027125511597915774, \"std\": 0.6561367652290996}, {\"mean\": -0.02005874981130747, \"std\": 0.600882455713392}, {\"mean\": -0.014067563144668692, \"std\": 0.6199131864533206}, {\"mean\": -0.034093316727067176, \"std\": 0.6660228735386867}, {\"mean\": -0.007236553183855276, \"std\": 0.6437564333183381}, {\"mean\": -0.013505068029268812, \"std\": 0.6913617611652408}, {\"mean\": -0.024451299379275183, \"std\": 0.7015127000077682}, {\"mean\": -0.01856979692278916, \"std\": 0.6594394928960141}, {\"mean\": -0.002178373330286657, \"std\": 0.6432611623740278}, {\"mean\": -0.023199011047225705, \"std\": 0.584666895765059}, {\"mean\": 0.003335948961311347, \"std\": 0.6641868315620232}, {\"mean\": -0.009551039053801546, \"std\": 0.6629270796310853}, {\"mean\": -0.017278937967022873, \"std\": 0.6515923477383441}, {\"mean\": -0.023417852036351234, \"std\": 0.6366435139895221}, {\"mean\": -0.02623973458197107, \"std\": 0.591527737776515}, {\"mean\": -0.01643512123360787, \"std\": 0.7168310883186642}, {\"mean\": -0.025921187154820786, \"std\": 0.6263233398837279}, {\"mean\": -0.023166069580357322, \"std\": 0.6230453816318886}, {\"mean\": -0.024264409734637768, \"std\": 0.6151081086979826}, {\"mean\": 0.010188206949677415, \"std\": 0.7596732844134934}, {\"mean\": -0.008743436057845123, \"std\": 0.6492095609188899}, {\"mean\": -0.012770421163202277, \"std\": 0.6846176070694537}, {\"mean\": -0.023685955603179112, \"std\": 0.5972770497871772}, {\"mean\": -0.011856834338396066, \"std\": 0.6683679920469628}, {\"mean\": -0.013423735271341561, \"std\": 0.6071283313499707}, {\"mean\": -0.01693839578368769, \"std\": 0.6316874043587516}, {\"mean\": -0.012949002302707143, \"std\": 0.6549756921847746}, {\"mean\": -0.015171984328257749, \"std\": 0.6844539270630929}, {\"mean\": -0.017771525838144488, \"std\": 0.6421920431050909}, {\"mean\": -0.017612774785125965, \"std\": 0.6520795469341907}, {\"mean\": -0.028112602727457938, \"std\": 0.6267603193671938}, {\"mean\": -0.03154744951291339, \"std\": 0.5871127681621542}, {\"mean\": -0.03208222871198843, \"std\": 0.600512783090766}, {\"mean\": -0.0037225140838576037, \"std\": 0.681251144426472}, {\"mean\": -0.01253830396202736, \"std\": 0.6550739149884753}, {\"mean\": -0.03068735473130431, \"std\": 0.6446627294520105}, {\"mean\": -0.026591966997296473, \"std\": 0.6209406016922835}, {\"mean\": -0.024129347389393662, \"std\": 0.6254482669846025}, {\"mean\": 0.006594076205421521, \"std\": 0.713284330652038}, {\"mean\": -0.014909757709528751, \"std\": 0.6317861114625601}, {\"mean\": -0.021072020537141217, \"std\": 0.6795865723805018}, {\"mean\": -0.014257515463961621, \"std\": 0.6056889353300899}, {\"mean\": -0.02848529553912006, \"std\": 0.6300514967824749}, {\"mean\": -0.02451479580918284, \"std\": 0.6765398136475596}, {\"mean\": -0.019341375264246386, \"std\": 0.6015598627822762}, {\"mean\": -0.021011240892269484, \"std\": 0.6228014830557306}, {\"mean\": -0.012759487348985708, \"std\": 0.6232308684323729}, {\"mean\": -0.02808379218698465, \"std\": 0.6149584374973027}, {\"mean\": -0.011792222091599717, \"std\": 0.6765870672573815}, {\"mean\": -0.009389671894520694, \"std\": 0.6541595213835361}, {\"mean\": -0.006384883667672366, \"std\": 0.6329012350134059}, {\"mean\": -0.000660132120384055, \"std\": 0.6642325049616338}, {\"mean\": -0.03246822180979024, \"std\": 0.6218947159932651}, {\"mean\": -0.003535811759345651, \"std\": 0.6687579135555649}, {\"mean\": 0.0009914795664887652, \"std\": 0.6513913866883344}, {\"mean\": -0.020514183484378418, \"std\": 0.6276993893926797}, {\"mean\": -0.02283266101299419, \"std\": 0.6058593254657942}, {\"mean\": -0.009155244337626703, \"std\": 0.6356504436641175}, {\"mean\": -0.015927591643680062, \"std\": 0.7100446933186927}, {\"mean\": -0.019835963595653174, \"std\": 0.6043553413151973}, {\"mean\": -0.0052920871768208, \"std\": 0.634809767871809}, {\"mean\": -0.00810913792428192, \"std\": 0.6559627325319313}, {\"mean\": 0.009102526877696833, \"std\": 0.7457251058165101}, {\"mean\": -0.01509340617692987, \"std\": 0.6793509522522795}, {\"mean\": -0.02211280794171096, \"std\": 0.6042964591021391}, {\"mean\": -0.016447919256869618, \"std\": 0.6633489166131584}, {\"mean\": -0.022257991600502767, \"std\": 0.6550514637976834}, {\"mean\": -0.016222201047832546, \"std\": 0.659300962092687}, {\"mean\": -0.02470387454590985, \"std\": 0.598461245212007}, {\"mean\": -0.024499275834917192, \"std\": 0.6164127524960632}, {\"mean\": -0.01328040596923628, \"std\": 0.6483904758457864}, {\"mean\": -0.03294537917062966, \"std\": 0.6179679120986193}, {\"mean\": -0.034736427956206524, \"std\": 0.6296181775436642}, {\"mean\": -0.006576051508358383, \"std\": 0.6128016471745102}, {\"mean\": -0.032889612997648796, \"std\": 0.6058033660723635}, {\"mean\": -0.022723207532830816, \"std\": 0.601905837249752}, {\"mean\": -0.007208288830664165, \"std\": 0.6217022633737761}, {\"mean\": -0.003395293298233736, \"std\": 0.6912317772620158}, {\"mean\": -0.030664187694393483, \"std\": 0.6737436238532203}, {\"mean\": -0.021245087151832688, \"std\": 0.6321441600038642}, {\"mean\": -0.006853421563034395, \"std\": 0.6902733915983724}, {\"mean\": -0.03318006537369083, \"std\": 0.601684748842653}, {\"mean\": -0.022745237688834633, \"std\": 0.7132383494276944}, {\"mean\": -0.004203893005879591, \"std\": 0.6737631141743445}, {\"mean\": -0.023312034530197947, \"std\": 0.6400395895980835}, {\"mean\": -0.024422957358651454, \"std\": 0.6389359305685548}, {\"mean\": -0.006158099494842196, \"std\": 0.6244713565623615}, {\"mean\": -0.025547886109744997, \"std\": 0.613292314451531}, {\"mean\": -0.01963429492035809, \"std\": 0.5898566517085869}, {\"mean\": -0.016414665831867115, \"std\": 0.6082714039124856}, {\"mean\": -0.01847252686511706, \"std\": 0.596974825185759}, {\"mean\": -0.019193705584083565, \"std\": 0.6716634608998725}, {\"mean\": -0.008661044097068644, \"std\": 0.6322182146584797}, {\"mean\": -0.01788777544530254, \"std\": 0.6617315168582234}, {\"mean\": -0.018626794473277513, \"std\": 0.644064758150795}, {\"mean\": -0.01969251156079145, \"std\": 0.6292998698691915}, {\"mean\": 0.0008177891673075212, \"std\": 0.6788073067914949}, {\"mean\": -0.007989809846168367, \"std\": 0.6215354679899268}, {\"mean\": -0.004680128566339154, \"std\": 0.6626307753203861}, {\"mean\": -0.012273393540036053, \"std\": 0.6513850257502203}, {\"mean\": -0.009050814762940774, \"std\": 0.6279158727347176}, {\"mean\": -0.017672803733711207, \"std\": 0.6170660608088712}, {\"mean\": -0.022627560038813128, \"std\": 0.6253290627434009}, {\"mean\": 0.002797263999475892, \"std\": 0.6706798007098111}, {\"mean\": -0.007348829645999964, \"std\": 0.72926255709147}, {\"mean\": -0.023373584697274605, \"std\": 0.5937031043584239}, {\"mean\": -0.020434810903119893, \"std\": 0.5884694113875591}, {\"mean\": -0.005457427111378488, \"std\": 0.6622054506784162}, {\"mean\": -0.01406304962842102, \"std\": 0.6477992515872579}, {\"mean\": -0.01625761744486631, \"std\": 0.6154344045043881}, {\"mean\": -0.028403425013986877, \"std\": 0.6061465193449688}, {\"mean\": -0.011142691543828147, \"std\": 0.6890169626057164}, {\"mean\": -0.010025727337996082, \"std\": 0.6247618558794074}, {\"mean\": -0.03072665781729651, \"std\": 0.6247191479432286}, {\"mean\": -0.010419980525487876, \"std\": 0.6607920592397379}, {\"mean\": -0.021646074885139418, \"std\": 0.6272079563172177}, {\"mean\": -0.02584383113558309, \"std\": 0.6088919670907972}, {\"mean\": -0.010562752725244838, \"std\": 0.6068426351960946}, {\"mean\": -0.006351956606175518, \"std\": 0.6373180486193598}, {\"mean\": -0.002827422100302072, \"std\": 0.7116356948990995}, {\"mean\": -0.039487995335499466, \"std\": 0.6308596938810863}, {\"mean\": -0.02471415606352594, \"std\": 0.6461104601365141}, {\"mean\": -0.022895151955776617, \"std\": 0.6166028117739311}, {\"mean\": -0.02332055379828624, \"std\": 0.6111912024273065}, {\"mean\": -0.005051965946468455, \"std\": 0.7363988622560419}, {\"mean\": -0.020783100085155787, \"std\": 0.6143199845100965}, {\"mean\": -0.039149248763268314, \"std\": 0.62872674250353}, {\"mean\": -0.017822738964320798, \"std\": 0.6062646598788664}, {\"mean\": -0.01175722064164121, \"std\": 0.6543187768514003}, {\"mean\": 0.004733502035481793, \"std\": 0.7047720599672077}, {\"mean\": -0.01676697846904327, \"std\": 0.8071728058680108}, {\"mean\": -0.022333353393172765, \"std\": 0.621503298731579}, {\"mean\": 0.003807999157502315, \"std\": 0.6944122815083098}, {\"mean\": -0.012058519368994259, \"std\": 0.6943882015058224}, {\"mean\": -0.01651697141168197, \"std\": 0.6113265762271697}, {\"mean\": -0.026618079033088566, \"std\": 0.6468840049437886}, {\"mean\": -0.05385457779098625, \"std\": 0.7197546198690022}, {\"mean\": -0.010629342402930288, \"std\": 0.6105873034973394}, {\"mean\": -0.025810156832191355, \"std\": 0.5964383362581959}, {\"mean\": -0.013662466760457296, \"std\": 0.6404763573000175}, {\"mean\": -0.01897601775437643, \"std\": 0.6364144568740097}, {\"mean\": -0.011113024849930778, \"std\": 0.6225710468509622}, {\"mean\": -0.01874567701267175, \"std\": 0.6611717674830258}, {\"mean\": -0.017763301220711975, \"std\": 0.6399360361591184}, {\"mean\": -0.027707775249934154, \"std\": 0.6168516381468301}, {\"mean\": -0.021345669188736358, \"std\": 0.5942784677885319}, {\"mean\": -0.01181050404653404, \"std\": 0.6472855067102635}, {\"mean\": -0.019619380037430877, \"std\": 0.6351440439210804}, {\"mean\": -0.022371036244092177, \"std\": 0.5933012287283761}, {\"mean\": -0.030264912545013144, \"std\": 0.6320559695594312}, {\"mean\": -0.019010637800644957, \"std\": 0.6859823762877751}, {\"mean\": -0.02106882162215282, \"std\": 0.6224070601185121}, {\"mean\": -0.01187685813958073, \"std\": 0.6612245143947375}, {\"mean\": -0.020347220551151655, \"std\": 0.6075563155920459}, {\"mean\": -0.010772193397425533, \"std\": 0.6729303181674633}, {\"mean\": -0.018098456204807756, \"std\": 0.6309855058164837}, {\"mean\": -0.013644545513315733, \"std\": 0.6151841254636822}, {\"mean\": -0.0126804188710702, \"std\": 0.6190602685370948}, {\"mean\": -0.0016244288581514711, \"std\": 0.6686260230180622}, {\"mean\": -0.017470272969055366, \"std\": 0.6089255522546313}, {\"mean\": -0.01820726738148571, \"std\": 0.6221334339558313}, {\"mean\": -0.013269099066525956, \"std\": 0.7160454808205948}, {\"mean\": -0.0038550748984247066, \"std\": 0.6599581714548562}, {\"mean\": -0.01647445927539648, \"std\": 0.6510854789412086}, {\"mean\": -0.024565738118546638, \"std\": 0.6052369308014557}, {\"mean\": -0.009147863951725609, \"std\": 0.6739730918481825}, {\"mean\": -0.008825878047060757, \"std\": 0.6512936449324087}, {\"mean\": -0.005199173962631552, \"std\": 0.6764468287329455}, {\"mean\": -0.014266838348486187, \"std\": 0.6379340487897298}, {\"mean\": -0.024686128706370773, \"std\": 0.6256256775930146}, {\"mean\": -0.008847389708226294, \"std\": 0.6545849660687904}, {\"mean\": -0.01957617298925242, \"std\": 0.6733506359337519}, {\"mean\": -0.029358361185742855, \"std\": 0.5976558039807732}, {\"mean\": -0.0390082558851952, \"std\": 0.6059886299362005}, {\"mean\": -0.02235517906224833, \"std\": 0.6881404080354692}, {\"mean\": -0.028843947530494674, \"std\": 0.657853945864001}, {\"mean\": -0.01369469847135256, \"std\": 0.667393622410627}, {\"mean\": 0.011735830366473729, \"std\": 0.7514788514242199}, {\"mean\": -0.01714860559766828, \"std\": 0.6955577149381149}, {\"mean\": -0.005447743273250739, \"std\": 0.6563380735174549}, {\"mean\": -0.033172229616159385, \"std\": 0.6217545238415155}, {\"mean\": -0.018453506304776567, \"std\": 0.6324057647152396}, {\"mean\": -0.002288741003701128, \"std\": 0.6881819343136681}, {\"mean\": -0.04324588728052327, \"std\": 0.6599657371613428}, {\"mean\": -0.026773602215935884, \"std\": 0.6107900482658442}, {\"mean\": -0.022206421670927443, \"std\": 0.6146933951987935}, {\"mean\": -0.028752195276850273, \"std\": 0.6013793818982036}, {\"mean\": -0.038006784426423676, \"std\": 0.6033495983312561}, {\"mean\": -0.025771124691206456, \"std\": 0.6429446752080064}, {\"mean\": 0.004126532801579707, \"std\": 0.7034567748939611}, {\"mean\": -0.015772771928044785, \"std\": 0.641721233143412}, {\"mean\": -0.014494404360432117, \"std\": 0.6019250516914266}, {\"mean\": -0.020487992805440024, \"std\": 0.6838951631522312}, {\"mean\": -0.015821289929110974, \"std\": 0.6595616504476384}, {\"mean\": -0.028839492310538645, \"std\": 0.6136311347435419}, {\"mean\": -0.014823827972652998, \"std\": 0.6185135828061024}, {\"mean\": -0.023017528263859673, \"std\": 0.614171958947463}, {\"mean\": -0.006809449873807786, \"std\": 0.6671572135822524}, {\"mean\": 0.006310222897223924, \"std\": 0.7461297492959251}, {\"mean\": -0.017808843702017373, \"std\": 0.6200134880656301}, {\"mean\": -0.01108915837854648, \"std\": 0.7355055533195204}, {\"mean\": -0.018240085287122013, \"std\": 0.6028260866936352}, {\"mean\": -0.03237134994575069, \"std\": 0.6575473323276673}, {\"mean\": -0.0013145239505469204, \"std\": 0.6357503229824478}, {\"mean\": -0.020457961147017402, \"std\": 0.6306396785061751}, {\"mean\": 0.005526763437642316, \"std\": 0.7554629901643645}, {\"mean\": -0.014230833079399173, \"std\": 0.672297370261525}, {\"mean\": -0.011611635083215173, \"std\": 0.6464365978554442}, {\"mean\": -0.017911051965861215, \"std\": 0.611525207977515}, {\"mean\": -0.027678311399380612, \"std\": 0.5973837302894304}, {\"mean\": -0.04232112911801938, \"std\": 0.6313932471004856}, {\"mean\": -0.030610665369707322, \"std\": 0.6822755597861428}, {\"mean\": -0.01558479548932446, \"std\": 0.6241955204239984}, {\"mean\": -0.04298750410491821, \"std\": 0.6342733830490475}, {\"mean\": 0.009662266965819325, \"std\": 0.7250162529686952}, {\"mean\": -0.026723602009901398, \"std\": 0.6307770551908066}, {\"mean\": -0.0058904907310452954, \"std\": 0.6663132918698338}, {\"mean\": 0.0033391705882799662, \"std\": 0.7150057238528008}, {\"mean\": -0.012970537502597603, \"std\": 0.7091494862731832}, {\"mean\": -0.005414166651900266, \"std\": 0.6638216011619245}, {\"mean\": -0.027635552369611457, \"std\": 0.5851857888407757}, {\"mean\": -0.012169349341931793, \"std\": 0.6341593559976091}, {\"mean\": 0.006678510699770273, \"std\": 0.7379486165572235}, {\"mean\": 0.012002323301735061, \"std\": 0.7746915438036511}, {\"mean\": -0.0287448552099783, \"std\": 0.5984929862520767}, {\"mean\": -0.020734100795837606, \"std\": 0.6456390938280436}, {\"mean\": -0.012123912640819225, \"std\": 0.6641364600314098}, {\"mean\": -0.010960025771312531, \"std\": 0.6123342295303711}, {\"mean\": -0.008493964402725387, \"std\": 0.6273393239346529}, {\"mean\": -0.02406048214341523, \"std\": 0.6085303512612257}, {\"mean\": 0.011980549762328636, \"std\": 0.7480429857818309}, {\"mean\": -0.004030430329987842, \"std\": 0.6961371048108101}, {\"mean\": -0.006704995945121513, \"std\": 0.6478249478914543}, {\"mean\": -0.017209127072434667, \"std\": 0.619961097421384}, {\"mean\": -0.011293496718123753, \"std\": 0.6565181231939619}, {\"mean\": -0.012628077175564443, \"std\": 0.6187195609676387}, {\"mean\": -0.016332652950770448, \"std\": 0.6485459686622924}, {\"mean\": -0.035562170067931935, \"std\": 0.6310013521796813}, {\"mean\": -0.01582353712972163, \"std\": 0.6057942172488865}, {\"mean\": -0.01969705177494825, \"std\": 0.5970013748656324}, {\"mean\": -0.0009468357365976208, \"std\": 0.6869551736426864}, {\"mean\": -0.025032025598027998, \"std\": 0.6833878040643704}, {\"mean\": -0.01948899468683533, \"std\": 0.5930292296570085}, {\"mean\": -0.03718235033622142, \"std\": 0.6311005121630963}, {\"mean\": -0.01324537211538226, \"std\": 0.6249204267792546}, {\"mean\": -0.01940440091203218, \"std\": 0.670043956953049}, {\"mean\": -0.033184911069515835, \"std\": 0.6284298568922878}, {\"mean\": -0.025948527419420116, \"std\": 0.5923504370015344}, {\"mean\": -0.016173041651177656, \"std\": 0.6138802130756037}, {\"mean\": -0.027040981975609658, \"std\": 0.5966816110472233}, {\"mean\": -0.001422989649196813, \"std\": 0.6917043667619013}, {\"mean\": -0.01380238821844068, \"std\": 0.6938850076098779}, {\"mean\": -0.026287552444178255, \"std\": 0.600189104389038}, {\"mean\": -0.021461987093362347, \"std\": 0.6494805181697365}, {\"mean\": -0.010397083737319254, \"std\": 0.6082273372590167}, {\"mean\": -0.026902881267066598, \"std\": 0.6281766620516531}, {\"mean\": -0.026687120545806294, \"std\": 0.6110069823393527}, {\"mean\": -0.012693096054415398, \"std\": 0.6560947396250898}, {\"mean\": -0.01939259625335389, \"std\": 0.612324652828697}, {\"mean\": -0.03199033439271881, \"std\": 0.6338663433215723}, {\"mean\": -0.00754902912294641, \"std\": 0.6208767496752071}, {\"mean\": -0.015760875107450785, \"std\": 0.6316929857226765}, {\"mean\": -0.023132754220735602, \"std\": 0.6985606670994589}, {\"mean\": -0.025621878818951515, \"std\": 0.6139795274653556}, {\"mean\": -0.019835649684849715, \"std\": 0.5871389208952851}, {\"mean\": -0.037971485721492525, \"std\": 0.6514992734721133}, {\"mean\": -0.0037803171439239904, \"std\": 0.6802221771542305}, {\"mean\": -0.008785403368157479, \"std\": 0.6139238256179039}, {\"mean\": -0.029061923483591594, \"std\": 0.5984493883161135}, {\"mean\": -0.01822610128303276, \"std\": 0.6578428088621003}, {\"mean\": -0.020064535142515813, \"std\": 0.616276959355116}, {\"mean\": -0.02981374467321732, \"std\": 0.6065145185944902}, {\"mean\": -0.008379573564480868, \"std\": 0.6188272479523661}, {\"mean\": 0.007144016075887024, \"std\": 0.701650561127267}, {\"mean\": -0.016768573499793504, \"std\": 0.636225165124739}, {\"mean\": -0.004308922845108882, \"std\": 0.6327217726361997}, {\"mean\": -0.0012713752617376194, \"std\": 0.6966512452175884}, {\"mean\": -0.014758958220968166, \"std\": 0.6180721705239645}, {\"mean\": -0.014161764765548875, \"std\": 0.6923841052417326}, {\"mean\": -0.03488906089114522, \"std\": 0.627518511845644}, {\"mean\": -0.022574800116651847, \"std\": 0.5994243457979506}, {\"mean\": -0.006365437689418807, \"std\": 0.6559289306786997}, {\"mean\": -0.0030793608646169845, \"std\": 0.7001647186542141}, {\"mean\": -0.026017595441706124, \"std\": 0.6369237194507683}, {\"mean\": -0.018074961729287735, \"std\": 0.6374234736719169}, {\"mean\": 0.0021673396691534504, \"std\": 0.6697140925763159}, {\"mean\": -0.01786282251102396, \"std\": 0.5997695009239267}, {\"mean\": -0.0010802172989724257, \"std\": 0.6685939331235393}, {\"mean\": -0.01628452107659012, \"std\": 0.6017160524555691}, {\"mean\": -0.0009147460840540108, \"std\": 0.6723409455158057}, {\"mean\": -0.00629280398679274, \"std\": 0.6659745713155494}, {\"mean\": -0.012489387293156363, \"std\": 0.6091090090388057}, {\"mean\": -0.017274567749665043, \"std\": 0.6481668418228348}, {\"mean\": -0.012881785962051275, \"std\": 0.6028143066584477}, {\"mean\": -0.010979828064043138, \"std\": 0.6670129694667597}, {\"mean\": -0.014927009958813733, \"std\": 0.6234530525764501}, {\"mean\": -0.0073502206825791965, \"std\": 0.6609622884853785}, {\"mean\": -0.020404928729561213, \"std\": 0.6024944410812388}, {\"mean\": -0.0193938473495168, \"std\": 0.6548459079444213}, {\"mean\": -0.028883429406195253, \"std\": 0.597137873910935}, {\"mean\": -0.006203524208293795, \"std\": 0.6439044138931782}, {\"mean\": -0.022717222499471716, \"std\": 0.6237328175321807}, {\"mean\": -0.0005225901323059467, \"std\": 0.6844252023043597}, {\"mean\": -0.03199613472661142, \"std\": 0.6668507758663935}, {\"mean\": -0.033838032087363, \"std\": 0.6285994717710525}, {\"mean\": -0.018405827831342557, \"std\": 0.6412797253562299}, {\"mean\": -0.02328326489903699, \"std\": 0.5957603673871498}, {\"mean\": -0.020889454261950356, \"std\": 0.6194779418622062}, {\"mean\": -0.043622552169103046, \"std\": 0.6480203115717608}, {\"mean\": -0.0048508873948327974, \"std\": 0.637378922060187}, {\"mean\": -0.006182750375102068, \"std\": 0.6493443307000119}, {\"mean\": 0.0009709364774392302, \"std\": 0.659726756041874}, {\"mean\": -0.03267283191724798, \"std\": 0.6295263494265653}, {\"mean\": -0.01209516313659856, \"std\": 0.6374819484129038}, {\"mean\": -0.012820433343252663, \"std\": 0.6276532521759736}, {\"mean\": -0.009769544116802748, \"std\": 0.6421959481260193}, {\"mean\": -0.01978730787090135, \"std\": 0.6476362707371613}, {\"mean\": -0.019061521342117003, \"std\": 0.5999008030696255}, {\"mean\": -0.014273463525108701, \"std\": 0.6247065056355561}, {\"mean\": -0.021577473279441994, \"std\": 0.6044140330941076}, {\"mean\": -0.013616673999171281, \"std\": 0.6137967967090374}, {\"mean\": -0.03472515276881872, \"std\": 0.6125995518784576}, {\"mean\": -0.012451948093433085, \"std\": 0.6380423243569969}, {\"mean\": -0.02846419362632429, \"std\": 0.5902479589149837}, {\"mean\": -0.019103033633050513, \"std\": 0.6200091429079627}, {\"mean\": -0.020917558051873127, \"std\": 0.6160901277561069}, {\"mean\": -0.0044702463597037735, \"std\": 0.7516784678958426}, {\"mean\": -0.010752799222757299, \"std\": 0.6164493981771118}, {\"mean\": -0.011182636527455995, \"std\": 0.6589731041986927}, {\"mean\": -0.016320966474823888, \"std\": 0.6472854105646689}, {\"mean\": -0.028751482121931328, \"std\": 0.622599570321935}, {\"mean\": -0.008338029534022469, \"std\": 0.6628521522225445}, {\"mean\": -0.02438101760665535, \"std\": 0.6370095655857858}, {\"mean\": -0.03256145087961697, \"std\": 0.6092344926519492}, {\"mean\": -0.02330773357980086, \"std\": 0.602057942579926}, {\"mean\": -0.006688373078480882, \"std\": 0.6885425763121995}, {\"mean\": -0.026079284128652517, \"std\": 0.6750037165778153}, {\"mean\": -0.020536723201605038, \"std\": 0.6848847882858747}, {\"mean\": -0.005293802184084207, \"std\": 0.7664326656410572}, {\"mean\": -0.021437637718864297, \"std\": 0.6142854875727352}, {\"mean\": -0.01077098856441244, \"std\": 0.6426525738826324}, {\"mean\": -0.031075861174500292, \"std\": 0.6487225652408314}, {\"mean\": -0.026594484844685958, \"std\": 0.5944757374419221}, {\"mean\": 0.0019617796462423477, \"std\": 0.7677493831643926}, {\"mean\": -0.04154272410938445, \"std\": 0.6308299424058866}, {\"mean\": -0.008434228621779189, \"std\": 0.6779591619072914}, {\"mean\": -0.020850909401088732, \"std\": 0.6056848322528542}, {\"mean\": -0.02112982490046924, \"std\": 0.5980824873314998}, {\"mean\": -0.005616522229298785, \"std\": 0.6754397249430566}, {\"mean\": -0.02575106039566224, \"std\": 0.6113487744994465}, {\"mean\": 0.003660675433249063, \"std\": 0.7102337885683638}, {\"mean\": -0.007438304082002007, \"std\": 0.6269247387736623}, {\"mean\": -0.02306124545845641, \"std\": 0.6165222455862827}, {\"mean\": -0.03503982302421039, \"std\": 0.6053662435405412}, {\"mean\": -0.013144620295349118, \"std\": 0.701963676959142}, {\"mean\": -0.01713893724203701, \"std\": 0.8175681195592092}, {\"mean\": -0.02426382960271127, \"std\": 0.6006187658503851}, {\"mean\": -0.027313455871582827, \"std\": 0.6290577864957096}, {\"mean\": -0.015075666120211403, \"std\": 0.6235878564239153}, {\"mean\": -0.01478835264886393, \"std\": 0.6049902774222103}, {\"mean\": -0.03102962796270212, \"std\": 0.6427505377865195}, {\"mean\": -0.014309906189476107, \"std\": 0.6868035118411745}, {\"mean\": -0.006447261546075885, \"std\": 0.617332156138874}, {\"mean\": -0.01151159636129972, \"std\": 0.6271182785796757}, {\"mean\": 0.008806148769960415, \"std\": 0.7645876795945022}, {\"mean\": -0.0003535163429104622, \"std\": 0.7039970967800012}, {\"mean\": -0.03522226633191089, \"std\": 0.6059101516843389}, {\"mean\": -0.010100068515020079, \"std\": 0.6550403772560932}, {\"mean\": -0.02444489683058451, \"std\": 0.6093889834549098}, {\"mean\": -0.007102278098565153, \"std\": 0.658134640057543}, {\"mean\": -0.014100571436100148, \"std\": 0.6800464163718779}, {\"mean\": -0.01697384003908803, \"std\": 0.6638951783327048}, {\"mean\": -0.02768747008706936, \"std\": 0.6304525197647225}, {\"mean\": -0.01121693785232871, \"std\": 0.640414431741278}, {\"mean\": -0.02486002735192796, \"std\": 0.6168803669548588}, {\"mean\": -0.026497263974991466, \"std\": 0.6425928253248833}, {\"mean\": -0.01555776543729855, \"std\": 0.6551382903560812}, {\"mean\": -0.008552286584563104, \"std\": 0.6459904979172348}, {\"mean\": -0.01101612222657279, \"std\": 0.6596980018113622}, {\"mean\": 0.0054403537208438345, \"std\": 0.6796115721453676}, {\"mean\": -0.017712436008210704, \"std\": 0.5965805963474173}, {\"mean\": -0.0043778372489965325, \"std\": 0.6366094385735634}, {\"mean\": -0.01729809291491983, \"std\": 0.6453181972772791}, {\"mean\": -0.008289515853107016, \"std\": 0.6941312675858047}, {\"mean\": -0.016742201348321172, \"std\": 0.6048047923880462}, {\"mean\": 0.004096348030570584, \"std\": 0.7086389653671629}, {\"mean\": -0.00018266411153536222, \"std\": 0.702273892709115}, {\"mean\": -0.013611986572609982, \"std\": 0.7019504040350447}, {\"mean\": 0.0009913634434269287, \"std\": 0.6413157278534433}, {\"mean\": -0.01708973431114295, \"std\": 0.6296707381580049}, {\"mean\": -0.023254954771322476, \"std\": 0.6390027081498292}, {\"mean\": -0.014020302983269598, \"std\": 0.7199871646803911}, {\"mean\": -0.012634131782425175, \"std\": 0.634837941252564}, {\"mean\": -0.025038544843075005, \"std\": 0.642164442145662}, {\"mean\": -0.034133349768909915, \"std\": 0.613708682739227}, {\"mean\": -0.005611967195471395, \"std\": 0.6437967059972984}, {\"mean\": 0.002938771003568637, \"std\": 0.7274680436328296}, {\"mean\": -0.023869112774061837, \"std\": 0.6584941266202697}, {\"mean\": -0.023445082067279036, \"std\": 0.6199915780015193}, {\"mean\": 0.006739152090659527, \"std\": 0.7390589662029401}, {\"mean\": -0.020217723900462992, \"std\": 0.6239441133079283}, {\"mean\": -0.02184199701230644, \"std\": 0.6172404602668563}, {\"mean\": -0.009807640392182855, \"std\": 0.6865251209575636}, {\"mean\": -0.02963465324681866, \"std\": 0.6821043410777331}, {\"mean\": 0.0022649714856079113, \"std\": 0.6812991002348581}, {\"mean\": -0.017948254142885197, \"std\": 0.6148082759660876}, {\"mean\": -0.020902243382028705, \"std\": 0.6169008698705148}, {\"mean\": -0.028570999633052558, \"std\": 0.6070236344304132}, {\"mean\": -0.023078074109879828, \"std\": 0.6072316424735588}, {\"mean\": -0.03627695725890598, \"std\": 0.6318243644167875}, {\"mean\": -0.028018774339860397, \"std\": 0.599631549356371}, {\"mean\": -0.008337632480477952, \"std\": 0.6587904562753668}, {\"mean\": -0.019959693630847673, \"std\": 0.7149278058897818}, {\"mean\": -0.016525184015466467, \"std\": 0.6144180272347174}, {\"mean\": -0.015290511323980464, \"std\": 0.6595537454434636}, {\"mean\": -0.00039309713410147067, \"std\": 0.6840032372513913}, {\"mean\": -0.020373725248503775, \"std\": 0.6897171104515629}, {\"mean\": -0.01424344838293052, \"std\": 0.6674548933010038}, {\"mean\": -0.006176858025298466, \"std\": 0.6395452528161018}, {\"mean\": 0.001226172480229235, \"std\": 0.7078464538134581}, {\"mean\": -0.01227598614041126, \"std\": 0.6186969951692741}, {\"mean\": -0.011410387642570387, \"std\": 0.6158762940689355}, {\"mean\": -0.02534563885164009, \"std\": 0.5855553512851667}, {\"mean\": -0.01822612988631895, \"std\": 0.6428609884469645}, {\"mean\": -0.007907960128827283, \"std\": 0.638539746204613}, {\"mean\": -0.017818231917757065, \"std\": 0.5965281091175715}, {\"mean\": -0.03306744380631668, \"std\": 0.5976710075659968}, {\"mean\": -0.01133693692991911, \"std\": 0.6322656164300121}, {\"mean\": 0.0096043847433898, \"std\": 0.7206249396477208}, {\"mean\": -0.027313445515342406, \"std\": 0.6367304137072908}, {\"mean\": -0.027390665571661022, \"std\": 0.6150171886477356}, {\"mean\": -0.015200455785512343, \"std\": 0.621838970075576}, {\"mean\": -0.030900711009404825, \"std\": 0.6096892296436064}, {\"mean\": -0.022296002568298057, \"std\": 0.6282757531663732}, {\"mean\": 0.007241918503013258, \"std\": 0.7446152792682341}, {\"mean\": -0.02436275887440385, \"std\": 0.5987828546106609}, {\"mean\": -0.03901818735113254, \"std\": 0.6285049332536826}, {\"mean\": -0.0007487563542016434, \"std\": 0.65435447242165}, {\"mean\": -0.0140619821100934, \"std\": 0.6140953876044106}, {\"mean\": 0.006042445253391679, \"std\": 0.7164388892059772}, {\"mean\": -0.003922725584523916, \"std\": 0.6792147587013286}, {\"mean\": -0.015917368749518452, \"std\": 0.6067108339964109}, {\"mean\": -0.022112766264709552, \"std\": 0.5930205931899394}, {\"mean\": -0.024369177688220785, \"std\": 0.5946343532035654}, {\"mean\": -0.03236852818470089, \"std\": 0.6611158495296152}, {\"mean\": -0.026659019214809815, \"std\": 0.6006567367996679}, {\"mean\": -0.00987135965550605, \"std\": 0.6374874664728196}, {\"mean\": -0.018290889358323743, \"std\": 0.6212427553250967}, {\"mean\": -0.004160748521013238, \"std\": 0.6797617516709633}, {\"mean\": -0.012325384700330991, \"std\": 0.6741330129647499}, {\"mean\": -0.024007746262250464, \"std\": 0.6526929486718072}, {\"mean\": -0.011781474308295606, \"std\": 0.6415955099954389}, {\"mean\": -0.018838798730936652, \"std\": 0.6157924741479585}, {\"mean\": -0.015576561208577915, \"std\": 0.616280762671814}, {\"mean\": -0.008575217748756407, \"std\": 0.6488011119483588}, {\"mean\": 0.005507639753356195, \"std\": 0.7375635901519572}, {\"mean\": 0.014369390469177915, \"std\": 0.7715807105000456}, {\"mean\": -0.019455622341071482, \"std\": 0.6468498386329424}, {\"mean\": -0.0014410379349689036, \"std\": 0.6776161584069534}, {\"mean\": -0.022336808431429947, \"std\": 0.7541489444629007}, {\"mean\": -0.03662943444484744, \"std\": 0.601332585820396}, {\"mean\": -0.015758592683407152, \"std\": 0.6618659897697026}, {\"mean\": -0.005241267934397668, \"std\": 0.6529456986861276}, {\"mean\": -0.018284382790560928, \"std\": 0.6084595593423361}, {\"mean\": -0.023524747506579846, \"std\": 0.6018394132630149}, {\"mean\": -0.028051147589529014, \"std\": 0.6044337106484544}, {\"mean\": -0.0038372737084372485, \"std\": 0.6557620644840249}, {\"mean\": -0.015021322571535423, \"std\": 0.6229514140215464}, {\"mean\": -0.03101194378355419, \"std\": 0.6611171526139653}, {\"mean\": -0.010601024101031822, \"std\": 0.6879762348538506}, {\"mean\": -0.03102815230515309, \"std\": 0.642193074937247}, {\"mean\": 0.002105367615366785, \"std\": 0.6739462312281381}, {\"mean\": -0.00687923553856755, \"std\": 0.6972771561410797}, {\"mean\": -0.01972728324866594, \"std\": 0.6345593030907642}, {\"mean\": -0.025190752519723143, \"std\": 0.5947433650733738}, {\"mean\": -0.02711724305064524, \"std\": 0.6048361040492285}, {\"mean\": -0.031248597826295306, \"std\": 0.6448915747420891}, {\"mean\": -0.019598343827119405, \"std\": 0.669046956353284}, {\"mean\": -0.02563990164696148, \"std\": 0.5879533717500097}, {\"mean\": -0.011495476966631597, \"std\": 0.6201976708930739}, {\"mean\": -0.02756057567037502, \"std\": 0.6363310198959821}, {\"mean\": -0.03706821484258255, \"std\": 0.616173671917194}, {\"mean\": -0.00902551226106107, \"std\": 0.6244660727958006}, {\"mean\": -0.01681334736413153, \"std\": 0.617382571859541}, {\"mean\": -0.00839208574981692, \"std\": 0.6738033297205869}, {\"mean\": 0.0003325027319296749, \"std\": 0.6801195788163191}, {\"mean\": -0.01614421980895189, \"std\": 0.7307325016400518}, {\"mean\": -0.013547760399554123, \"std\": 0.6323239677328127}, {\"mean\": -0.02278104832116853, \"std\": 0.6068096508386248}, {\"mean\": -0.042556276101498855, \"std\": 0.6502384620323666}, {\"mean\": -0.02189857220347634, \"std\": 0.5998555647987149}, {\"mean\": -0.042505348433616585, \"std\": 0.6159199499813415}, {\"mean\": -0.013187212077314174, \"std\": 0.6192708195600362}, {\"mean\": -0.03443984596531139, \"std\": 0.6446231810571066}, {\"mean\": -0.015305062255957935, \"std\": 0.6602461868606507}, {\"mean\": -0.019992743405734464, \"std\": 0.7195576080432241}, {\"mean\": -0.019810229822929848, \"std\": 0.6110961456296016}, {\"mean\": -0.02111996179642786, \"std\": 0.6187163585221687}, {\"mean\": -0.03458529384315062, \"std\": 0.6096250323745398}, {\"mean\": -0.0213407337267344, \"std\": 0.6813567809047877}, {\"mean\": -0.015323651290397812, \"std\": 0.718984700425736}, {\"mean\": -0.011272442963601904, \"std\": 0.7047391948889989}, {\"mean\": -0.0055461702614900505, \"std\": 0.6190607756503628}, {\"mean\": -0.013859813781280322, \"std\": 0.6409934029565223}, {\"mean\": -0.02133596779910277, \"std\": 0.6287179192459855}, {\"mean\": -0.027131619506114805, \"std\": 0.6004938992010062}, {\"mean\": -0.026290200493844965, \"std\": 0.5859047888101622}, {\"mean\": -0.014422956216198367, \"std\": 0.6156164101346491}, {\"mean\": -0.015403719805703752, \"std\": 0.640562183227002}, {\"mean\": -0.00854954547033298, \"std\": 0.6427500445172839}, {\"mean\": -0.01612916330550648, \"std\": 0.617076400351925}, {\"mean\": 0.001468335922984349, \"std\": 0.6702320612589876}, {\"mean\": -0.019637135814451877, \"std\": 0.6014323783278777}, {\"mean\": -0.019523567406314436, \"std\": 0.6085900088881853}, {\"mean\": -0.024962268341800185, \"std\": 0.618978559305446}, {\"mean\": -0.032842529726552196, \"std\": 0.6691652444607453}, {\"mean\": -0.011708422564594012, \"std\": 0.6348461415227862}, {\"mean\": -0.008964088084919818, \"std\": 0.6829418417912405}, {\"mean\": -0.010790908880060105, \"std\": 0.6675210885845053}, {\"mean\": 0.0031880223292884914, \"std\": 0.6957829130655644}, {\"mean\": -0.007882472731162994, \"std\": 0.6665379196953374}, {\"mean\": -0.019347246976935194, \"std\": 0.5973671207040722}, {\"mean\": -0.025546658455397882, \"std\": 0.6073283909677694}, {\"mean\": -0.025664429035591532, \"std\": 0.6252962671101432}, {\"mean\": -0.020094355780052434, \"std\": 0.589707352531632}, {\"mean\": -0.01679661926175796, \"std\": 0.6091182304042727}, {\"mean\": -0.028416788617717976, \"std\": 0.5968074356255536}, {\"mean\": -0.020627474533126553, \"std\": 0.6030128104466519}, {\"mean\": -0.016065028060376907, \"std\": 0.6785335535222538}, {\"mean\": -0.03238191185150063, \"std\": 0.59956506396282}, {\"mean\": -0.031168207469404005, \"std\": 0.6369786708681917}, {\"mean\": -0.019752594959262508, \"std\": 0.6352134459665483}, {\"mean\": -0.03194788918754692, \"std\": 0.656110366715507}, {\"mean\": -0.024909598761603775, \"std\": 0.6823770252313403}, {\"mean\": -0.030712225327987754, \"std\": 0.6057885402852492}, {\"mean\": -0.008315452234141827, \"std\": 0.6593475954037838}, {\"mean\": -0.043935562436937095, \"std\": 0.6274502218076743}, {\"mean\": -0.005024637310087607, \"std\": 0.6654871726556953}, {\"mean\": -0.019673195754552782, \"std\": 0.6326242237639712}, {\"mean\": -0.01289266161549853, \"std\": 0.6066499005497618}, {\"mean\": -0.023450785197574497, \"std\": 0.6016156514122247}, {\"mean\": -0.017791293908813482, \"std\": 0.6626016227405607}, {\"mean\": -0.002232353942527037, \"std\": 0.6627617238056653}, {\"mean\": -0.02552483851849785, \"std\": 0.5909864828799077}, {\"mean\": -0.034787882837542826, \"std\": 0.6172237248652747}, {\"mean\": -0.013330900621244465, \"std\": 0.6203976162948648}, {\"mean\": -0.010837134133211046, \"std\": 0.6760855162362688}, {\"mean\": -0.01719816118568061, \"std\": 0.5982226669028093}, {\"mean\": -0.030283519898086742, \"std\": 0.6292775005875764}, {\"mean\": -0.028966047146125183, \"std\": 0.6287135200604995}, {\"mean\": -0.0006554222957109387, \"std\": 0.664025595106614}, {\"mean\": -0.0037983842660748567, \"std\": 0.6424892789110669}, {\"mean\": -0.010363502949941213, \"std\": 0.6196312846726943}, {\"mean\": -0.025847280106893637, \"std\": 0.6312081030986373}, {\"mean\": 8.519338747327147e-05, \"std\": 0.6829114281778064}, {\"mean\": -0.009256001729016307, \"std\": 0.6290458965383151}, {\"mean\": -0.005832820969935283, \"std\": 0.620802167655273}, {\"mean\": -0.0302325904023212, \"std\": 0.6678690765459769}, {\"mean\": 0.01022163525874851, \"std\": 0.7159219917914474}, {\"mean\": -0.010900049265744612, \"std\": 0.649887518216702}, {\"mean\": -0.007207744872784571, \"std\": 0.6481732879000299}, {\"mean\": -0.017123169760636273, \"std\": 0.6304031723939167}, {\"mean\": -0.02687382693169823, \"std\": 0.7112429726751812}, {\"mean\": -0.01967605432204458, \"std\": 0.6441288836998613}, {\"mean\": -0.016025804829640247, \"std\": 0.6551647256344656}, {\"mean\": -0.022542929416020256, \"std\": 0.6340012079304637}, {\"mean\": -0.03206409440640691, \"std\": 0.6210759645719957}, {\"mean\": -0.011991579688002532, \"std\": 0.6268577345810572}, {\"mean\": -0.01813860954151746, \"std\": 0.5918197106308501}, {\"mean\": -0.04087352931868998, \"std\": 0.6669554654893775}, {\"mean\": -0.014026560681166688, \"std\": 0.6341750994411843}, {\"mean\": -0.016141490434413704, \"std\": 0.5999110694450097}, {\"mean\": -0.029289730945174758, \"std\": 0.6603594259230727}, {\"mean\": -0.023851312059610476, \"std\": 0.7307098319833953}, {\"mean\": -0.022702301924292036, \"std\": 0.602608080510056}, {\"mean\": -0.012464674491514801, \"std\": 0.6797612625516039}, {\"mean\": -0.01728486737904465, \"std\": 0.621499755644198}, {\"mean\": -0.04462798026172545, \"std\": 0.651530520700958}, {\"mean\": -0.02906266871076373, \"std\": 0.6054398521506611}, {\"mean\": -0.021851681892219855, \"std\": 0.6544445629930948}, {\"mean\": -0.01576709582466016, \"std\": 0.7246081625926619}, {\"mean\": -0.013496999407914182, \"std\": 0.6333157390461989}, {\"mean\": -0.03385546730215843, \"std\": 0.6359997516427688}, {\"mean\": -0.019769559281853942, \"std\": 0.6185186654867942}, {\"mean\": -0.015007224125753548, \"std\": 0.6981962458746525}, {\"mean\": -0.02783342568385498, \"std\": 0.6226884274291622}, {\"mean\": -0.023946514532971832, \"std\": 0.6322999827992597}, {\"mean\": -0.011194344002144625, \"std\": 0.6366886084149859}, {\"mean\": -0.006189360963418302, \"std\": 0.6457990506770152}, {\"mean\": -0.011700091616791322, \"std\": 0.6293515813312867}, {\"mean\": -0.021049000746674748, \"std\": 0.593418114641102}, {\"mean\": -0.02333332310999102, \"std\": 0.6286082638663937}, {\"mean\": -0.014867130464369011, \"std\": 0.6511188198094557}, {\"mean\": -0.028043064944579296, \"std\": 0.6190560167803101}, {\"mean\": -0.03535565805966503, \"std\": 0.6322318953008486}, {\"mean\": -0.02031082037032635, \"std\": 0.6005267411299411}, {\"mean\": -0.013346893886023408, \"std\": 0.6902919487980999}, {\"mean\": -0.0033470459010880105, \"std\": 0.6846013072257415}, {\"mean\": 0.014069909772490546, \"std\": 0.7919238286188159}, {\"mean\": -0.0012665153417225367, \"std\": 0.6371915357507996}, {\"mean\": -0.025371411678537688, \"std\": 0.6016514313360761}, {\"mean\": -0.04248345606942933, \"std\": 0.6295010706499115}, {\"mean\": 0.009373690449434995, \"std\": 0.7187297220524929}, {\"mean\": -0.013616750802129839, \"std\": 0.7190858464935079}, {\"mean\": -0.02433654052769627, \"std\": 0.6271518356578888}, {\"mean\": -0.013571867556466432, \"std\": 0.6281643971195405}, {\"mean\": -0.026757287094076536, \"std\": 0.6070315241522944}, {\"mean\": -0.022694831295979667, \"std\": 0.627341051631564}, {\"mean\": -0.01600144371255479, \"std\": 0.651698462773124}, {\"mean\": -0.02690440196622641, \"std\": 0.6177224682545683}, {\"mean\": 0.0014550654748653954, \"std\": 0.6468709592778683}, {\"mean\": -0.014967929919895566, \"std\": 0.6496387639558602}, {\"mean\": -0.014481141668937228, \"std\": 0.6947771905348749}, {\"mean\": -0.01312043001372421, \"std\": 0.609057792231901}, {\"mean\": -0.00928143788152044, \"std\": 0.6671947969294081}, {\"mean\": -0.03756967074614268, \"std\": 0.6540117381799619}, {\"mean\": -0.019326755480984805, \"std\": 0.6829779862465243}, {\"mean\": -0.040853514839725415, \"std\": 0.6280119898945569}, {\"mean\": -0.0004697256820106298, \"std\": 0.6456288187640151}, {\"mean\": -0.013217190749361092, \"std\": 0.6404837706875363}, {\"mean\": -0.01131044588872912, \"std\": 0.641026663308962}, {\"mean\": -0.015609345247696409, \"std\": 0.5996055074067143}, {\"mean\": 0.003142269171742424, \"std\": 0.6673239642019945}, {\"mean\": -0.018118550847346218, \"std\": 0.6142026642533606}, {\"mean\": -0.016533877006098083, \"std\": 0.6179922067484789}, {\"mean\": -0.03552464378251505, \"std\": 0.6419372035016907}, {\"mean\": -0.006119131224589073, \"std\": 0.6792662955445067}, {\"mean\": -0.022790197187345793, \"std\": 0.6465808969120287}, {\"mean\": -0.010844498428071135, \"std\": 0.6498068154149568}, {\"mean\": -0.02609388378705868, \"std\": 0.6230300338660847}, {\"mean\": -0.02379302869066355, \"std\": 0.625959311217991}, {\"mean\": 0.00903586870836832, \"std\": 0.7381364426510013}, {\"mean\": -0.01771115705828392, \"std\": 0.6949242949482081}, {\"mean\": -0.006829784494267641, \"std\": 0.6419453951313532}, {\"mean\": -0.02882951070645196, \"std\": 0.617989762118934}, {\"mean\": -0.0032340725664280956, \"std\": 0.6353040514703598}, {\"mean\": -0.014829820282630784, \"std\": 0.6265660277627283}, {\"mean\": 0.0020549928990515665, \"std\": 0.7212118561003785}, {\"mean\": -0.020782841924428957, \"std\": 0.7379561617414829}, {\"mean\": 0.0046681048067462585, \"std\": 0.7003477356156935}, {\"mean\": -0.017339387510935302, \"std\": 0.6445884538589325}, {\"mean\": -0.005247797329710039, \"std\": 0.6814789991687488}, {\"mean\": -0.014060899186814793, \"std\": 0.6734284219690254}, {\"mean\": -0.019342670591279153, \"std\": 0.5957630665804231}, {\"mean\": -0.04068554552819451, \"std\": 0.6298753462273561}, {\"mean\": -0.036856358846816685, \"std\": 0.5979151543589428}, {\"mean\": -0.025565883604974384, \"std\": 0.5991975733997185}, {\"mean\": 0.00229548065665844, \"std\": 0.7101463502402251}, {\"mean\": -0.020759373752686404, \"std\": 0.6661294715089643}, {\"mean\": -0.006942936748947761, \"std\": 0.6552166895227984}, {\"mean\": -0.012149141607502495, \"std\": 0.645761164958583}, {\"mean\": -0.022608329499265768, \"std\": 0.6339500961614557}, {\"mean\": -0.021303628797071712, \"std\": 0.5971941040726972}, {\"mean\": -0.012885372856302021, \"std\": 0.5994876914178201}, {\"mean\": 0.01217950730229557, \"std\": 0.7958523675115668}, {\"mean\": -0.02417692036412658, \"std\": 0.6173452905536666}, {\"mean\": -0.018908353537527497, \"std\": 0.6080699244602137}, {\"mean\": -0.030215095831575462, \"std\": 0.6245494671657307}, {\"mean\": -0.01654440049119868, \"std\": 0.6418616880510407}, {\"mean\": -0.0256861221713827, \"std\": 0.6173660662415359}, {\"mean\": 0.000373513600587482, \"std\": 0.7509653702171235}, {\"mean\": -0.021852503255847443, \"std\": 0.708225119559501}, {\"mean\": -0.023332639566184952, \"std\": 0.6675565282092933}, {\"mean\": -0.014603550361728352, \"std\": 0.6403328786555555}, {\"mean\": -0.012416157411910827, \"std\": 0.6497614207928252}, {\"mean\": -0.012830484455501187, \"std\": 0.6288626909012186}, {\"mean\": -0.000958176616428704, \"std\": 0.6946409654339079}, {\"mean\": -0.008009394401323689, \"std\": 0.6306862226183398}, {\"mean\": -0.014392372486793798, \"std\": 0.6378611727354095}, {\"mean\": -0.019448523925930675, \"std\": 0.6226706974923761}, {\"mean\": -0.02052428503289498, \"std\": 0.6114107947071892}, {\"mean\": -0.020950839610803438, \"std\": 0.6639409478326112}, {\"mean\": -0.018872602486979993, \"std\": 0.6740452366664776}, {\"mean\": -0.0010150917525936927, \"std\": 0.6768640486855075}, {\"mean\": -0.01498426034280588, \"std\": 0.8067051491160404}, {\"mean\": -0.016363699015405547, \"std\": 0.639491238935738}, {\"mean\": -0.019104632454975335, \"std\": 0.7569142698647288}, {\"mean\": -0.01385683296980303, \"std\": 0.6469849316123955}, {\"mean\": -0.02134611156960768, \"std\": 0.5868825024550622}, {\"mean\": -0.01783617397808541, \"std\": 0.6132155923009099}, {\"mean\": -0.023242121121987508, \"std\": 0.6144976298350447}, {\"mean\": -0.006578186770439307, \"std\": 0.6539817784428653}, {\"mean\": -0.012198380748902497, \"std\": 0.633729597576634}, {\"mean\": -0.021289574014379295, \"std\": 0.5997622431539}, {\"mean\": -0.02998401272490481, \"std\": 0.5900246168521462}, {\"mean\": -0.013657118319171666, \"std\": 0.6627594178524668}, {\"mean\": -0.026428245935850327, \"std\": 0.6087691989244987}, {\"mean\": -0.007674021632525347, \"std\": 0.7925989422288845}, {\"mean\": -0.006368117316334043, \"std\": 0.639989478054434}, {\"mean\": -0.018046311244837354, \"std\": 0.6119008526443495}, {\"mean\": -0.0035104077213254253, \"std\": 0.7424459531812916}, {\"mean\": -0.018747665591610858, \"std\": 0.64616798589117}, {\"mean\": 0.002525721504883313, \"std\": 0.7017958126817592}, {\"mean\": -0.020401300566575933, \"std\": 0.5983002686286346}, {\"mean\": -0.008513554647277393, \"std\": 0.6341794956960546}, {\"mean\": -0.025995802051918992, \"std\": 0.6199725819490459}, {\"mean\": -0.024808795105017288, \"std\": 0.6549408259058238}, {\"mean\": 0.0016881520460649351, \"std\": 0.7330368205992465}, {\"mean\": 0.005219651576416957, \"std\": 0.7264168265220639}, {\"mean\": -0.003435678930355611, \"std\": 0.6840388937324415}, {\"mean\": -0.007675914443068017, \"std\": 0.6648702425681338}, {\"mean\": -0.013727158542404238, \"std\": 0.6674001977210301}, {\"mean\": -0.019601705130586938, \"std\": 0.601655328697024}, {\"mean\": -0.0343173162804786, \"std\": 0.6117576689340046}, {\"mean\": -0.002033363793725056, \"std\": 0.6376720525335309}, {\"mean\": -0.006967455135276173, \"std\": 0.6586318840169214}, {\"mean\": -0.026094782037764674, \"std\": 0.6493712645539912}, {\"mean\": -0.028974905559689578, \"std\": 0.6135530067966879}, {\"mean\": -0.012180449819541316, \"std\": 0.6599772649696046}, {\"mean\": -0.038982735108805094, \"std\": 0.6675930230970508}, {\"mean\": 0.0053969787542470435, \"std\": 0.6993110710642647}, {\"mean\": -0.020163478608597827, \"std\": 0.61025136581943}, {\"mean\": -0.043778589824673364, \"std\": 0.6445787752225344}, {\"mean\": -0.015215068200659803, \"std\": 0.6129131237373445}, {\"mean\": -0.018229645396505793, \"std\": 0.6248522060952844}, {\"mean\": -0.0016911088326107436, \"std\": 0.6814994242217101}, {\"mean\": -0.023222846758056512, \"std\": 0.6419761324446773}, {\"mean\": -0.029039668325609877, \"std\": 0.5924811794476124}, {\"mean\": -0.0013336364057562956, \"std\": 0.63695787029593}, {\"mean\": -0.003776253777312444, \"std\": 0.6540200413157723}, {\"mean\": -0.010256762066641795, \"std\": 0.6968992846411447}, {\"mean\": -0.04013304616163552, \"std\": 0.618183924586366}, {\"mean\": -0.018560348886806275, \"std\": 0.6795650184451927}, {\"mean\": 0.011138696035107252, \"std\": 0.7437971233026622}, {\"mean\": -0.012996604820885202, \"std\": 0.6077902236962688}, {\"mean\": -0.01182732218712253, \"std\": 0.6425849829106643}, {\"mean\": -0.017992993712534988, \"std\": 0.7650011474181447}, {\"mean\": -0.018605467678505152, \"std\": 0.6128236904694314}, {\"mean\": -0.04051233162913171, \"std\": 0.6107974877440578}, {\"mean\": -0.010555713498839773, \"std\": 0.6909184598640861}, {\"mean\": -0.006556818934349177, \"std\": 0.629092023307008}, {\"mean\": -0.018011445870329004, \"std\": 0.7081550928016068}, {\"mean\": 0.008143784496711168, \"std\": 0.756535075409297}, {\"mean\": -0.0023986697643534178, \"std\": 0.6386320193908669}, {\"mean\": -0.011869709723188723, \"std\": 0.6172667275334638}, {\"mean\": -0.0132077290511095, \"std\": 0.6502701346938913}, {\"mean\": -0.018101006269675094, \"std\": 0.7064134021539539}, {\"mean\": -0.02721719168726293, \"std\": 0.5967012323411853}, {\"mean\": -0.02696466217680514, \"std\": 0.6100728944310776}, {\"mean\": -0.014150652852862548, \"std\": 0.6673935055473623}, {\"mean\": -0.01658821585403714, \"std\": 0.5993370780025514}, {\"mean\": -0.026059061175200637, \"std\": 0.5923233791393064}, {\"mean\": -0.029547239803762528, \"std\": 0.6126793327661806}, {\"mean\": -0.01783233120604487, \"std\": 0.6064225904489086}, {\"mean\": -0.017575821367759495, \"std\": 0.7103183079605396}, {\"mean\": -0.004344511994831945, \"std\": 0.6479782590623949}, {\"mean\": -0.018916895147485808, \"std\": 0.6533113448829825}, {\"mean\": -0.012587504462216615, \"std\": 0.69086247699952}, {\"mean\": -0.004968991739936858, \"std\": 0.6216402288644807}, {\"mean\": -0.01403002079415458, \"std\": 0.6213163691588964}, {\"mean\": -0.007556609357698472, \"std\": 0.633288053113849}, {\"mean\": -0.022771867275513325, \"std\": 0.6439758777033706}, {\"mean\": -0.03604042135553502, \"std\": 0.615704378643075}, {\"mean\": -0.027552564440616982, \"std\": 0.585880071601195}, {\"mean\": -0.0019358280188716962, \"std\": 0.6879145180062899}, {\"mean\": -0.0142377569129412, \"std\": 0.6229355407911167}, {\"mean\": -0.012013107727298312, \"std\": 0.6570933969059073}, {\"mean\": -0.0057530985406564665, \"std\": 0.6726455367075114}, {\"mean\": -0.022103448107766138, \"std\": 0.6244954896891849}, {\"mean\": -0.015307260296449994, \"std\": 0.7418476968105301}, {\"mean\": -0.015367690303495147, \"std\": 0.6914602578334498}, {\"mean\": -0.01616627579391764, \"std\": 0.6324012288779236}, {\"mean\": -0.01510765258849631, \"std\": 0.6435642422280724}, {\"mean\": -0.019355064334593882, \"std\": 0.6034670930873164}, {\"mean\": -0.02229121205697943, \"std\": 0.6079540323491963}, {\"mean\": -0.015745600456018388, \"std\": 0.6134719544723602}, {\"mean\": -0.011882791071429078, \"std\": 0.6235754522499072}, {\"mean\": -0.004656139857333021, \"std\": 0.6598434280895766}, {\"mean\": -0.03223378356183904, \"std\": 0.6712748212212347}, {\"mean\": -0.04070199544496038, \"std\": 0.6099114303711713}, {\"mean\": -0.015812924273180682, \"std\": 0.6231376845688067}, {\"mean\": -0.01650201571248981, \"std\": 0.6076835539819935}, {\"mean\": 0.006026949282703787, \"std\": 0.7066654555525155}, {\"mean\": -0.02463483764410586, \"std\": 0.6236720543377426}, {\"mean\": -0.013295099721260504, \"std\": 0.6566131236861037}, {\"mean\": 0.0005467690024822604, \"std\": 0.686100488491158}, {\"mean\": -0.008007711412338348, \"std\": 0.7185178559322827}, {\"mean\": -0.009783304057513742, \"std\": 0.6536578787941237}, {\"mean\": -0.029432053855634265, \"std\": 0.61750038126892}, {\"mean\": -0.026741467025797015, \"std\": 0.5949401192459012}, {\"mean\": -0.008833745182925597, \"std\": 0.635759952139278}, {\"mean\": -0.0006427381351464027, \"std\": 0.657526660242518}, {\"mean\": -0.004393859865975072, \"std\": 0.6727271631410419}, {\"mean\": -0.025208764610912274, \"std\": 0.612964260027848}, {\"mean\": -0.004372765757624387, \"std\": 0.6399285323161154}, {\"mean\": -0.01397706636998539, \"std\": 0.6233475063726399}, {\"mean\": -0.030414663555173357, \"std\": 0.6088807317018441}, {\"mean\": -0.027566740267449517, \"std\": 0.638637873085515}, {\"mean\": -0.029805533824997236, \"std\": 0.6102290411006059}, {\"mean\": -0.0135100681278774, \"std\": 0.6766160201714544}, {\"mean\": -0.02295108970778931, \"std\": 0.6621154724505495}, {\"mean\": -0.02924016218431955, \"std\": 0.6988909224868532}, {\"mean\": 0.0023651007287575562, \"std\": 0.7163904696669312}, {\"mean\": -0.02461883432970462, \"std\": 0.6260361376669471}, {\"mean\": -0.01972089618157414, \"std\": 0.6222382521664672}, {\"mean\": 0.003194781538416175, \"std\": 0.7245756737698219}, {\"mean\": -0.023990845453770997, \"std\": 0.6139187992720839}, {\"mean\": -0.029263208193919168, \"std\": 0.5969891971427785}, {\"mean\": -0.026057443364921176, \"std\": 0.6005106817502774}, {\"mean\": -0.017704659259011248, \"std\": 0.7355113029018241}, {\"mean\": -0.00820425446004885, \"std\": 0.6428326659885687}, {\"mean\": -0.01290888896670424, \"std\": 0.64778878462076}, {\"mean\": -0.03497351601358452, \"std\": 0.619928631149291}, {\"mean\": -0.01870785036142606, \"std\": 0.6126378949318155}, {\"mean\": -0.016715853888851846, \"std\": 0.6574100656982967}, {\"mean\": -0.02116680725653165, \"std\": 0.6273278593948681}, {\"mean\": -0.004089392097043525, \"std\": 0.6583812269650757}, {\"mean\": -0.03097454110467341, \"std\": 0.6132714801150334}, {\"mean\": -0.0009715666875275895, \"std\": 0.6778641232284083}, {\"mean\": -0.01214788898008278, \"std\": 0.7206174458700261}, {\"mean\": -0.003422622995566867, \"std\": 0.6697679800812099}, {\"mean\": -0.004475633762700127, \"std\": 0.6280808592758355}, {\"mean\": -0.02047500166342673, \"std\": 0.6555158156409068}, {\"mean\": -0.0031638790380261648, \"std\": 0.6570073888880257}, {\"mean\": -0.015742933248220074, \"std\": 0.695975231021649}, {\"mean\": -0.020399657056890654, \"std\": 0.626340696246415}, {\"mean\": -0.01374850000180468, \"std\": 0.6390983249525726}, {\"mean\": -0.036042723267600614, \"std\": 0.7213702814755328}, {\"mean\": -0.0316668693756473, \"std\": 0.6155544931006753}, {\"mean\": -0.008053107131563363, \"std\": 0.6591967235177523}, {\"mean\": -0.02506893264478237, \"std\": 0.6404609447192077}, {\"mean\": -0.0323293573166317, \"std\": 0.6176257216681214}, {\"mean\": -0.01054931700656632, \"std\": 0.6484874233095003}, {\"mean\": -0.02776095426765571, \"std\": 0.6434884611231724}, {\"mean\": -0.024485303708748966, \"std\": 0.6239091921233939}, {\"mean\": -0.009464477095240632, \"std\": 0.6232690635039467}, {\"mean\": -0.024936049765777926, \"std\": 0.6160049377725716}, {\"mean\": -0.021626852975531533, \"std\": 0.6553093627133567}, {\"mean\": -0.017845083737231544, \"std\": 0.769855716822439}, {\"mean\": -0.0385870423561861, \"std\": 0.6225023074762362}, {\"mean\": -0.03415470016283477, \"std\": 0.6122127137620667}, {\"mean\": -0.0073892479495402145, \"std\": 0.6279416779459732}, {\"mean\": -0.022535304732669556, \"std\": 0.6078539354453125}, {\"mean\": -0.0021764026310542523, \"std\": 0.6355873486099498}, {\"mean\": -0.021970911030102687, \"std\": 0.6001980971617847}, {\"mean\": -0.022132147368924698, \"std\": 0.5931455672391168}, {\"mean\": -0.026348529054025027, \"std\": 0.6182737936452849}, {\"mean\": -0.017146393598903912, \"std\": 0.6159431231260701}]}}, {\"mode\": \"vega-lite\"});\n",
       "</script>"
      ],
      "text/plain": [
       "alt.LayerChart(...)"
      ]
     },
     "execution_count": 177,
     "metadata": {},
     "output_type": "execute_result"
    }
   ],
   "source": [
    "circle = alt.Chart(reits_rate.describe().loc[['mean','std']].T.drop(['KOSPI수익률'])).mark_circle().encode(\n",
    "    x = alt.X('std', scale=alt.Scale(domain=[0.5, 2])),\n",
    "    y = alt.Y('mean')\n",
    ")\n",
    "\n",
    "text = alt.Chart(reits_rate.describe().loc[['mean','std']].T.drop((['KOSPI수익률'])).reset_index()).mark_text(align='left', baseline='line-top').encode(\n",
    "    x = 'std',\n",
    "    y = 'mean',\n",
    "    text = 'index'    \n",
    ")\n",
    "\n",
    "circle2 = alt.Chart(portfolio_2).mark_circle(color = 'green').encode(\n",
    "    x = 'std',\n",
    "    y = 'mean'\n",
    ")\n",
    "\n",
    "(circle + text + circle2).properties(width = 600, height = 400)"
   ]
  },
  {
   "cell_type": "code",
   "execution_count": 173,
   "metadata": {},
   "outputs": [
    {
     "data": {
      "text/html": [
       "<div>\n",
       "<style scoped>\n",
       "    .dataframe tbody tr th:only-of-type {\n",
       "        vertical-align: middle;\n",
       "    }\n",
       "\n",
       "    .dataframe tbody tr th {\n",
       "        vertical-align: top;\n",
       "    }\n",
       "\n",
       "    .dataframe thead th {\n",
       "        text-align: right;\n",
       "    }\n",
       "</style>\n",
       "<table border=\"1\" class=\"dataframe\">\n",
       "  <thead>\n",
       "    <tr style=\"text-align: right;\">\n",
       "      <th></th>\n",
       "      <th>mean</th>\n",
       "      <th>std</th>\n",
       "    </tr>\n",
       "  </thead>\n",
       "  <tbody>\n",
       "    <tr>\n",
       "      <th>541</th>\n",
       "      <td>0.00544</td>\n",
       "      <td>0.679612</td>\n",
       "    </tr>\n",
       "  </tbody>\n",
       "</table>\n",
       "</div>"
      ],
      "text/plain": [
       "        mean       std\n",
       "541  0.00544  0.679612"
      ]
     },
     "execution_count": 173,
     "metadata": {},
     "output_type": "execute_result"
    }
   ],
   "source": [
    "portfolio_2.loc[lambda x : x['mean'] >= 0.005]\n",
    "portfolio_2.loc[[541]]"
   ]
  },
  {
   "cell_type": "code",
   "execution_count": 174,
   "metadata": {},
   "outputs": [
    {
     "data": {
      "text/plain": [
       "array([0.28907698, 0.080617  , 0.01139767, 0.13830598, 0.09822541,\n",
       "       0.05529907, 0.20043914, 0.12663874])"
      ]
     },
     "execution_count": 174,
     "metadata": {},
     "output_type": "execute_result"
    }
   ],
   "source": [
    "X2[541]"
   ]
  },
  {
   "cell_type": "code",
   "execution_count": 176,
   "metadata": {},
   "outputs": [
    {
     "data": {
      "text/plain": [
       "Index(['ESR종목종가', '에너지리츠종목종가', '맵스종목종가', '이지스레지던스종목종가', 'NH프라임종목종가',\n",
       "       '신한알파종목종가', '이리츠종목종가', '에이리츠'],\n",
       "      dtype='object')"
      ]
     },
     "execution_count": 176,
     "metadata": {},
     "output_type": "execute_result"
    }
   ],
   "source": [
    "rs3.columns"
   ]
  },
  {
   "cell_type": "code",
   "execution_count": null,
   "metadata": {},
   "outputs": [],
   "source": []
  }
 ],
 "metadata": {
  "kernelspec": {
   "display_name": "Python 3",
   "language": "python",
   "name": "python3"
  },
  "language_info": {
   "codemirror_mode": {
    "name": "ipython",
    "version": 3
   },
   "file_extension": ".py",
   "mimetype": "text/x-python",
   "name": "python",
   "nbconvert_exporter": "python",
   "pygments_lexer": "ipython3",
   "version": "3.7.6"
  }
 },
 "nbformat": 4,
 "nbformat_minor": 4
}
